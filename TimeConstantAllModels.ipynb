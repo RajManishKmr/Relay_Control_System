{
 "cells": [
  {
   "cell_type": "code",
   "execution_count": 1,
   "id": "8a648faa",
   "metadata": {},
   "outputs": [],
   "source": [
    "import numpy as np\n",
    "import matplotlib.pyplot as plt\n",
    "import pandas as pd\n",
    "from sklearn.tree import DecisionTreeRegressor\n",
    "import matplotlib.pyplot as plt\n",
    "import seaborn as sns\n",
    "from sklearn.ensemble import RandomForestRegressor, GradientBoostingRegressor\n",
    "from sklearn.svm import SVR\n",
    "from sklearn.neighbors import KNeighborsRegressor\n",
    "from sklearn.linear_model import LinearRegression\n",
    "from sklearn.preprocessing import PolynomialFeatures\n",
    "from sklearn.pipeline import make_pipeline\n",
    "from sklearn.model_selection import GridSearchCV, train_test_split, cross_val_score\n",
    "from sklearn.metrics import r2_score, mean_squared_error\n",
    "from sklearn.tree import DecisionTreeRegressor\n",
    "from xgboost import XGBRegressor\n",
    "\n"
   ]
  },
  {
   "cell_type": "code",
   "execution_count": 2,
   "id": "dbea6958",
   "metadata": {},
   "outputs": [],
   "source": [
    "data = pd.read_csv('finaldata6.csv')"
   ]
  },
  {
   "cell_type": "code",
   "execution_count": 3,
   "id": "c1e8f0d8",
   "metadata": {},
   "outputs": [],
   "source": [
    "data.drop(['Unnamed: 0'], axis = 1, inplace = True)"
   ]
  },
  {
   "cell_type": "code",
   "execution_count": 4,
   "id": "b2c66d09",
   "metadata": {},
   "outputs": [],
   "source": [
    "y = data['Time Constant']"
   ]
  },
  {
   "cell_type": "code",
   "execution_count": 5,
   "id": "b4737df8",
   "metadata": {},
   "outputs": [],
   "source": [
    "X=data.iloc[:,:-2]"
   ]
  },
  {
   "cell_type": "code",
   "execution_count": 6,
   "id": "d51689f7",
   "metadata": {},
   "outputs": [
    {
     "data": {
      "text/plain": [
       "0       48.241712\n",
       "1       39.844859\n",
       "2       35.466772\n",
       "3       40.875800\n",
       "4       54.891868\n",
       "          ...    \n",
       "191    127.028622\n",
       "192    190.405133\n",
       "193    189.558470\n",
       "194    172.971370\n",
       "195    214.015430\n",
       "Name: Time Constant, Length: 196, dtype: float64"
      ]
     },
     "execution_count": 6,
     "metadata": {},
     "output_type": "execute_result"
    }
   ],
   "source": [
    "y"
   ]
  },
  {
   "cell_type": "code",
   "execution_count": 7,
   "id": "8ed6888a",
   "metadata": {},
   "outputs": [
    {
     "data": {
      "text/html": [
       "<div>\n",
       "<style scoped>\n",
       "    .dataframe tbody tr th:only-of-type {\n",
       "        vertical-align: middle;\n",
       "    }\n",
       "\n",
       "    .dataframe tbody tr th {\n",
       "        vertical-align: top;\n",
       "    }\n",
       "\n",
       "    .dataframe thead th {\n",
       "        text-align: right;\n",
       "    }\n",
       "</style>\n",
       "<table border=\"1\" class=\"dataframe\">\n",
       "  <thead>\n",
       "    <tr style=\"text-align: right;\">\n",
       "      <th></th>\n",
       "      <th>Relay Height</th>\n",
       "      <th>Amplitude</th>\n",
       "      <th>Time Period</th>\n",
       "    </tr>\n",
       "  </thead>\n",
       "  <tbody>\n",
       "    <tr>\n",
       "      <th>0</th>\n",
       "      <td>6.0</td>\n",
       "      <td>0.0655</td>\n",
       "      <td>2.5988</td>\n",
       "    </tr>\n",
       "    <tr>\n",
       "      <th>1</th>\n",
       "      <td>6.0</td>\n",
       "      <td>0.0830</td>\n",
       "      <td>2.7200</td>\n",
       "    </tr>\n",
       "    <tr>\n",
       "      <th>2</th>\n",
       "      <td>6.0</td>\n",
       "      <td>0.0960</td>\n",
       "      <td>2.8004</td>\n",
       "    </tr>\n",
       "    <tr>\n",
       "      <th>3</th>\n",
       "      <td>6.0</td>\n",
       "      <td>0.0840</td>\n",
       "      <td>2.8240</td>\n",
       "    </tr>\n",
       "    <tr>\n",
       "      <th>4</th>\n",
       "      <td>6.0</td>\n",
       "      <td>0.0625</td>\n",
       "      <td>2.8216</td>\n",
       "    </tr>\n",
       "    <tr>\n",
       "      <th>...</th>\n",
       "      <td>...</td>\n",
       "      <td>...</td>\n",
       "      <td>...</td>\n",
       "    </tr>\n",
       "    <tr>\n",
       "      <th>191</th>\n",
       "      <td>12.0</td>\n",
       "      <td>0.3530</td>\n",
       "      <td>18.4440</td>\n",
       "    </tr>\n",
       "    <tr>\n",
       "      <th>192</th>\n",
       "      <td>12.0</td>\n",
       "      <td>0.2600</td>\n",
       "      <td>20.3600</td>\n",
       "    </tr>\n",
       "    <tr>\n",
       "      <th>193</th>\n",
       "      <td>12.0</td>\n",
       "      <td>0.2770</td>\n",
       "      <td>21.5952</td>\n",
       "    </tr>\n",
       "    <tr>\n",
       "      <th>194</th>\n",
       "      <td>12.0</td>\n",
       "      <td>0.3115</td>\n",
       "      <td>22.1608</td>\n",
       "    </tr>\n",
       "    <tr>\n",
       "      <th>195</th>\n",
       "      <td>12.0</td>\n",
       "      <td>0.2635</td>\n",
       "      <td>23.1928</td>\n",
       "    </tr>\n",
       "  </tbody>\n",
       "</table>\n",
       "<p>196 rows × 3 columns</p>\n",
       "</div>"
      ],
      "text/plain": [
       "     Relay Height  Amplitude  Time Period\n",
       "0             6.0     0.0655       2.5988\n",
       "1             6.0     0.0830       2.7200\n",
       "2             6.0     0.0960       2.8004\n",
       "3             6.0     0.0840       2.8240\n",
       "4             6.0     0.0625       2.8216\n",
       "..            ...        ...          ...\n",
       "191          12.0     0.3530      18.4440\n",
       "192          12.0     0.2600      20.3600\n",
       "193          12.0     0.2770      21.5952\n",
       "194          12.0     0.3115      22.1608\n",
       "195          12.0     0.2635      23.1928\n",
       "\n",
       "[196 rows x 3 columns]"
      ]
     },
     "execution_count": 7,
     "metadata": {},
     "output_type": "execute_result"
    }
   ],
   "source": [
    "X"
   ]
  },
  {
   "cell_type": "code",
   "execution_count": 8,
   "id": "667f226f",
   "metadata": {},
   "outputs": [],
   "source": [
    "from sklearn.model_selection import train_test_split\n",
    "X_train, X_test, y_train, y_test = train_test_split(X, y, test_size = 0.2, random_state = 2)"
   ]
  },
  {
   "cell_type": "code",
   "execution_count": 9,
   "id": "2887eae6",
   "metadata": {},
   "outputs": [
    {
     "data": {
      "text/html": [
       "<div>\n",
       "<style scoped>\n",
       "    .dataframe tbody tr th:only-of-type {\n",
       "        vertical-align: middle;\n",
       "    }\n",
       "\n",
       "    .dataframe tbody tr th {\n",
       "        vertical-align: top;\n",
       "    }\n",
       "\n",
       "    .dataframe thead th {\n",
       "        text-align: right;\n",
       "    }\n",
       "</style>\n",
       "<table border=\"1\" class=\"dataframe\">\n",
       "  <thead>\n",
       "    <tr style=\"text-align: right;\">\n",
       "      <th></th>\n",
       "      <th>Relay Height</th>\n",
       "      <th>Amplitude</th>\n",
       "      <th>Time Period</th>\n",
       "    </tr>\n",
       "  </thead>\n",
       "  <tbody>\n",
       "    <tr>\n",
       "      <th>10</th>\n",
       "      <td>6.0</td>\n",
       "      <td>0.08500</td>\n",
       "      <td>3.23680</td>\n",
       "    </tr>\n",
       "    <tr>\n",
       "      <th>79</th>\n",
       "      <td>8.0</td>\n",
       "      <td>0.22700</td>\n",
       "      <td>6.18920</td>\n",
       "    </tr>\n",
       "    <tr>\n",
       "      <th>165</th>\n",
       "      <td>12.0</td>\n",
       "      <td>0.55450</td>\n",
       "      <td>1.57410</td>\n",
       "    </tr>\n",
       "    <tr>\n",
       "      <th>143</th>\n",
       "      <td>10.0</td>\n",
       "      <td>0.23700</td>\n",
       "      <td>18.60000</td>\n",
       "    </tr>\n",
       "    <tr>\n",
       "      <th>163</th>\n",
       "      <td>12.0</td>\n",
       "      <td>0.54450</td>\n",
       "      <td>1.46300</td>\n",
       "    </tr>\n",
       "    <tr>\n",
       "      <th>134</th>\n",
       "      <td>10.0</td>\n",
       "      <td>0.27000</td>\n",
       "      <td>8.40000</td>\n",
       "    </tr>\n",
       "    <tr>\n",
       "      <th>35</th>\n",
       "      <td>6.0</td>\n",
       "      <td>0.10350</td>\n",
       "      <td>12.82000</td>\n",
       "    </tr>\n",
       "    <tr>\n",
       "      <th>137</th>\n",
       "      <td>10.0</td>\n",
       "      <td>0.22100</td>\n",
       "      <td>10.95000</td>\n",
       "    </tr>\n",
       "    <tr>\n",
       "      <th>25</th>\n",
       "      <td>6.0</td>\n",
       "      <td>0.13950</td>\n",
       "      <td>6.02440</td>\n",
       "    </tr>\n",
       "    <tr>\n",
       "      <th>2</th>\n",
       "      <td>6.0</td>\n",
       "      <td>0.09600</td>\n",
       "      <td>2.80040</td>\n",
       "    </tr>\n",
       "    <tr>\n",
       "      <th>12</th>\n",
       "      <td>6.0</td>\n",
       "      <td>0.07950</td>\n",
       "      <td>3.98900</td>\n",
       "    </tr>\n",
       "    <tr>\n",
       "      <th>128</th>\n",
       "      <td>10.0</td>\n",
       "      <td>0.39800</td>\n",
       "      <td>3.88200</td>\n",
       "    </tr>\n",
       "    <tr>\n",
       "      <th>180</th>\n",
       "      <td>12.0</td>\n",
       "      <td>0.31400</td>\n",
       "      <td>6.09600</td>\n",
       "    </tr>\n",
       "    <tr>\n",
       "      <th>3</th>\n",
       "      <td>6.0</td>\n",
       "      <td>0.08400</td>\n",
       "      <td>2.82400</td>\n",
       "    </tr>\n",
       "    <tr>\n",
       "      <th>48</th>\n",
       "      <td>6.0</td>\n",
       "      <td>0.05250</td>\n",
       "      <td>4.59688</td>\n",
       "    </tr>\n",
       "    <tr>\n",
       "      <th>29</th>\n",
       "      <td>6.0</td>\n",
       "      <td>0.15250</td>\n",
       "      <td>7.20600</td>\n",
       "    </tr>\n",
       "    <tr>\n",
       "      <th>14</th>\n",
       "      <td>6.0</td>\n",
       "      <td>0.10900</td>\n",
       "      <td>4.40420</td>\n",
       "    </tr>\n",
       "    <tr>\n",
       "      <th>119</th>\n",
       "      <td>10.0</td>\n",
       "      <td>0.39800</td>\n",
       "      <td>2.19460</td>\n",
       "    </tr>\n",
       "    <tr>\n",
       "      <th>6</th>\n",
       "      <td>6.0</td>\n",
       "      <td>0.06600</td>\n",
       "      <td>2.79880</td>\n",
       "    </tr>\n",
       "    <tr>\n",
       "      <th>23</th>\n",
       "      <td>6.0</td>\n",
       "      <td>0.10800</td>\n",
       "      <td>5.18670</td>\n",
       "    </tr>\n",
       "    <tr>\n",
       "      <th>108</th>\n",
       "      <td>10.0</td>\n",
       "      <td>0.36500</td>\n",
       "      <td>0.75224</td>\n",
       "    </tr>\n",
       "    <tr>\n",
       "      <th>144</th>\n",
       "      <td>10.0</td>\n",
       "      <td>0.24300</td>\n",
       "      <td>19.38400</td>\n",
       "    </tr>\n",
       "    <tr>\n",
       "      <th>130</th>\n",
       "      <td>10.0</td>\n",
       "      <td>0.40200</td>\n",
       "      <td>4.28080</td>\n",
       "    </tr>\n",
       "    <tr>\n",
       "      <th>175</th>\n",
       "      <td>12.0</td>\n",
       "      <td>0.55000</td>\n",
       "      <td>3.09920</td>\n",
       "    </tr>\n",
       "    <tr>\n",
       "      <th>45</th>\n",
       "      <td>6.0</td>\n",
       "      <td>0.05655</td>\n",
       "      <td>3.69576</td>\n",
       "    </tr>\n",
       "    <tr>\n",
       "      <th>120</th>\n",
       "      <td>10.0</td>\n",
       "      <td>0.42200</td>\n",
       "      <td>2.29740</td>\n",
       "    </tr>\n",
       "    <tr>\n",
       "      <th>174</th>\n",
       "      <td>12.0</td>\n",
       "      <td>0.61500</td>\n",
       "      <td>2.88240</td>\n",
       "    </tr>\n",
       "    <tr>\n",
       "      <th>125</th>\n",
       "      <td>10.0</td>\n",
       "      <td>0.41950</td>\n",
       "      <td>2.69220</td>\n",
       "    </tr>\n",
       "    <tr>\n",
       "      <th>9</th>\n",
       "      <td>6.0</td>\n",
       "      <td>0.08350</td>\n",
       "      <td>2.81780</td>\n",
       "    </tr>\n",
       "    <tr>\n",
       "      <th>164</th>\n",
       "      <td>12.0</td>\n",
       "      <td>0.53800</td>\n",
       "      <td>1.51140</td>\n",
       "    </tr>\n",
       "    <tr>\n",
       "      <th>54</th>\n",
       "      <td>8.0</td>\n",
       "      <td>0.22200</td>\n",
       "      <td>1.22936</td>\n",
       "    </tr>\n",
       "    <tr>\n",
       "      <th>13</th>\n",
       "      <td>6.0</td>\n",
       "      <td>0.08800</td>\n",
       "      <td>4.19820</td>\n",
       "    </tr>\n",
       "    <tr>\n",
       "      <th>109</th>\n",
       "      <td>10.0</td>\n",
       "      <td>0.36700</td>\n",
       "      <td>0.77248</td>\n",
       "    </tr>\n",
       "    <tr>\n",
       "      <th>169</th>\n",
       "      <td>12.0</td>\n",
       "      <td>0.56350</td>\n",
       "      <td>1.96060</td>\n",
       "    </tr>\n",
       "    <tr>\n",
       "      <th>78</th>\n",
       "      <td>8.0</td>\n",
       "      <td>0.26000</td>\n",
       "      <td>5.95000</td>\n",
       "    </tr>\n",
       "    <tr>\n",
       "      <th>114</th>\n",
       "      <td>10.0</td>\n",
       "      <td>0.37000</td>\n",
       "      <td>1.79660</td>\n",
       "    </tr>\n",
       "    <tr>\n",
       "      <th>44</th>\n",
       "      <td>6.0</td>\n",
       "      <td>0.06000</td>\n",
       "      <td>3.10272</td>\n",
       "    </tr>\n",
       "    <tr>\n",
       "      <th>82</th>\n",
       "      <td>8.0</td>\n",
       "      <td>0.15300</td>\n",
       "      <td>8.21680</td>\n",
       "    </tr>\n",
       "    <tr>\n",
       "      <th>159</th>\n",
       "      <td>12.0</td>\n",
       "      <td>0.47150</td>\n",
       "      <td>0.80100</td>\n",
       "    </tr>\n",
       "    <tr>\n",
       "      <th>123</th>\n",
       "      <td>10.0</td>\n",
       "      <td>0.41600</td>\n",
       "      <td>2.60430</td>\n",
       "    </tr>\n",
       "  </tbody>\n",
       "</table>\n",
       "</div>"
      ],
      "text/plain": [
       "     Relay Height  Amplitude  Time Period\n",
       "10            6.0    0.08500      3.23680\n",
       "79            8.0    0.22700      6.18920\n",
       "165          12.0    0.55450      1.57410\n",
       "143          10.0    0.23700     18.60000\n",
       "163          12.0    0.54450      1.46300\n",
       "134          10.0    0.27000      8.40000\n",
       "35            6.0    0.10350     12.82000\n",
       "137          10.0    0.22100     10.95000\n",
       "25            6.0    0.13950      6.02440\n",
       "2             6.0    0.09600      2.80040\n",
       "12            6.0    0.07950      3.98900\n",
       "128          10.0    0.39800      3.88200\n",
       "180          12.0    0.31400      6.09600\n",
       "3             6.0    0.08400      2.82400\n",
       "48            6.0    0.05250      4.59688\n",
       "29            6.0    0.15250      7.20600\n",
       "14            6.0    0.10900      4.40420\n",
       "119          10.0    0.39800      2.19460\n",
       "6             6.0    0.06600      2.79880\n",
       "23            6.0    0.10800      5.18670\n",
       "108          10.0    0.36500      0.75224\n",
       "144          10.0    0.24300     19.38400\n",
       "130          10.0    0.40200      4.28080\n",
       "175          12.0    0.55000      3.09920\n",
       "45            6.0    0.05655      3.69576\n",
       "120          10.0    0.42200      2.29740\n",
       "174          12.0    0.61500      2.88240\n",
       "125          10.0    0.41950      2.69220\n",
       "9             6.0    0.08350      2.81780\n",
       "164          12.0    0.53800      1.51140\n",
       "54            8.0    0.22200      1.22936\n",
       "13            6.0    0.08800      4.19820\n",
       "109          10.0    0.36700      0.77248\n",
       "169          12.0    0.56350      1.96060\n",
       "78            8.0    0.26000      5.95000\n",
       "114          10.0    0.37000      1.79660\n",
       "44            6.0    0.06000      3.10272\n",
       "82            8.0    0.15300      8.21680\n",
       "159          12.0    0.47150      0.80100\n",
       "123          10.0    0.41600      2.60430"
      ]
     },
     "execution_count": 9,
     "metadata": {},
     "output_type": "execute_result"
    }
   ],
   "source": [
    "X_test"
   ]
  },
  {
   "cell_type": "code",
   "execution_count": 10,
   "id": "9fa5dd63",
   "metadata": {},
   "outputs": [
    {
     "data": {
      "text/plain": [
       "10      46.299593\n",
       "79      44.192304\n",
       "165      6.898929\n",
       "143    159.017609\n",
       "163      6.529916\n",
       "134     63.033834\n",
       "35     150.596519\n",
       "137    100.395047\n",
       "25      52.501812\n",
       "2       35.466772\n",
       "12      61.007118\n",
       "128     19.756775\n",
       "180     47.202032\n",
       "3       40.875800\n",
       "48     106.463497\n",
       "29      57.444042\n",
       "14      49.125100\n",
       "119     11.169041\n",
       "6       51.560704\n",
       "23      58.389007\n",
       "108      4.174850\n",
       "144    161.626992\n",
       "130     21.569406\n",
       "175     13.694383\n",
       "45      79.463259\n",
       "120     11.026594\n",
       "174     11.388438\n",
       "125     12.998564\n",
       "9       41.030316\n",
       "164      6.827550\n",
       "54       8.975710\n",
       "13      58.004109\n",
       "109      4.263798\n",
       "169      8.455448\n",
       "78      37.089242\n",
       "114      9.836081\n",
       "44      62.876022\n",
       "82      87.057891\n",
       "159      4.129344\n",
       "123     12.680069\n",
       "Name: Time Constant, dtype: float64"
      ]
     },
     "execution_count": 10,
     "metadata": {},
     "output_type": "execute_result"
    }
   ],
   "source": [
    "y_test\n"
   ]
  },
  {
   "cell_type": "code",
   "execution_count": null,
   "id": "e377d8d7",
   "metadata": {},
   "outputs": [],
   "source": []
  },
  {
   "cell_type": "code",
   "execution_count": 11,
   "id": "1aafae23",
   "metadata": {},
   "outputs": [],
   "source": [
    "\n",
    "# Initialize an empty dictionary to store R2 scores\n",
    "r2_scores = {}\n",
    "mse_scores = {}\n",
    "r2_scores_train = {}\n",
    "mse_scores_train = {}"
   ]
  },
  {
   "cell_type": "code",
   "execution_count": 12,
   "id": "ec7f69a8",
   "metadata": {},
   "outputs": [],
   "source": [
    "# import matplotlib.pyplot as plt\n",
    "# import seaborn as sns\n",
    "# from sklearn.linear_model import LinearRegression\n",
    "# from sklearn.model_selection import cross_val_score, train_test_split\n",
    "# from sklearn.metrics import r2_score, mean_squared_error\n",
    "\n",
    "# # Assuming X and y are already defined\n",
    "# X_train, X_test, y_train, y_test = train_test_split(X, y, test_size=0.2, random_state=2)\n",
    "\n",
    "# # Initialize dictionaries to store R2 scores and MSEs\n",
    "# r2_scores = {}\n",
    "# mse_scores = {}\n",
    "\n",
    "# # Linear Regression with cross-validation\n",
    "# linear_reg = LinearRegression()\n",
    "# cv_scores_lr = cross_val_score(linear_reg, X_train, y_train, cv=5, scoring='r2')\n",
    "# linear_reg.fit(X_train, y_train)\n",
    "# y_pred_train_lr = linear_reg.predict(X_train)\n",
    "# y_pred_test_lr = linear_reg.predict(X_test)\n",
    "\n",
    "# # Calculate R2 and MSE for training data\n",
    "# r2_train_lr = r2_score(y_train, y_pred_train_lr)\n",
    "# mse_train_lr = mean_squared_error(y_train, y_pred_train_lr)\n",
    "\n",
    "# # Calculate R2 and MSE for testing data\n",
    "# r2_test_lr = r2_score(y_test, y_pred_test_lr)\n",
    "# mse_test_lr = mean_squared_error(y_test, y_pred_test_lr)\n",
    "\n",
    "# r2_scores['Linear Regression'] = r2_test_lr\n",
    "# mse_scores['Linear Regression'] = mse_test_lr\n",
    "\n",
    "# print(f\"Cross-validated R2 scores for Linear Regression: {cv_scores_lr}\")\n",
    "# print(f\"Training R2 score for Linear Regression: {r2_train_lr}\")\n",
    "# print(f\"Testing R2 score for Linear Regression: {r2_test_lr}\")\n",
    "# print(f\"Training MSE for Linear Regression: {mse_train_lr}\")\n",
    "# print(f\"Testing MSE for Linear Regression: {mse_test_lr}\")\n",
    "\n",
    "# # Plotting Actual vs Predicted for Testing Data\n",
    "# plt.figure(figsize=(10, 6))\n",
    "# sns.scatterplot(x=y_test, y=y_pred_test_lr, color='blue', label='Predicted vs Actual')\n",
    "# plt.plot([y_test.min(), y_test.max()], [y_test.min(), y_test.max()], 'k--', lw=2)\n",
    "# plt.xlabel('Actual Values')\n",
    "# plt.ylabel('Predicted Values')\n",
    "# plt.title('Linear Regression: Actual vs Predicted')\n",
    "# plt.legend()\n",
    "# plt.show()\n"
   ]
  },
  {
   "cell_type": "code",
   "execution_count": 13,
   "id": "f3301eb5",
   "metadata": {},
   "outputs": [],
   "source": [
    "# from sklearn.preprocessing import PolynomialFeatures\n",
    "# from sklearn.pipeline import make_pipeline\n",
    "# from sklearn.model_selection import GridSearchCV\n",
    "\n",
    "# param_grid_poly = {'polynomialfeatures__degree': [1, 2, 3, 4, 5]}\n",
    "# grid_search_poly = GridSearchCV(make_pipeline(PolynomialFeatures(), LinearRegression()), param_grid_poly, cv=5, scoring='r2')\n",
    "# grid_search_poly.fit(X_train, y_train)\n",
    "# cv_scores_poly = cross_val_score(grid_search_poly, X_train, y_train, cv=5, scoring='r2')\n",
    "# y_pred_train_poly = grid_search_poly.predict(X_train)\n",
    "# y_pred_test_poly = grid_search_poly.predict(X_test)\n",
    "\n",
    "# # Calculate R2 and MSE for training data\n",
    "# r2_train_poly = r2_score(y_train, y_pred_train_poly)\n",
    "# mse_train_poly = mean_squared_error(y_train, y_pred_train_poly)\n",
    "\n",
    "# # Calculate R2 and MSE for testing data\n",
    "# r2_test_poly = r2_score(y_test, y_pred_test_poly)\n",
    "# mse_test_poly = mean_squared_error(y_test, y_pred_test_poly)\n",
    "\n",
    "# r2_scores['Polynomial Regression'] = r2_test_poly\n",
    "# mse_scores['Polynomial Regression'] = mse_test_poly\n",
    "\n",
    "# print(f\"Cross-validated R2 scores for Polynomial Regression: {cv_scores_poly}\")\n",
    "# print(f\"Training R2 score for Polynomial Regression: {r2_train_poly}\")\n",
    "# print(f\"Testing R2 score for Polynomial Regression: {r2_test_poly}\")\n",
    "# print(f\"Training MSE for Polynomial Regression: {mse_train_poly}\")\n",
    "# print(f\"Testing MSE for Polynomial Regression: {mse_test_poly}\")\n",
    "\n",
    "# # Plotting Actual vs Predicted for Testing Data\n",
    "# plt.figure(figsize=(10, 6))\n",
    "# sns.scatterplot(x=y_test, y=y_pred_test_poly, color='blue', label='Predicted vs Actual')\n",
    "# plt.plot([y_test.min(), y_test.max()], [y_test.min(), y_test.max()], 'k--', lw=2)\n",
    "# plt.xlabel('Actual Values')\n",
    "# plt.ylabel('Predicted Values')\n",
    "# plt.title('Polynomial Regression: Actual vs Predicted')\n",
    "# plt.legend()\n",
    "# plt.show()\n"
   ]
  },
  {
   "cell_type": "code",
   "execution_count": 14,
   "id": "35f52dd3",
   "metadata": {},
   "outputs": [
    {
     "name": "stdout",
     "output_type": "stream",
     "text": [
      "Cross-validated R2 scores for KNN: [0.98172347 0.90853873 0.96506449 0.91545389 0.9241578 ]\n",
      "Training R2 score for KNN: 0.9655955468371955\n",
      "Testing R2 score for KNN: 0.7949641240139041\n",
      "Training MSE for KNN: 197.89542263924295\n",
      "Testing MSE for KNN: 359.6952056361\n",
      "Best parameters for KNN: {'n_neighbors': 5, 'weights': 'uniform'}\n"
     ]
    },
    {
     "data": {
      "image/png": "[encoded data removed]",
      "text/plain": [
       "<Figure size 720x432 with 1 Axes>"
      ]
     },
     "metadata": {
      "needs_background": "light"
     },
     "output_type": "display_data"
    }
   ],
   "source": [
    "from sklearn.neighbors import KNeighborsRegressor\n",
    "import matplotlib.pyplot as plt\n",
    "import seaborn as sns\n",
    "from sklearn.model_selection import GridSearchCV\n",
    "from sklearn.metrics import r2_score, mean_squared_error\n",
    "\n",
    "# KNN with cross-validation\n",
    "param_grid_knn = {'n_neighbors': [3, 5, 7, 9], 'weights': ['uniform', 'distance']}\n",
    "grid_search_knn = GridSearchCV(KNeighborsRegressor(), param_grid_knn, cv=5, scoring='r2')\n",
    "grid_search_knn.fit(X_train, y_train)\n",
    "cv_scores_knn = cross_val_score(grid_search_knn, X_train, y_train, cv=5, scoring='r2')\n",
    "y_pred_train_knn = grid_search_knn.predict(X_train)\n",
    "y_pred_test_knn = grid_search_knn.predict(X_test)\n",
    "\n",
    "# Best parameters for KNN\n",
    "best_params_knn = grid_search_knn.best_params_\n",
    "\n",
    "# Calculate R2 and MSE for training data\n",
    "r2_train_knn = r2_score(y_train, y_pred_train_knn)\n",
    "mse_train_knn = mean_squared_error(y_train, y_pred_train_knn)\n",
    "\n",
    "# Calculate R2 and MSE for testing data\n",
    "r2_test_knn = r2_score(y_test, y_pred_test_knn)\n",
    "mse_test_knn = mean_squared_error(y_test, y_pred_test_knn)\n",
    "\n",
    "r2_scores['KNN'] = r2_test_knn\n",
    "mse_scores['KNN'] = mse_test_knn\n",
    "\n",
    "r2_scores_train['KNN'] = r2_train_knn\n",
    "mse_scores_train['KNN'] = mse_train_knn\n",
    "\n",
    "print(f\"Cross-validated R2 scores for KNN: {cv_scores_knn}\")\n",
    "print(f\"Training R2 score for KNN: {r2_train_knn}\")\n",
    "print(f\"Testing R2 score for KNN: {r2_test_knn}\")\n",
    "print(f\"Training MSE for KNN: {mse_train_knn}\")\n",
    "print(f\"Testing MSE for KNN: {mse_test_knn}\")\n",
    "print(f\"Best parameters for KNN: {best_params_knn}\")\n",
    "\n",
    "# Plotting Actual vs Predicted for Testing Data\n",
    "plt.figure(figsize=(10, 6))\n",
    "sns.scatterplot(x=y_test, y=y_pred_test_knn, color='blue', label='Predicted vs Actual')\n",
    "plt.plot([y_test.min(), y_test.max()], [y_test.min(), y_test.max()], 'k--', lw=2)\n",
    "plt.xlabel('Actual Values')\n",
    "plt.ylabel('Predicted Values')\n",
    "plt.title('KNN: Actual vs Predicted ')\n",
    "plt.legend()\n",
    "plt.show()\n"
   ]
  },
  {
   "cell_type": "code",
   "execution_count": 15,
   "id": "ea54a916",
   "metadata": {},
   "outputs": [],
   "source": [
    "# grid_search_knn.predict([[12,2.7465,10.633]])"
   ]
  },
  {
   "cell_type": "code",
   "execution_count": 16,
   "id": "3e2e5155",
   "metadata": {},
   "outputs": [],
   "source": [
    "# grid_search_knn.predict([[1,0.1601,7.332]])"
   ]
  },
  {
   "cell_type": "code",
   "execution_count": 17,
   "id": "040dbd6f",
   "metadata": {},
   "outputs": [],
   "source": [
    "# grid_search_knn.predict([[6,0.499,7.359]])"
   ]
  },
  {
   "cell_type": "code",
   "execution_count": 18,
   "id": "efd67822",
   "metadata": {},
   "outputs": [],
   "source": [
    "# grid_search_knn.predict([[8,1.843,11.038]])"
   ]
  },
  {
   "cell_type": "code",
   "execution_count": null,
   "id": "855f6206",
   "metadata": {},
   "outputs": [],
   "source": []
  },
  {
   "cell_type": "code",
   "execution_count": null,
   "id": "9272e7ca",
   "metadata": {},
   "outputs": [],
   "source": []
  },
  {
   "cell_type": "code",
   "execution_count": 19,
   "id": "91e3d1a6",
   "metadata": {},
   "outputs": [
    {
     "name": "stdout",
     "output_type": "stream",
     "text": [
      "Cross-validated R2 scores for SVR: [0.95410607 0.83260445 0.91815638 0.87376465 0.86934585]\n",
      "Training R2 score for SVR: 0.9128266052392217\n",
      "Testing R2 score for SVR: 0.8688913541779644\n",
      "Training MSE for SVR: 501.42392083512414\n",
      "Testing MSE for SVR: 230.0043887091531\n",
      "Best parameters for SVR: {'C': 10, 'epsilon': 0.01, 'kernel': 'rbf'}\n"
     ]
    },
    {
     "data": {
      "image/png": "[encoded data removed]",
      "text/plain": [
       "<Figure size 720x432 with 1 Axes>"
      ]
     },
     "metadata": {
      "needs_background": "light"
     },
     "output_type": "display_data"
    }
   ],
   "source": [
    "from sklearn.svm import SVR\n",
    "import matplotlib.pyplot as plt\n",
    "import seaborn as sns\n",
    "from sklearn.model_selection import GridSearchCV\n",
    "from sklearn.metrics import r2_score, mean_squared_error\n",
    "\n",
    "# SVR with cross-validation\n",
    "param_grid_svr = {'C': [0.1, 1, 10], 'epsilon': [0.01, 0.1, 0.2], 'kernel': ['linear', 'rbf']}\n",
    "grid_search_svr = GridSearchCV(SVR(), param_grid_svr, cv=5, scoring='r2')\n",
    "grid_search_svr.fit(X_train, y_train)\n",
    "cv_scores_svr = cross_val_score(grid_search_svr, X_train, y_train, cv=5, scoring='r2')\n",
    "y_pred_train_svr = grid_search_svr.predict(X_train)\n",
    "y_pred_test_svr = grid_search_svr.predict(X_test)\n",
    "\n",
    "# Best parameters for SVR\n",
    "best_params_svr = grid_search_svr.best_params_\n",
    "\n",
    "# Calculate R2 and MSE for training data\n",
    "r2_train_svr = r2_score(y_train, y_pred_train_svr)\n",
    "mse_train_svr = mean_squared_error(y_train, y_pred_train_svr)\n",
    "\n",
    "# Calculate R2 and MSE for testing data\n",
    "r2_test_svr = r2_score(y_test, y_pred_test_svr)\n",
    "mse_test_svr = mean_squared_error(y_test, y_pred_test_svr)\n",
    "\n",
    "r2_scores['SVR'] = r2_test_svr\n",
    "mse_scores['SVR'] = mse_test_svr\n",
    "\n",
    "r2_scores_train['SVR'] = r2_train_svr\n",
    "mse_scores_train['SVR'] = mse_train_svr\n",
    "\n",
    "print(f\"Cross-validated R2 scores for SVR: {cv_scores_svr}\")\n",
    "print(f\"Training R2 score for SVR: {r2_train_svr}\")\n",
    "print(f\"Testing R2 score for SVR: {r2_test_svr}\")\n",
    "print(f\"Training MSE for SVR: {mse_train_svr}\")\n",
    "print(f\"Testing MSE for SVR: {mse_test_svr}\")\n",
    "print(f\"Best parameters for SVR: {best_params_svr}\")\n",
    "\n",
    "# Plotting Actual vs Predicted for Testing Data\n",
    "plt.figure(figsize=(10, 6))\n",
    "sns.scatterplot(x=y_test, y=y_pred_test_svr, color='blue', label='Predicted vs Actual')\n",
    "plt.plot([y_test.min(), y_test.max()], [y_test.min(), y_test.max()], 'k--', lw=2)\n",
    "plt.xlabel('Actual Values')\n",
    "plt.ylabel('Predicted Values')\n",
    "plt.title('SVR: Actual vs Predicted')\n",
    "plt.legend()\n",
    "plt.show()\n"
   ]
  },
  {
   "cell_type": "code",
   "execution_count": 20,
   "id": "8e6169b9",
   "metadata": {},
   "outputs": [],
   "source": [
    "# grid_search_svr.predict([[12,2.7465,10.633]])"
   ]
  },
  {
   "cell_type": "code",
   "execution_count": 21,
   "id": "99bcc8eb",
   "metadata": {},
   "outputs": [
    {
     "name": "stderr",
     "output_type": "stream",
     "text": [
      "C:\\Users\\asus\\anaconda3\\lib\\site-packages\\sklearn\\base.py:450: UserWarning: X does not have valid feature names, but SVR was fitted with feature names\n",
      "  warnings.warn(\n"
     ]
    },
    {
     "data": {
      "text/plain": [
       "array([110.2046765])"
      ]
     },
     "execution_count": 21,
     "metadata": {},
     "output_type": "execute_result"
    }
   ],
   "source": [
    "grid_search_svr.predict([[1,0.1601,7.332]])"
   ]
  },
  {
   "cell_type": "code",
   "execution_count": 22,
   "id": "5d3904a1",
   "metadata": {},
   "outputs": [
    {
     "name": "stderr",
     "output_type": "stream",
     "text": [
      "C:\\Users\\asus\\anaconda3\\lib\\site-packages\\sklearn\\base.py:450: UserWarning: X does not have valid feature names, but SVR was fitted with feature names\n",
      "  warnings.warn(\n"
     ]
    },
    {
     "data": {
      "text/plain": [
       "array([76.62188103])"
      ]
     },
     "execution_count": 22,
     "metadata": {},
     "output_type": "execute_result"
    }
   ],
   "source": [
    "grid_search_svr.predict([[6,0.499,7.359]])"
   ]
  },
  {
   "cell_type": "code",
   "execution_count": 23,
   "id": "17aba5fc",
   "metadata": {},
   "outputs": [
    {
     "name": "stderr",
     "output_type": "stream",
     "text": [
      "C:\\Users\\asus\\anaconda3\\lib\\site-packages\\sklearn\\base.py:450: UserWarning: X does not have valid feature names, but SVR was fitted with feature names\n",
      "  warnings.warn(\n"
     ]
    },
    {
     "data": {
      "text/plain": [
       "array([112.49280493])"
      ]
     },
     "execution_count": 23,
     "metadata": {},
     "output_type": "execute_result"
    }
   ],
   "source": [
    "grid_search_svr.predict([[8,1.843,11.038]])"
   ]
  },
  {
   "cell_type": "code",
   "execution_count": 24,
   "id": "018c9a24",
   "metadata": {},
   "outputs": [
    {
     "name": "stderr",
     "output_type": "stream",
     "text": [
      "C:\\Users\\asus\\anaconda3\\lib\\site-packages\\sklearn\\base.py:450: UserWarning: X does not have valid feature names, but SVR was fitted with feature names\n",
      "  warnings.warn(\n"
     ]
    },
    {
     "data": {
      "text/plain": [
       "array([33.39034012])"
      ]
     },
     "execution_count": 24,
     "metadata": {},
     "output_type": "execute_result"
    }
   ],
   "source": [
    "grid_search_svr.predict([[6,0.086,0.3864]])"
   ]
  },
  {
   "cell_type": "code",
   "execution_count": 25,
   "id": "71490224",
   "metadata": {},
   "outputs": [
    {
     "name": "stderr",
     "output_type": "stream",
     "text": [
      "C:\\Users\\asus\\anaconda3\\lib\\site-packages\\sklearn\\base.py:450: UserWarning: X does not have valid feature names, but SVR was fitted with feature names\n",
      "  warnings.warn(\n"
     ]
    },
    {
     "data": {
      "text/plain": [
       "array([9.53911075])"
      ]
     },
     "execution_count": 25,
     "metadata": {},
     "output_type": "execute_result"
    }
   ],
   "source": [
    "grid_search_svr.predict([[11,0.5135,2.9002]])"
   ]
  },
  {
   "cell_type": "code",
   "execution_count": null,
   "id": "c3f775c0",
   "metadata": {},
   "outputs": [],
   "source": []
  },
  {
   "cell_type": "code",
   "execution_count": 26,
   "id": "8abcca01",
   "metadata": {},
   "outputs": [
    {
     "name": "stdout",
     "output_type": "stream",
     "text": [
      "Cross-validated R2 scores for Decision Tree: [0.9831144  0.92896884 0.92469904 0.93735877 0.95042087]\n",
      "Training R2 score for Decision Tree: 1.0\n",
      "Testing R2 score for Decision Tree: 0.799926464414133\n",
      "Training MSE for Decision Tree: 0.0\n",
      "Testing MSE for Decision Tree: 350.9897532750817\n",
      "Best parameters for Decision Tree: {'max_depth': None, 'min_samples_leaf': 1, 'min_samples_split': 2}\n"
     ]
    },
    {
     "data": {
      "image/png": "[encoded data removed]",
      "text/plain": [
       "<Figure size 720x432 with 1 Axes>"
      ]
     },
     "metadata": {
      "needs_background": "light"
     },
     "output_type": "display_data"
    }
   ],
   "source": [
    "from sklearn.tree import DecisionTreeRegressor\n",
    "from sklearn.model_selection import GridSearchCV\n",
    "from sklearn.metrics import r2_score, mean_squared_error\n",
    "import matplotlib.pyplot as plt\n",
    "import seaborn as sns\n",
    "\n",
    "# Decision Tree with cross-validation\n",
    "param_grid_dt = {'max_depth': [None, 10, 20, 30], 'min_samples_split': [2, 5, 10], 'min_samples_leaf': [1, 2, 4]}\n",
    "grid_search_dt = GridSearchCV(DecisionTreeRegressor(random_state=1), param_grid_dt, cv=5, scoring='r2')\n",
    "grid_search_dt.fit(X_train, y_train)\n",
    "cv_scores_dt = cross_val_score(grid_search_dt, X_train, y_train, cv=5, scoring='r2')\n",
    "y_pred_train_dt = grid_search_dt.predict(X_train)\n",
    "y_pred_test_dt = grid_search_dt.predict(X_test)\n",
    "\n",
    "# Best parameters for Decision Tree\n",
    "best_params_dt = grid_search_dt.best_params_\n",
    "\n",
    "# Calculate R2 and MSE for training data\n",
    "r2_train_dt = r2_score(y_train, y_pred_train_dt)\n",
    "mse_train_dt = mean_squared_error(y_train, y_pred_train_dt)\n",
    "\n",
    "# Calculate R2 and MSE for testing data\n",
    "r2_test_dt = r2_score(y_test, y_pred_test_dt)\n",
    "mse_test_dt = mean_squared_error(y_test, y_pred_test_dt)\n",
    "\n",
    "r2_scores['Decision Tree'] = r2_test_dt\n",
    "mse_scores['Decision Tree'] = mse_test_dt\n",
    "\n",
    "r2_scores_train['Decision Tree'] = r2_train_dt\n",
    "mse_scores_train['Decision Tree'] = mse_train_dt\n",
    "\n",
    "print(f\"Cross-validated R2 scores for Decision Tree: {cv_scores_dt}\")\n",
    "print(f\"Training R2 score for Decision Tree: {r2_train_dt}\")\n",
    "print(f\"Testing R2 score for Decision Tree: {r2_test_dt}\")\n",
    "print(f\"Training MSE for Decision Tree: {mse_train_dt}\")\n",
    "print(f\"Testing MSE for Decision Tree: {mse_test_dt}\")\n",
    "print(f\"Best parameters for Decision Tree: {best_params_dt}\")\n",
    "\n",
    "# Plotting Actual vs Predicted for Testing Data\n",
    "plt.figure(figsize=(10, 6))\n",
    "sns.scatterplot(x=y_test, y=y_pred_test_dt, color='blue', label='Predicted vs Actual')\n",
    "plt.plot([y_test.min(), y_test.max()], [y_test.min(), y_test.max()], 'k--', lw=2)\n",
    "plt.xlabel('Actual Values')\n",
    "plt.ylabel('Predicted Values')\n",
    "plt.title('Decision Tree: Actual vs Predicted')\n",
    "plt.legend()\n",
    "plt.show()\n"
   ]
  },
  {
   "cell_type": "code",
   "execution_count": 27,
   "id": "fed96bc8",
   "metadata": {},
   "outputs": [
    {
     "name": "stderr",
     "output_type": "stream",
     "text": [
      "C:\\Users\\asus\\anaconda3\\lib\\site-packages\\sklearn\\base.py:450: UserWarning: X does not have valid feature names, but DecisionTreeRegressor was fitted with feature names\n",
      "  warnings.warn(\n"
     ]
    },
    {
     "data": {
      "text/plain": [
       "array([96.90959639])"
      ]
     },
     "execution_count": 27,
     "metadata": {},
     "output_type": "execute_result"
    }
   ],
   "source": [
    "grid_search_dt.predict([[12,2.7465,10.633]])"
   ]
  },
  {
   "cell_type": "code",
   "execution_count": 28,
   "id": "fb2fbbe5",
   "metadata": {},
   "outputs": [
    {
     "name": "stderr",
     "output_type": "stream",
     "text": [
      "C:\\Users\\asus\\anaconda3\\lib\\site-packages\\sklearn\\base.py:450: UserWarning: X does not have valid feature names, but DecisionTreeRegressor was fitted with feature names\n",
      "  warnings.warn(\n"
     ]
    },
    {
     "data": {
      "text/plain": [
       "array([65.81627165])"
      ]
     },
     "execution_count": 28,
     "metadata": {},
     "output_type": "execute_result"
    }
   ],
   "source": [
    "grid_search_dt.predict([[1,0.1601,7.332]])"
   ]
  },
  {
   "cell_type": "code",
   "execution_count": 29,
   "id": "a59e750e",
   "metadata": {},
   "outputs": [
    {
     "name": "stderr",
     "output_type": "stream",
     "text": [
      "C:\\Users\\asus\\anaconda3\\lib\\site-packages\\sklearn\\base.py:450: UserWarning: X does not have valid feature names, but DecisionTreeRegressor was fitted with feature names\n",
      "  warnings.warn(\n"
     ]
    },
    {
     "data": {
      "text/plain": [
       "array([36.05746679])"
      ]
     },
     "execution_count": 29,
     "metadata": {},
     "output_type": "execute_result"
    }
   ],
   "source": [
    "grid_search_dt.predict([[6,0.499,7.359]])"
   ]
  },
  {
   "cell_type": "code",
   "execution_count": 30,
   "id": "fab4db13",
   "metadata": {},
   "outputs": [
    {
     "name": "stderr",
     "output_type": "stream",
     "text": [
      "C:\\Users\\asus\\anaconda3\\lib\\site-packages\\sklearn\\base.py:450: UserWarning: X does not have valid feature names, but DecisionTreeRegressor was fitted with feature names\n",
      "  warnings.warn(\n"
     ]
    },
    {
     "data": {
      "text/plain": [
       "array([94.63744873])"
      ]
     },
     "execution_count": 30,
     "metadata": {},
     "output_type": "execute_result"
    }
   ],
   "source": [
    "grid_search_dt.predict([[8,1.843,11.038]])"
   ]
  },
  {
   "cell_type": "code",
   "execution_count": 31,
   "id": "a52aa18f",
   "metadata": {},
   "outputs": [
    {
     "name": "stderr",
     "output_type": "stream",
     "text": [
      "C:\\Users\\asus\\anaconda3\\lib\\site-packages\\sklearn\\base.py:450: UserWarning: X does not have valid feature names, but DecisionTreeRegressor was fitted with feature names\n",
      "  warnings.warn(\n"
     ]
    },
    {
     "data": {
      "text/plain": [
       "array([48.2417122])"
      ]
     },
     "execution_count": 31,
     "metadata": {},
     "output_type": "execute_result"
    }
   ],
   "source": [
    "grid_search_dt.predict([[6,0.086,0.3864]])"
   ]
  },
  {
   "cell_type": "code",
   "execution_count": 32,
   "id": "5a7c6619",
   "metadata": {},
   "outputs": [
    {
     "name": "stderr",
     "output_type": "stream",
     "text": [
      "C:\\Users\\asus\\anaconda3\\lib\\site-packages\\sklearn\\base.py:450: UserWarning: X does not have valid feature names, but DecisionTreeRegressor was fitted with feature names\n",
      "  warnings.warn(\n"
     ]
    },
    {
     "data": {
      "text/plain": [
       "array([15.06914449])"
      ]
     },
     "execution_count": 32,
     "metadata": {},
     "output_type": "execute_result"
    }
   ],
   "source": [
    "grid_search_dt.predict([[11,0.5135,2.9002]])"
   ]
  },
  {
   "cell_type": "code",
   "execution_count": null,
   "id": "2f186703",
   "metadata": {},
   "outputs": [],
   "source": []
  },
  {
   "cell_type": "code",
   "execution_count": 33,
   "id": "5b69055e",
   "metadata": {},
   "outputs": [
    {
     "name": "stdout",
     "output_type": "stream",
     "text": [
      "Cross-validated R2 scores for Random Forest: [0.98747146 0.92993074 0.96854633 0.94625797 0.95411535]\n",
      "Training R2 score for Random Forest: 0.9949066168875376\n",
      "Testing R2 score for Random Forest: 0.9557912475093294\n",
      "Training MSE for Random Forest: 29.29728889846324\n",
      "Testing MSE for Random Forest: 77.55558017137227\n",
      "Best parameters for Random Forest: {'max_depth': None, 'min_samples_split': 2, 'n_estimators': 100}\n"
     ]
    },
    {
     "data": {
      "image/png": "[encoded data removed]",
      "text/plain": [
       "<Figure size 720x432 with 1 Axes>"
      ]
     },
     "metadata": {
      "needs_background": "light"
     },
     "output_type": "display_data"
    }
   ],
   "source": [
    "from sklearn.ensemble import RandomForestRegressor\n",
    "import matplotlib.pyplot as plt\n",
    "import seaborn as sns\n",
    "from sklearn.model_selection import GridSearchCV\n",
    "from sklearn.metrics import r2_score, mean_squared_error\n",
    "\n",
    "# Random Forest with cross-validation\n",
    "param_grid_rf = {'n_estimators': [100, 200], 'max_depth': [None, 10, 20], 'min_samples_split': [2, 5]}\n",
    "grid_search_rf = GridSearchCV(RandomForestRegressor(random_state=1), param_grid_rf, cv=5, scoring='r2')\n",
    "grid_search_rf.fit(X_train, y_train)\n",
    "cv_scores_rf = cross_val_score(grid_search_rf, X_train, y_train, cv=5, scoring='r2')\n",
    "y_pred_train_rf = grid_search_rf.predict(X_train)\n",
    "y_pred_test_rf = grid_search_rf.predict(X_test)\n",
    "\n",
    "# Best parameters for Random Forest\n",
    "best_params_rf = grid_search_rf.best_params_\n",
    "\n",
    "# Calculate R2 and MSE for training data\n",
    "r2_train_rf = r2_score(y_train, y_pred_train_rf)\n",
    "mse_train_rf = mean_squared_error(y_train, y_pred_train_rf)\n",
    "\n",
    "# Calculate R2 and MSE for testing data\n",
    "r2_test_rf = r2_score(y_test, y_pred_test_rf)\n",
    "mse_test_rf = mean_squared_error(y_test, y_pred_test_rf)\n",
    "\n",
    "r2_scores['Random Forest'] = r2_test_rf\n",
    "mse_scores['Random Forest'] = mse_test_rf\n",
    "\n",
    "r2_scores_train['Random Forest'] = r2_train_rf\n",
    "mse_scores_train['Random Forest'] = mse_train_rf\n",
    "\n",
    "print(f\"Cross-validated R2 scores for Random Forest: {cv_scores_rf}\")\n",
    "print(f\"Training R2 score for Random Forest: {r2_train_rf}\")\n",
    "print(f\"Testing R2 score for Random Forest: {r2_test_rf}\")\n",
    "print(f\"Training MSE for Random Forest: {mse_train_rf}\")\n",
    "print(f\"Testing MSE for Random Forest: {mse_test_rf}\")\n",
    "print(f\"Best parameters for Random Forest: {best_params_rf}\")\n",
    "\n",
    "# Plotting Actual vs Predicted for Testing Data\n",
    "plt.figure(figsize=(10, 6))\n",
    "sns.scatterplot(x=y_test, y=y_pred_test_rf, color='blue', label='Predicted vs Actual')\n",
    "plt.plot([y_test.min(), y_test.max()], [y_test.min(), y_test.max()], 'k--', lw=2)\n",
    "plt.xlabel('Actual Values')\n",
    "plt.ylabel('Predicted Values')\n",
    "plt.title('Random Forest: Actual vs Predicted')\n",
    "plt.legend()\n",
    "plt.show()\n"
   ]
  },
  {
   "cell_type": "code",
   "execution_count": 34,
   "id": "c6f13aef",
   "metadata": {},
   "outputs": [
    {
     "name": "stderr",
     "output_type": "stream",
     "text": [
      "C:\\Users\\asus\\anaconda3\\lib\\site-packages\\sklearn\\base.py:450: UserWarning: X does not have valid feature names, but RandomForestRegressor was fitted with feature names\n",
      "  warnings.warn(\n"
     ]
    },
    {
     "data": {
      "text/plain": [
       "array([104.54611621])"
      ]
     },
     "execution_count": 34,
     "metadata": {},
     "output_type": "execute_result"
    }
   ],
   "source": [
    "grid_search_rf.predict([[12,2.7465,10.633]])"
   ]
  },
  {
   "cell_type": "code",
   "execution_count": 35,
   "id": "f9d39ff0",
   "metadata": {},
   "outputs": [
    {
     "name": "stderr",
     "output_type": "stream",
     "text": [
      "C:\\Users\\asus\\anaconda3\\lib\\site-packages\\sklearn\\base.py:450: UserWarning: X does not have valid feature names, but RandomForestRegressor was fitted with feature names\n",
      "  warnings.warn(\n"
     ]
    },
    {
     "data": {
      "text/plain": [
       "array([65.40764966])"
      ]
     },
     "execution_count": 35,
     "metadata": {},
     "output_type": "execute_result"
    }
   ],
   "source": [
    "grid_search_rf.predict([[1,0.1601,7.332]])"
   ]
  },
  {
   "cell_type": "code",
   "execution_count": 36,
   "id": "4b8d6a2d",
   "metadata": {},
   "outputs": [
    {
     "name": "stderr",
     "output_type": "stream",
     "text": [
      "C:\\Users\\asus\\anaconda3\\lib\\site-packages\\sklearn\\base.py:450: UserWarning: X does not have valid feature names, but RandomForestRegressor was fitted with feature names\n",
      "  warnings.warn(\n"
     ]
    },
    {
     "data": {
      "text/plain": [
       "array([40.22305491])"
      ]
     },
     "execution_count": 36,
     "metadata": {},
     "output_type": "execute_result"
    }
   ],
   "source": [
    "grid_search_rf.predict([[6,0.499,7.359]])"
   ]
  },
  {
   "cell_type": "code",
   "execution_count": 37,
   "id": "9367f529",
   "metadata": {},
   "outputs": [
    {
     "name": "stderr",
     "output_type": "stream",
     "text": [
      "C:\\Users\\asus\\anaconda3\\lib\\site-packages\\sklearn\\base.py:450: UserWarning: X does not have valid feature names, but RandomForestRegressor was fitted with feature names\n",
      "  warnings.warn(\n"
     ]
    },
    {
     "data": {
      "text/plain": [
       "array([108.91743802])"
      ]
     },
     "execution_count": 37,
     "metadata": {},
     "output_type": "execute_result"
    }
   ],
   "source": [
    "grid_search_rf.predict([[8,1.843,11.038]])"
   ]
  },
  {
   "cell_type": "code",
   "execution_count": 38,
   "id": "88e0fdbd",
   "metadata": {},
   "outputs": [
    {
     "name": "stderr",
     "output_type": "stream",
     "text": [
      "C:\\Users\\asus\\anaconda3\\lib\\site-packages\\sklearn\\base.py:450: UserWarning: X does not have valid feature names, but RandomForestRegressor was fitted with feature names\n",
      "  warnings.warn(\n"
     ]
    },
    {
     "data": {
      "text/plain": [
       "array([38.98422446])"
      ]
     },
     "execution_count": 38,
     "metadata": {},
     "output_type": "execute_result"
    }
   ],
   "source": [
    "grid_search_rf.predict([[6,0.086,0.3864]])"
   ]
  },
  {
   "cell_type": "code",
   "execution_count": 39,
   "id": "749266bf",
   "metadata": {},
   "outputs": [
    {
     "name": "stderr",
     "output_type": "stream",
     "text": [
      "C:\\Users\\asus\\anaconda3\\lib\\site-packages\\sklearn\\base.py:450: UserWarning: X does not have valid feature names, but RandomForestRegressor was fitted with feature names\n",
      "  warnings.warn(\n"
     ]
    },
    {
     "data": {
      "text/plain": [
       "array([14.94180394])"
      ]
     },
     "execution_count": 39,
     "metadata": {},
     "output_type": "execute_result"
    }
   ],
   "source": [
    "grid_search_rf.predict([[11,0.5135,2.9002]])"
   ]
  },
  {
   "cell_type": "code",
   "execution_count": null,
   "id": "3bdbaca6",
   "metadata": {},
   "outputs": [],
   "source": []
  },
  {
   "cell_type": "code",
   "execution_count": 40,
   "id": "45fadd34",
   "metadata": {},
   "outputs": [
    {
     "name": "stdout",
     "output_type": "stream",
     "text": [
      "Cross-validated R2 scores for GBM: [0.98360889 0.94060178 0.9723402  0.96112329 0.9631241 ]\n",
      "Training R2 score for GBM: 0.9999929747586552\n",
      "Testing R2 score for GBM: 0.9650994271665847\n",
      "Training MSE for GBM: 0.040409394054181126\n",
      "Testing MSE for GBM: 61.22620571525893\n",
      "Best parameters for GBM: {'learning_rate': 0.2, 'max_depth': 3, 'n_estimators': 200}\n"
     ]
    },
    {
     "data": {
      "image/png": "[encoded data removed]",
      "text/plain": [
       "<Figure size 720x432 with 1 Axes>"
      ]
     },
     "metadata": {
      "needs_background": "light"
     },
     "output_type": "display_data"
    }
   ],
   "source": [
    "from sklearn.ensemble import GradientBoostingRegressor\n",
    "import matplotlib.pyplot as plt\n",
    "import seaborn as sns\n",
    "from sklearn.model_selection import GridSearchCV\n",
    "from sklearn.metrics import r2_score, mean_squared_error\n",
    "\n",
    "# GBM with cross-validation\n",
    "param_grid_gbm = {'n_estimators': [100, 200], 'learning_rate': [0.01, 0.1, 0.2], 'max_depth': [3, 5, 7]}\n",
    "grid_search_gbm = GridSearchCV(GradientBoostingRegressor(random_state=1), param_grid_gbm, cv=5, scoring='r2')\n",
    "grid_search_gbm.fit(X_train, y_train)\n",
    "cv_scores_gbm = cross_val_score(grid_search_gbm, X_train, y_train, cv=5, scoring='r2')\n",
    "y_pred_train_gbm = grid_search_gbm.predict(X_train)\n",
    "y_pred_test_gbm = grid_search_gbm.predict(X_test)\n",
    "\n",
    "# Best parameters for GBM\n",
    "best_params_gbm = grid_search_gbm.best_params_\n",
    "\n",
    "# Calculate R2 and MSE for training data\n",
    "r2_train_gbm = r2_score(y_train, y_pred_train_gbm)\n",
    "mse_train_gbm = mean_squared_error(y_train, y_pred_train_gbm)\n",
    "\n",
    "# Calculate R2 and MSE for testing data\n",
    "r2_test_gbm = r2_score(y_test, y_pred_test_gbm)\n",
    "mse_test_gbm = mean_squared_error(y_test, y_pred_test_gbm)\n",
    "\n",
    "r2_scores['GBM'] = r2_test_gbm\n",
    "mse_scores['GBM'] = mse_test_gbm\n",
    "\n",
    "r2_scores_train['GBM'] = r2_train_gbm\n",
    "mse_scores_train['GBM'] = mse_train_gbm\n",
    "\n",
    "print(f\"Cross-validated R2 scores for GBM: {cv_scores_gbm}\")\n",
    "print(f\"Training R2 score for GBM: {r2_train_gbm}\")\n",
    "print(f\"Testing R2 score for GBM: {r2_test_gbm}\")\n",
    "print(f\"Training MSE for GBM: {mse_train_gbm}\")\n",
    "print(f\"Testing MSE for GBM: {mse_test_gbm}\")\n",
    "print(f\"Best parameters for GBM: {best_params_gbm}\")\n",
    "\n",
    "# Plotting Actual vs Predicted for Testing Data\n",
    "plt.figure(figsize=(10, 6))\n",
    "sns.scatterplot(x=y_test, y=y_pred_test_gbm, color='blue', label='Predicted vs Actual')\n",
    "plt.plot([y_test.min(), y_test.max()], [y_test.min(), y_test.max()], 'k--', lw=2)\n",
    "plt.xlabel('Actual Values')\n",
    "plt.ylabel('Predicted Values')\n",
    "plt.title('GBM: Actual vs Predicted')\n",
    "plt.legend()\n",
    "plt.show()\n"
   ]
  },
  {
   "cell_type": "code",
   "execution_count": 41,
   "id": "ec1598b8",
   "metadata": {},
   "outputs": [
    {
     "name": "stderr",
     "output_type": "stream",
     "text": [
      "C:\\Users\\asus\\anaconda3\\lib\\site-packages\\sklearn\\base.py:450: UserWarning: X does not have valid feature names, but GradientBoostingRegressor was fitted with feature names\n",
      "  warnings.warn(\n"
     ]
    },
    {
     "data": {
      "text/plain": [
       "array([94.38313046])"
      ]
     },
     "execution_count": 41,
     "metadata": {},
     "output_type": "execute_result"
    }
   ],
   "source": [
    "grid_search_gbm.predict([[12,2.7465,10.633]])"
   ]
  },
  {
   "cell_type": "code",
   "execution_count": 42,
   "id": "4596bb59",
   "metadata": {},
   "outputs": [
    {
     "name": "stderr",
     "output_type": "stream",
     "text": [
      "C:\\Users\\asus\\anaconda3\\lib\\site-packages\\sklearn\\base.py:450: UserWarning: X does not have valid feature names, but GradientBoostingRegressor was fitted with feature names\n",
      "  warnings.warn(\n"
     ]
    },
    {
     "data": {
      "text/plain": [
       "array([67.13419665])"
      ]
     },
     "execution_count": 42,
     "metadata": {},
     "output_type": "execute_result"
    }
   ],
   "source": [
    "grid_search_gbm.predict([[1,0.1601,7.332]])"
   ]
  },
  {
   "cell_type": "code",
   "execution_count": 43,
   "id": "e2f1ada6",
   "metadata": {},
   "outputs": [
    {
     "name": "stderr",
     "output_type": "stream",
     "text": [
      "C:\\Users\\asus\\anaconda3\\lib\\site-packages\\sklearn\\base.py:450: UserWarning: X does not have valid feature names, but GradientBoostingRegressor was fitted with feature names\n",
      "  warnings.warn(\n"
     ]
    },
    {
     "data": {
      "text/plain": [
       "array([33.4800146])"
      ]
     },
     "execution_count": 43,
     "metadata": {},
     "output_type": "execute_result"
    }
   ],
   "source": [
    "grid_search_gbm.predict([[6,0.499,7.359]])"
   ]
  },
  {
   "cell_type": "code",
   "execution_count": 44,
   "id": "cb7a3952",
   "metadata": {},
   "outputs": [
    {
     "name": "stderr",
     "output_type": "stream",
     "text": [
      "C:\\Users\\asus\\anaconda3\\lib\\site-packages\\sklearn\\base.py:450: UserWarning: X does not have valid feature names, but GradientBoostingRegressor was fitted with feature names\n",
      "  warnings.warn(\n"
     ]
    },
    {
     "data": {
      "text/plain": [
       "array([92.7558674])"
      ]
     },
     "execution_count": 44,
     "metadata": {},
     "output_type": "execute_result"
    }
   ],
   "source": [
    "grid_search_gbm.predict([[8,1.843,11.038]])"
   ]
  },
  {
   "cell_type": "code",
   "execution_count": 45,
   "id": "e694b6fe",
   "metadata": {},
   "outputs": [
    {
     "name": "stderr",
     "output_type": "stream",
     "text": [
      "C:\\Users\\asus\\anaconda3\\lib\\site-packages\\sklearn\\base.py:450: UserWarning: X does not have valid feature names, but GradientBoostingRegressor was fitted with feature names\n",
      "  warnings.warn(\n"
     ]
    },
    {
     "data": {
      "text/plain": [
       "array([31.09184247])"
      ]
     },
     "execution_count": 45,
     "metadata": {},
     "output_type": "execute_result"
    }
   ],
   "source": [
    "grid_search_gbm.predict([[6,0.086,0.3864]])"
   ]
  },
  {
   "cell_type": "code",
   "execution_count": 46,
   "id": "747efb33",
   "metadata": {},
   "outputs": [
    {
     "name": "stderr",
     "output_type": "stream",
     "text": [
      "C:\\Users\\asus\\anaconda3\\lib\\site-packages\\sklearn\\base.py:450: UserWarning: X does not have valid feature names, but GradientBoostingRegressor was fitted with feature names\n",
      "  warnings.warn(\n"
     ]
    },
    {
     "data": {
      "text/plain": [
       "array([15.30347693])"
      ]
     },
     "execution_count": 46,
     "metadata": {},
     "output_type": "execute_result"
    }
   ],
   "source": [
    "grid_search_gbm.predict([[11,0.5135,2.9002]])"
   ]
  },
  {
   "cell_type": "code",
   "execution_count": null,
   "id": "5f8dc4ea",
   "metadata": {},
   "outputs": [],
   "source": []
  },
  {
   "cell_type": "code",
   "execution_count": null,
   "id": "35cfb0ec",
   "metadata": {},
   "outputs": [],
   "source": []
  },
  {
   "cell_type": "code",
   "execution_count": 47,
   "id": "175004df",
   "metadata": {},
   "outputs": [
    {
     "name": "stdout",
     "output_type": "stream",
     "text": [
      "Cross-validated R2 scores for XGBoost: [0.97851848 0.93798135 0.97091846 0.94568387 0.96677031]\n",
      "Training R2 score for XGBoost: 0.9997352394784504\n",
      "Testing R2 score for XGBoost: 0.9538676820725239\n",
      "Training MSE for XGBoost: 1.522910277407909\n",
      "Testing MSE for XGBoost: 80.93009822592569\n",
      "Best parameters for XGBoost: {'learning_rate': 0.1, 'max_depth': 3, 'n_estimators': 200}\n"
     ]
    },
    {
     "data": {
      "image/png": "[encoded data removed]",
      "text/plain": [
       "<Figure size 720x432 with 1 Axes>"
      ]
     },
     "metadata": {
      "needs_background": "light"
     },
     "output_type": "display_data"
    }
   ],
   "source": [
    "import xgboost as xgb\n",
    "import matplotlib.pyplot as plt\n",
    "import seaborn as sns\n",
    "from sklearn.model_selection import GridSearchCV\n",
    "from sklearn.metrics import r2_score, mean_squared_error\n",
    "\n",
    "# XGBoost with cross-validation\n",
    "param_grid_xgb = {'max_depth': [3, 5, 7], 'learning_rate': [0.01, 0.1, 0.2], 'n_estimators': [100, 200]}\n",
    "grid_search_xgb = GridSearchCV(xgb.XGBRegressor(random_state=1), param_grid_xgb, cv=5, scoring='r2')\n",
    "grid_search_xgb.fit(X_train, y_train)\n",
    "cv_scores_xgb = cross_val_score(grid_search_xgb, X_train, y_train, cv=5, scoring='r2')\n",
    "y_pred_train_xgb = grid_search_xgb.predict(X_train)\n",
    "y_pred_test_xgb = grid_search_xgb.predict(X_test)\n",
    "\n",
    "# Best parameters for XGBoost\n",
    "best_params_xgb = grid_search_xgb.best_params_\n",
    "\n",
    "# Calculate R2 and MSE for training data\n",
    "r2_train_xgb = r2_score(y_train, y_pred_train_xgb)\n",
    "mse_train_xgb = mean_squared_error(y_train, y_pred_train_xgb)\n",
    "\n",
    "# Calculate R2 and MSE for testing data\n",
    "r2_test_xgb = r2_score(y_test, y_pred_test_xgb)\n",
    "mse_test_xgb = mean_squared_error(y_test, y_pred_test_xgb)\n",
    "\n",
    "r2_scores['XGBoost'] = r2_test_xgb\n",
    "mse_scores['XGBoost'] = mse_test_xgb\n",
    "\n",
    "r2_scores_train['XGBoost'] = r2_train_xgb\n",
    "mse_scores_train['XGBoost'] = mse_train_xgb\n",
    "\n",
    "print(f\"Cross-validated R2 scores for XGBoost: {cv_scores_xgb}\")\n",
    "print(f\"Training R2 score for XGBoost: {r2_train_xgb}\")\n",
    "print(f\"Testing R2 score for XGBoost: {r2_test_xgb}\")\n",
    "print(f\"Training MSE for XGBoost: {mse_train_xgb}\")\n",
    "print(f\"Testing MSE for XGBoost: {mse_test_xgb}\")\n",
    "print(f\"Best parameters for XGBoost: {best_params_xgb}\")\n",
    "\n",
    "# Plotting Actual vs Predicted for Testing Data\n",
    "plt.figure(figsize=(10, 6))\n",
    "sns.scatterplot(x=y_test, y=y_pred_test_xgb, color='blue', label='Predicted vs Actual')\n",
    "plt.plot([y_test.min(), y_test.max()], [y_test.min(), y_test.max()], 'k--', lw=2)\n",
    "plt.xlabel('Actual Values')\n",
    "plt.ylabel('Predicted Values')\n",
    "plt.title('XGBoost: Actual vs Predicted')\n",
    "plt.legend()\n",
    "plt.show()\n"
   ]
  },
  {
   "cell_type": "code",
   "execution_count": 48,
   "id": "ec7d020d",
   "metadata": {},
   "outputs": [
    {
     "data": {
      "text/plain": [
       "array([88.05886], dtype=float32)"
      ]
     },
     "execution_count": 48,
     "metadata": {},
     "output_type": "execute_result"
    }
   ],
   "source": [
    "grid_search_xgb.predict([[12,2.7465,10.633]])"
   ]
  },
  {
   "cell_type": "code",
   "execution_count": 49,
   "id": "923ce3b1",
   "metadata": {},
   "outputs": [
    {
     "data": {
      "text/plain": [
       "array([65.21262], dtype=float32)"
      ]
     },
     "execution_count": 49,
     "metadata": {},
     "output_type": "execute_result"
    }
   ],
   "source": [
    "grid_search_xgb.predict([[1,0.1601,7.332]])"
   ]
  },
  {
   "cell_type": "code",
   "execution_count": 50,
   "id": "d9b07d08",
   "metadata": {},
   "outputs": [
    {
     "data": {
      "text/plain": [
       "array([87.77816], dtype=float32)"
      ]
     },
     "execution_count": 50,
     "metadata": {},
     "output_type": "execute_result"
    }
   ],
   "source": [
    "grid_search_xgb.predict([[8,1.843,11.038]])"
   ]
  },
  {
   "cell_type": "code",
   "execution_count": 51,
   "id": "0c6e88f1",
   "metadata": {},
   "outputs": [
    {
     "data": {
      "text/plain": [
       "array([32.868286], dtype=float32)"
      ]
     },
     "execution_count": 51,
     "metadata": {},
     "output_type": "execute_result"
    }
   ],
   "source": [
    "grid_search_xgb.predict([[6,0.086,0.3864]])"
   ]
  },
  {
   "cell_type": "code",
   "execution_count": 52,
   "id": "df289758",
   "metadata": {},
   "outputs": [
    {
     "data": {
      "text/plain": [
       "{'KNN': 0.9655955468371955,\n",
       " 'SVR': 0.9128266052392217,\n",
       " 'Decision Tree': 1.0,\n",
       " 'Random Forest': 0.9949066168875376,\n",
       " 'GBM': 0.9999929747586552,\n",
       " 'XGBoost': 0.9997352394784504}"
      ]
     },
     "execution_count": 52,
     "metadata": {},
     "output_type": "execute_result"
    }
   ],
   "source": [
    "r2_scores_train"
   ]
  },
  {
   "cell_type": "code",
   "execution_count": 53,
   "id": "a14f9162",
   "metadata": {},
   "outputs": [
    {
     "data": {
      "text/plain": [
       "{'KNN': 197.89542263924295,\n",
       " 'SVR': 501.42392083512414,\n",
       " 'Decision Tree': 0.0,\n",
       " 'Random Forest': 29.29728889846324,\n",
       " 'GBM': 0.040409394054181126,\n",
       " 'XGBoost': 1.522910277407909}"
      ]
     },
     "execution_count": 53,
     "metadata": {},
     "output_type": "execute_result"
    }
   ],
   "source": [
    "mse_scores_train"
   ]
  },
  {
   "cell_type": "code",
   "execution_count": 54,
   "id": "20d767a9",
   "metadata": {},
   "outputs": [
    {
     "data": {
      "text/plain": [
       "{'KNN': 0.7949641240139041,\n",
       " 'SVR': 0.8688913541779644,\n",
       " 'Decision Tree': 0.799926464414133,\n",
       " 'Random Forest': 0.9557912475093294,\n",
       " 'GBM': 0.9650994271665847,\n",
       " 'XGBoost': 0.9538676820725239}"
      ]
     },
     "execution_count": 54,
     "metadata": {},
     "output_type": "execute_result"
    }
   ],
   "source": [
    "r2_scores"
   ]
  },
  {
   "cell_type": "code",
   "execution_count": 55,
   "id": "d8ec5a14",
   "metadata": {},
   "outputs": [
    {
     "data": {
      "text/plain": [
       "{'KNN': 359.6952056361,\n",
       " 'SVR': 230.0043887091531,\n",
       " 'Decision Tree': 350.9897532750817,\n",
       " 'Random Forest': 77.55558017137227,\n",
       " 'GBM': 61.22620571525893,\n",
       " 'XGBoost': 80.93009822592569}"
      ]
     },
     "execution_count": 55,
     "metadata": {},
     "output_type": "execute_result"
    }
   ],
   "source": [
    "mse_scores"
   ]
  },
  {
   "cell_type": "code",
   "execution_count": 56,
   "id": "0cfeaf7c",
   "metadata": {},
   "outputs": [
    {
     "data": {
      "text/plain": [
       "{'KNN': 0.7949641240139041,\n",
       " 'SVR': 0.8688913541779644,\n",
       " 'Decision Tree': 0.799926464414133,\n",
       " 'Random Forest': 0.9557912475093294,\n",
       " 'GBM': 0.9650994271665847,\n",
       " 'XGBoost': 0.9538676820725239}"
      ]
     },
     "execution_count": 56,
     "metadata": {},
     "output_type": "execute_result"
    }
   ],
   "source": [
    "r2_scores_test = r2_scores\n",
    "r2_scores_test"
   ]
  },
  {
   "cell_type": "code",
   "execution_count": 57,
   "id": "00f2eccb",
   "metadata": {},
   "outputs": [
    {
     "data": {
      "text/plain": [
       "{'KNN': 359.6952056361,\n",
       " 'SVR': 230.0043887091531,\n",
       " 'Decision Tree': 350.9897532750817,\n",
       " 'Random Forest': 77.55558017137227,\n",
       " 'GBM': 61.22620571525893,\n",
       " 'XGBoost': 80.93009822592569}"
      ]
     },
     "execution_count": 57,
     "metadata": {},
     "output_type": "execute_result"
    }
   ],
   "source": [
    "mse_scores_test = mse_scores\n",
    "mse_scores_test"
   ]
  },
  {
   "cell_type": "code",
   "execution_count": null,
   "id": "fb9dc288",
   "metadata": {},
   "outputs": [],
   "source": []
  },
  {
   "cell_type": "code",
   "execution_count": 58,
   "id": "a1aad863",
   "metadata": {},
   "outputs": [
    {
     "data": {
      "image/png": "[encoded data removed]",
      "text/plain": [
       "<Figure size 1008x576 with 1 Axes>"
      ]
     },
     "metadata": {
      "needs_background": "light"
     },
     "output_type": "display_data"
    }
   ],
   "source": [
    "import pandas as pd\n",
    "import seaborn as sns\n",
    "import matplotlib.pyplot as plt\n",
    "\n",
    "# Assuming r2_scores_train and r2_scores_test are defined\n",
    "# Creating a DataFrame from the dictionaries\n",
    "r2_df = pd.DataFrame({\n",
    "    'Model': list(r2_scores_train.keys()),\n",
    "    'Training R2 Score': [val * 100 for val in r2_scores_train.values()],\n",
    "    'Testing R2 Score': [val * 100 for val in r2_scores_test.values()]\n",
    "})\n",
    "\n",
    "# Melt the DataFrame to have a suitable format for seaborn's barplot\n",
    "r2_df_melted = r2_df.melt(id_vars='Model', value_vars=['Training R2 Score', 'Testing R2 Score'], \n",
    "                          var_name='Dataset', value_name='R2 Score (%)')\n",
    "\n",
    "# Plotting the R2 scores side by side\n",
    "plt.figure(figsize=(14, 8))\n",
    "barplot = sns.barplot(x='Model', y='R2 Score (%)', hue='Dataset', data=r2_df_melted, palette=['tomato', 'dodgerblue'])\n",
    "\n",
    "# Adding exact R2 scores in percentage format on bars\n",
    "for p in barplot.patches:\n",
    "    barplot.annotate(f'{p.get_height():.3f}%', \n",
    "                     (p.get_x() + p.get_width() / 2., p.get_height()), \n",
    "                     ha='center', va='center', \n",
    "                     xytext=(0, 10), \n",
    "                     textcoords='offset points', \n",
    "                     fontsize=10, color='black', fontweight='bold')\n",
    "\n",
    "# Setting bold font for axis labels and title\n",
    "plt.ylabel('R2 Score (%)', fontsize=14, fontweight='bold')\n",
    "plt.xlabel('Model', fontsize=14, fontweight='bold')\n",
    "plt.title('Training and Testing R2 Score Comparison of Different Regression Models', fontsize=16, fontweight='bold')\n",
    "\n",
    "# Rotating x-axis labels and making them bold\n",
    "plt.xticks(rotation=45, fontsize=12, fontweight='bold')\n",
    "plt.yticks(fontsize=12, fontweight='bold')\n",
    "\n",
    "# Set y-axis limit from 0 to 130 for percentage representation\n",
    "plt.ylim(0, 130)\n",
    "\n",
    "plt.show()\n"
   ]
  },
  {
   "cell_type": "code",
   "execution_count": 59,
   "id": "ddb2771d",
   "metadata": {},
   "outputs": [
    {
     "data": {
      "image/png": "[encoded data removed]",
      "text/plain": [
       "<Figure size 1008x576 with 1 Axes>"
      ]
     },
     "metadata": {
      "needs_background": "light"
     },
     "output_type": "display_data"
    }
   ],
   "source": [
    "import pandas as pd\n",
    "import seaborn as sns\n",
    "import matplotlib.pyplot as plt\n",
    "\n",
    "# Assuming mse_scores_train and mse_scores_test are defined\n",
    "# Creating a DataFrame from the dictionaries\n",
    "mse_df = pd.DataFrame({\n",
    "    'Model': list(mse_scores_train.keys()),\n",
    "    'Training MSE': list(mse_scores_train.values()),\n",
    "    'Testing MSE': list(mse_scores_test.values())\n",
    "})\n",
    "\n",
    "# Melt the DataFrame to have a suitable format for seaborn's barplot\n",
    "mse_df_melted = mse_df.melt(id_vars='Model', value_vars=['Training MSE', 'Testing MSE'], \n",
    "                            var_name='Dataset', value_name='MSE')\n",
    "\n",
    "# Plotting the MSE scores side by side\n",
    "plt.figure(figsize=(14, 8))\n",
    "barplot = sns.barplot(x='Model', y='MSE', hue='Dataset', data=mse_df_melted, palette=['tomato', 'dodgerblue'])\n",
    "\n",
    "# Adding exact MSE scores on bars\n",
    "for p in barplot.patches:\n",
    "    barplot.annotate(f'{p.get_height():.6f}', \n",
    "                     (p.get_x() + p.get_width() / 2., p.get_height()), \n",
    "                     ha='center', va='center', \n",
    "                     xytext=(0, 10), \n",
    "                     textcoords='offset points', \n",
    "                     fontsize=10, color='black', fontweight='bold')\n",
    "\n",
    "# Setting bold font for axis labels and title\n",
    "plt.ylabel('MSE', fontsize=14, fontweight='bold')\n",
    "plt.xlabel('Model', fontsize=14, fontweight='bold')\n",
    "plt.title('Training and Testing MSE Comparison of Different Regression Models', fontsize=16, fontweight='bold')\n",
    "\n",
    "# Rotating x-axis labels and making them bold\n",
    "plt.xticks(rotation=45, fontsize=12, fontweight='bold')\n",
    "plt.yticks(fontsize=12, fontweight='bold')\n",
    "\n",
    "# Set y-axis limit for better visualization\n",
    "plt.ylim(0, max(max(mse_scores_train.values()), max(mse_scores_test.values())) * 1.1)\n",
    "\n",
    "plt.show()\n"
   ]
  },
  {
   "cell_type": "code",
   "execution_count": 60,
   "id": "ed946269",
   "metadata": {},
   "outputs": [
    {
     "data": {
      "text/html": [
       "<div>\n",
       "<style scoped>\n",
       "    .dataframe tbody tr th:only-of-type {\n",
       "        vertical-align: middle;\n",
       "    }\n",
       "\n",
       "    .dataframe tbody tr th {\n",
       "        vertical-align: top;\n",
       "    }\n",
       "\n",
       "    .dataframe thead th {\n",
       "        text-align: right;\n",
       "    }\n",
       "</style>\n",
       "<table border=\"1\" class=\"dataframe\">\n",
       "  <thead>\n",
       "    <tr style=\"text-align: right;\">\n",
       "      <th></th>\n",
       "      <th>Relay Height</th>\n",
       "      <th>Amplitude</th>\n",
       "      <th>Time Period</th>\n",
       "      <th>Time Constant</th>\n",
       "      <th>Delay</th>\n",
       "    </tr>\n",
       "  </thead>\n",
       "  <tbody>\n",
       "    <tr>\n",
       "      <th>0</th>\n",
       "      <td>6.0</td>\n",
       "      <td>0.0655</td>\n",
       "      <td>2.5988</td>\n",
       "      <td>48.241712</td>\n",
       "      <td>0.653227</td>\n",
       "    </tr>\n",
       "    <tr>\n",
       "      <th>1</th>\n",
       "      <td>6.0</td>\n",
       "      <td>0.0830</td>\n",
       "      <td>2.7200</td>\n",
       "      <td>39.844859</td>\n",
       "      <td>0.684683</td>\n",
       "    </tr>\n",
       "    <tr>\n",
       "      <th>2</th>\n",
       "      <td>6.0</td>\n",
       "      <td>0.0960</td>\n",
       "      <td>2.8004</td>\n",
       "      <td>35.466772</td>\n",
       "      <td>0.705680</td>\n",
       "    </tr>\n",
       "    <tr>\n",
       "      <th>3</th>\n",
       "      <td>6.0</td>\n",
       "      <td>0.0840</td>\n",
       "      <td>2.8240</td>\n",
       "      <td>40.875800</td>\n",
       "      <td>0.710921</td>\n",
       "    </tr>\n",
       "    <tr>\n",
       "      <th>4</th>\n",
       "      <td>6.0</td>\n",
       "      <td>0.0625</td>\n",
       "      <td>2.8216</td>\n",
       "      <td>54.891868</td>\n",
       "      <td>0.709053</td>\n",
       "    </tr>\n",
       "    <tr>\n",
       "      <th>...</th>\n",
       "      <td>...</td>\n",
       "      <td>...</td>\n",
       "      <td>...</td>\n",
       "      <td>...</td>\n",
       "      <td>...</td>\n",
       "    </tr>\n",
       "    <tr>\n",
       "      <th>191</th>\n",
       "      <td>12.0</td>\n",
       "      <td>0.3530</td>\n",
       "      <td>18.4440</td>\n",
       "      <td>127.028622</td>\n",
       "      <td>4.678690</td>\n",
       "    </tr>\n",
       "    <tr>\n",
       "      <th>192</th>\n",
       "      <td>12.0</td>\n",
       "      <td>0.2600</td>\n",
       "      <td>20.3600</td>\n",
       "      <td>190.405133</td>\n",
       "      <td>5.144994</td>\n",
       "    </tr>\n",
       "    <tr>\n",
       "      <th>193</th>\n",
       "      <td>12.0</td>\n",
       "      <td>0.2770</td>\n",
       "      <td>21.5952</td>\n",
       "      <td>189.558470</td>\n",
       "      <td>5.460955</td>\n",
       "    </tr>\n",
       "    <tr>\n",
       "      <th>194</th>\n",
       "      <td>12.0</td>\n",
       "      <td>0.3115</td>\n",
       "      <td>22.1608</td>\n",
       "      <td>172.971370</td>\n",
       "      <td>5.611949</td>\n",
       "    </tr>\n",
       "    <tr>\n",
       "      <th>195</th>\n",
       "      <td>12.0</td>\n",
       "      <td>0.2635</td>\n",
       "      <td>23.1928</td>\n",
       "      <td>214.015430</td>\n",
       "      <td>5.861692</td>\n",
       "    </tr>\n",
       "  </tbody>\n",
       "</table>\n",
       "<p>196 rows × 5 columns</p>\n",
       "</div>"
      ],
      "text/plain": [
       "     Relay Height  Amplitude  Time Period  Time Constant     Delay\n",
       "0             6.0     0.0655       2.5988      48.241712  0.653227\n",
       "1             6.0     0.0830       2.7200      39.844859  0.684683\n",
       "2             6.0     0.0960       2.8004      35.466772  0.705680\n",
       "3             6.0     0.0840       2.8240      40.875800  0.710921\n",
       "4             6.0     0.0625       2.8216      54.891868  0.709053\n",
       "..            ...        ...          ...            ...       ...\n",
       "191          12.0     0.3530      18.4440     127.028622  4.678690\n",
       "192          12.0     0.2600      20.3600     190.405133  5.144994\n",
       "193          12.0     0.2770      21.5952     189.558470  5.460955\n",
       "194          12.0     0.3115      22.1608     172.971370  5.611949\n",
       "195          12.0     0.2635      23.1928     214.015430  5.861692\n",
       "\n",
       "[196 rows x 5 columns]"
      ]
     },
     "execution_count": 60,
     "metadata": {},
     "output_type": "execute_result"
    }
   ],
   "source": [
    "data"
   ]
  },
  {
   "cell_type": "code",
   "execution_count": null,
   "id": "53a95e1b",
   "metadata": {},
   "outputs": [],
   "source": []
  }
 ],
 "metadata": {
  "kernelspec": {
   "display_name": "Python 3 (ipykernel)",
   "language": "python",
   "name": "python3"
  },
  "language_info": {
   "codemirror_mode": {
    "name": "ipython",
    "version": 3
   },
   "file_extension": ".py",
   "mimetype": "text/x-python",
   "name": "python",
   "nbconvert_exporter": "python",
   "pygments_lexer": "ipython3",
   "version": "3.9.12"
  }
 },
 "nbformat": 4,
 "nbformat_minor": 5
}
