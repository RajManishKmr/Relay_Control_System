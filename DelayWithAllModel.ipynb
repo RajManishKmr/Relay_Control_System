{
 "cells": [
  {
   "cell_type": "code",
   "execution_count": 1,
   "id": "980d91c6",
   "metadata": {},
   "outputs": [],
   "source": [
    "import numpy as np\n",
    "import matplotlib.pyplot as plt\n",
    "import pandas as pd\n",
    "from sklearn.tree import DecisionTreeRegressor\n",
    "import matplotlib.pyplot as plt\n",
    "import seaborn as sns\n",
    "from sklearn.ensemble import RandomForestRegressor, GradientBoostingRegressor\n",
    "from sklearn.svm import SVR\n",
    "from sklearn.neighbors import KNeighborsRegressor\n",
    "from sklearn.linear_model import LinearRegression\n",
    "from sklearn.preprocessing import PolynomialFeatures\n",
    "from sklearn.pipeline import make_pipeline\n",
    "from sklearn.model_selection import GridSearchCV, train_test_split, cross_val_score\n",
    "from sklearn.metrics import r2_score, mean_squared_error\n",
    "from sklearn.tree import DecisionTreeRegressor\n",
    "from xgboost import XGBRegressor\n",
    "\n"
   ]
  },
  {
   "cell_type": "code",
   "execution_count": 2,
   "id": "24d4e621",
   "metadata": {},
   "outputs": [],
   "source": [
    "data = pd.read_csv('finaldata6.csv')"
   ]
  },
  {
   "cell_type": "code",
   "execution_count": 3,
   "id": "4d874d6d",
   "metadata": {},
   "outputs": [
    {
     "data": {
      "text/html": [
       "<div>\n",
       "<style scoped>\n",
       "    .dataframe tbody tr th:only-of-type {\n",
       "        vertical-align: middle;\n",
       "    }\n",
       "\n",
       "    .dataframe tbody tr th {\n",
       "        vertical-align: top;\n",
       "    }\n",
       "\n",
       "    .dataframe thead th {\n",
       "        text-align: right;\n",
       "    }\n",
       "</style>\n",
       "<table border=\"1\" class=\"dataframe\">\n",
       "  <thead>\n",
       "    <tr style=\"text-align: right;\">\n",
       "      <th></th>\n",
       "      <th>Unnamed: 0</th>\n",
       "      <th>Relay Height</th>\n",
       "      <th>Amplitude</th>\n",
       "      <th>Time Period</th>\n",
       "      <th>Time Constant</th>\n",
       "      <th>Delay</th>\n",
       "    </tr>\n",
       "  </thead>\n",
       "  <tbody>\n",
       "    <tr>\n",
       "      <th>0</th>\n",
       "      <td>0</td>\n",
       "      <td>6.0</td>\n",
       "      <td>0.0655</td>\n",
       "      <td>2.5988</td>\n",
       "      <td>48.241712</td>\n",
       "      <td>1.959681</td>\n",
       "    </tr>\n",
       "    <tr>\n",
       "      <th>1</th>\n",
       "      <td>1</td>\n",
       "      <td>6.0</td>\n",
       "      <td>0.0830</td>\n",
       "      <td>2.7200</td>\n",
       "      <td>39.844859</td>\n",
       "      <td>2.054050</td>\n",
       "    </tr>\n",
       "    <tr>\n",
       "      <th>2</th>\n",
       "      <td>2</td>\n",
       "      <td>6.0</td>\n",
       "      <td>0.0960</td>\n",
       "      <td>2.8004</td>\n",
       "      <td>35.466772</td>\n",
       "      <td>2.117041</td>\n",
       "    </tr>\n",
       "    <tr>\n",
       "      <th>3</th>\n",
       "      <td>3</td>\n",
       "      <td>6.0</td>\n",
       "      <td>0.0840</td>\n",
       "      <td>2.8240</td>\n",
       "      <td>40.875800</td>\n",
       "      <td>2.132764</td>\n",
       "    </tr>\n",
       "    <tr>\n",
       "      <th>4</th>\n",
       "      <td>4</td>\n",
       "      <td>6.0</td>\n",
       "      <td>0.0625</td>\n",
       "      <td>2.8216</td>\n",
       "      <td>54.891868</td>\n",
       "      <td>2.127160</td>\n",
       "    </tr>\n",
       "    <tr>\n",
       "      <th>...</th>\n",
       "      <td>...</td>\n",
       "      <td>...</td>\n",
       "      <td>...</td>\n",
       "      <td>...</td>\n",
       "      <td>...</td>\n",
       "      <td>...</td>\n",
       "    </tr>\n",
       "    <tr>\n",
       "      <th>191</th>\n",
       "      <td>191</td>\n",
       "      <td>12.0</td>\n",
       "      <td>0.3530</td>\n",
       "      <td>18.4440</td>\n",
       "      <td>127.028622</td>\n",
       "      <td>14.036070</td>\n",
       "    </tr>\n",
       "    <tr>\n",
       "      <th>192</th>\n",
       "      <td>192</td>\n",
       "      <td>12.0</td>\n",
       "      <td>0.2600</td>\n",
       "      <td>20.3600</td>\n",
       "      <td>190.405133</td>\n",
       "      <td>15.434983</td>\n",
       "    </tr>\n",
       "    <tr>\n",
       "      <th>193</th>\n",
       "      <td>193</td>\n",
       "      <td>12.0</td>\n",
       "      <td>0.2770</td>\n",
       "      <td>21.5952</td>\n",
       "      <td>189.558470</td>\n",
       "      <td>16.382866</td>\n",
       "    </tr>\n",
       "    <tr>\n",
       "      <th>194</th>\n",
       "      <td>194</td>\n",
       "      <td>12.0</td>\n",
       "      <td>0.3115</td>\n",
       "      <td>22.1608</td>\n",
       "      <td>172.971370</td>\n",
       "      <td>16.835846</td>\n",
       "    </tr>\n",
       "    <tr>\n",
       "      <th>195</th>\n",
       "      <td>195</td>\n",
       "      <td>12.0</td>\n",
       "      <td>0.2635</td>\n",
       "      <td>23.1928</td>\n",
       "      <td>214.015430</td>\n",
       "      <td>17.585075</td>\n",
       "    </tr>\n",
       "  </tbody>\n",
       "</table>\n",
       "<p>196 rows × 6 columns</p>\n",
       "</div>"
      ],
      "text/plain": [
       "     Unnamed: 0  Relay Height  Amplitude  Time Period  Time Constant  \\\n",
       "0             0           6.0     0.0655       2.5988      48.241712   \n",
       "1             1           6.0     0.0830       2.7200      39.844859   \n",
       "2             2           6.0     0.0960       2.8004      35.466772   \n",
       "3             3           6.0     0.0840       2.8240      40.875800   \n",
       "4             4           6.0     0.0625       2.8216      54.891868   \n",
       "..          ...           ...        ...          ...            ...   \n",
       "191         191          12.0     0.3530      18.4440     127.028622   \n",
       "192         192          12.0     0.2600      20.3600     190.405133   \n",
       "193         193          12.0     0.2770      21.5952     189.558470   \n",
       "194         194          12.0     0.3115      22.1608     172.971370   \n",
       "195         195          12.0     0.2635      23.1928     214.015430   \n",
       "\n",
       "         Delay  \n",
       "0     1.959681  \n",
       "1     2.054050  \n",
       "2     2.117041  \n",
       "3     2.132764  \n",
       "4     2.127160  \n",
       "..         ...  \n",
       "191  14.036070  \n",
       "192  15.434983  \n",
       "193  16.382866  \n",
       "194  16.835846  \n",
       "195  17.585075  \n",
       "\n",
       "[196 rows x 6 columns]"
      ]
     },
     "execution_count": 3,
     "metadata": {},
     "output_type": "execute_result"
    }
   ],
   "source": [
    "data\n"
   ]
  },
  {
   "cell_type": "code",
   "execution_count": 4,
   "id": "1fc3f059",
   "metadata": {},
   "outputs": [],
   "source": [
    "data.drop(['Unnamed: 0'], axis = 1, inplace = True)\n"
   ]
  },
  {
   "cell_type": "code",
   "execution_count": 5,
   "id": "b071d318",
   "metadata": {},
   "outputs": [],
   "source": [
    "y = data['Delay']\n"
   ]
  },
  {
   "cell_type": "code",
   "execution_count": 6,
   "id": "22820696",
   "metadata": {},
   "outputs": [],
   "source": [
    "X=data.iloc[:,:-2]"
   ]
  },
  {
   "cell_type": "code",
   "execution_count": 7,
   "id": "0958b6f6",
   "metadata": {
    "scrolled": true
   },
   "outputs": [
    {
     "data": {
      "text/html": [
       "<div>\n",
       "<style scoped>\n",
       "    .dataframe tbody tr th:only-of-type {\n",
       "        vertical-align: middle;\n",
       "    }\n",
       "\n",
       "    .dataframe tbody tr th {\n",
       "        vertical-align: top;\n",
       "    }\n",
       "\n",
       "    .dataframe thead th {\n",
       "        text-align: right;\n",
       "    }\n",
       "</style>\n",
       "<table border=\"1\" class=\"dataframe\">\n",
       "  <thead>\n",
       "    <tr style=\"text-align: right;\">\n",
       "      <th></th>\n",
       "      <th>Relay Height</th>\n",
       "      <th>Amplitude</th>\n",
       "      <th>Time Period</th>\n",
       "    </tr>\n",
       "  </thead>\n",
       "  <tbody>\n",
       "    <tr>\n",
       "      <th>0</th>\n",
       "      <td>6.0</td>\n",
       "      <td>0.0655</td>\n",
       "      <td>2.5988</td>\n",
       "    </tr>\n",
       "    <tr>\n",
       "      <th>1</th>\n",
       "      <td>6.0</td>\n",
       "      <td>0.0830</td>\n",
       "      <td>2.7200</td>\n",
       "    </tr>\n",
       "    <tr>\n",
       "      <th>2</th>\n",
       "      <td>6.0</td>\n",
       "      <td>0.0960</td>\n",
       "      <td>2.8004</td>\n",
       "    </tr>\n",
       "    <tr>\n",
       "      <th>3</th>\n",
       "      <td>6.0</td>\n",
       "      <td>0.0840</td>\n",
       "      <td>2.8240</td>\n",
       "    </tr>\n",
       "    <tr>\n",
       "      <th>4</th>\n",
       "      <td>6.0</td>\n",
       "      <td>0.0625</td>\n",
       "      <td>2.8216</td>\n",
       "    </tr>\n",
       "    <tr>\n",
       "      <th>...</th>\n",
       "      <td>...</td>\n",
       "      <td>...</td>\n",
       "      <td>...</td>\n",
       "    </tr>\n",
       "    <tr>\n",
       "      <th>191</th>\n",
       "      <td>12.0</td>\n",
       "      <td>0.3530</td>\n",
       "      <td>18.4440</td>\n",
       "    </tr>\n",
       "    <tr>\n",
       "      <th>192</th>\n",
       "      <td>12.0</td>\n",
       "      <td>0.2600</td>\n",
       "      <td>20.3600</td>\n",
       "    </tr>\n",
       "    <tr>\n",
       "      <th>193</th>\n",
       "      <td>12.0</td>\n",
       "      <td>0.2770</td>\n",
       "      <td>21.5952</td>\n",
       "    </tr>\n",
       "    <tr>\n",
       "      <th>194</th>\n",
       "      <td>12.0</td>\n",
       "      <td>0.3115</td>\n",
       "      <td>22.1608</td>\n",
       "    </tr>\n",
       "    <tr>\n",
       "      <th>195</th>\n",
       "      <td>12.0</td>\n",
       "      <td>0.2635</td>\n",
       "      <td>23.1928</td>\n",
       "    </tr>\n",
       "  </tbody>\n",
       "</table>\n",
       "<p>196 rows × 3 columns</p>\n",
       "</div>"
      ],
      "text/plain": [
       "     Relay Height  Amplitude  Time Period\n",
       "0             6.0     0.0655       2.5988\n",
       "1             6.0     0.0830       2.7200\n",
       "2             6.0     0.0960       2.8004\n",
       "3             6.0     0.0840       2.8240\n",
       "4             6.0     0.0625       2.8216\n",
       "..            ...        ...          ...\n",
       "191          12.0     0.3530      18.4440\n",
       "192          12.0     0.2600      20.3600\n",
       "193          12.0     0.2770      21.5952\n",
       "194          12.0     0.3115      22.1608\n",
       "195          12.0     0.2635      23.1928\n",
       "\n",
       "[196 rows x 3 columns]"
      ]
     },
     "execution_count": 7,
     "metadata": {},
     "output_type": "execute_result"
    }
   ],
   "source": [
    "X"
   ]
  },
  {
   "cell_type": "code",
   "execution_count": 8,
   "id": "6853bdc6",
   "metadata": {
    "scrolled": false
   },
   "outputs": [
    {
     "data": {
      "text/plain": [
       "0       1.959681\n",
       "1       2.054050\n",
       "2       2.117041\n",
       "3       2.132764\n",
       "4       2.127160\n",
       "         ...    \n",
       "191    14.036070\n",
       "192    15.434983\n",
       "193    16.382866\n",
       "194    16.835846\n",
       "195    17.585075\n",
       "Name: Delay, Length: 196, dtype: float64"
      ]
     },
     "execution_count": 8,
     "metadata": {},
     "output_type": "execute_result"
    }
   ],
   "source": [
    "y"
   ]
  },
  {
   "cell_type": "code",
   "execution_count": 9,
   "id": "7ac7bd11",
   "metadata": {},
   "outputs": [],
   "source": [
    "from sklearn.model_selection import train_test_split\n",
    "X_train, X_test, y_train, y_test = train_test_split(X, y, test_size = 0.2, random_state = 1)"
   ]
  },
  {
   "cell_type": "code",
   "execution_count": 10,
   "id": "953dd913",
   "metadata": {},
   "outputs": [
    {
     "data": {
      "text/html": [
       "<div>\n",
       "<style scoped>\n",
       "    .dataframe tbody tr th:only-of-type {\n",
       "        vertical-align: middle;\n",
       "    }\n",
       "\n",
       "    .dataframe tbody tr th {\n",
       "        vertical-align: top;\n",
       "    }\n",
       "\n",
       "    .dataframe thead th {\n",
       "        text-align: right;\n",
       "    }\n",
       "</style>\n",
       "<table border=\"1\" class=\"dataframe\">\n",
       "  <thead>\n",
       "    <tr style=\"text-align: right;\">\n",
       "      <th></th>\n",
       "      <th>Relay Height</th>\n",
       "      <th>Amplitude</th>\n",
       "      <th>Time Period</th>\n",
       "    </tr>\n",
       "  </thead>\n",
       "  <tbody>\n",
       "    <tr>\n",
       "      <th>58</th>\n",
       "      <td>8.0</td>\n",
       "      <td>0.2100</td>\n",
       "      <td>1.34210</td>\n",
       "    </tr>\n",
       "    <tr>\n",
       "      <th>14</th>\n",
       "      <td>6.0</td>\n",
       "      <td>0.1090</td>\n",
       "      <td>4.40420</td>\n",
       "    </tr>\n",
       "    <tr>\n",
       "      <th>47</th>\n",
       "      <td>6.0</td>\n",
       "      <td>0.0535</td>\n",
       "      <td>3.85904</td>\n",
       "    </tr>\n",
       "    <tr>\n",
       "      <th>19</th>\n",
       "      <td>6.0</td>\n",
       "      <td>0.1080</td>\n",
       "      <td>4.76000</td>\n",
       "    </tr>\n",
       "    <tr>\n",
       "      <th>81</th>\n",
       "      <td>8.0</td>\n",
       "      <td>0.2035</td>\n",
       "      <td>7.80000</td>\n",
       "    </tr>\n",
       "    <tr>\n",
       "      <th>...</th>\n",
       "      <td>...</td>\n",
       "      <td>...</td>\n",
       "      <td>...</td>\n",
       "    </tr>\n",
       "    <tr>\n",
       "      <th>133</th>\n",
       "      <td>10.0</td>\n",
       "      <td>0.2005</td>\n",
       "      <td>7.24160</td>\n",
       "    </tr>\n",
       "    <tr>\n",
       "      <th>137</th>\n",
       "      <td>10.0</td>\n",
       "      <td>0.2210</td>\n",
       "      <td>10.95000</td>\n",
       "    </tr>\n",
       "    <tr>\n",
       "      <th>72</th>\n",
       "      <td>8.0</td>\n",
       "      <td>0.2315</td>\n",
       "      <td>3.74160</td>\n",
       "    </tr>\n",
       "    <tr>\n",
       "      <th>140</th>\n",
       "      <td>10.0</td>\n",
       "      <td>0.1810</td>\n",
       "      <td>16.23440</td>\n",
       "    </tr>\n",
       "    <tr>\n",
       "      <th>37</th>\n",
       "      <td>6.0</td>\n",
       "      <td>0.0800</td>\n",
       "      <td>10.87736</td>\n",
       "    </tr>\n",
       "  </tbody>\n",
       "</table>\n",
       "<p>156 rows × 3 columns</p>\n",
       "</div>"
      ],
      "text/plain": [
       "     Relay Height  Amplitude  Time Period\n",
       "58            8.0     0.2100      1.34210\n",
       "14            6.0     0.1090      4.40420\n",
       "47            6.0     0.0535      3.85904\n",
       "19            6.0     0.1080      4.76000\n",
       "81            8.0     0.2035      7.80000\n",
       "..            ...        ...          ...\n",
       "133          10.0     0.2005      7.24160\n",
       "137          10.0     0.2210     10.95000\n",
       "72            8.0     0.2315      3.74160\n",
       "140          10.0     0.1810     16.23440\n",
       "37            6.0     0.0800     10.87736\n",
       "\n",
       "[156 rows x 3 columns]"
      ]
     },
     "execution_count": 10,
     "metadata": {},
     "output_type": "execute_result"
    }
   ],
   "source": [
    "X_train"
   ]
  },
  {
   "cell_type": "code",
   "execution_count": 11,
   "id": "19351533",
   "metadata": {},
   "outputs": [
    {
     "data": {
      "text/plain": [
       "58      1.019758\n",
       "14      3.333057\n",
       "47      2.907098\n",
       "19      3.602026\n",
       "81      5.924237\n",
       "         ...    \n",
       "133     5.485490\n",
       "137     8.303010\n",
       "72      2.846723\n",
       "140    12.285636\n",
       "37      8.212167\n",
       "Name: Delay, Length: 156, dtype: float64"
      ]
     },
     "execution_count": 11,
     "metadata": {},
     "output_type": "execute_result"
    }
   ],
   "source": [
    "y_train"
   ]
  },
  {
   "cell_type": "code",
   "execution_count": 12,
   "id": "e016490f",
   "metadata": {},
   "outputs": [
    {
     "data": {
      "text/html": [
       "<div>\n",
       "<style scoped>\n",
       "    .dataframe tbody tr th:only-of-type {\n",
       "        vertical-align: middle;\n",
       "    }\n",
       "\n",
       "    .dataframe tbody tr th {\n",
       "        vertical-align: top;\n",
       "    }\n",
       "\n",
       "    .dataframe thead th {\n",
       "        text-align: right;\n",
       "    }\n",
       "</style>\n",
       "<table border=\"1\" class=\"dataframe\">\n",
       "  <thead>\n",
       "    <tr style=\"text-align: right;\">\n",
       "      <th></th>\n",
       "      <th>Relay Height</th>\n",
       "      <th>Amplitude</th>\n",
       "      <th>Time Period</th>\n",
       "    </tr>\n",
       "  </thead>\n",
       "  <tbody>\n",
       "    <tr>\n",
       "      <th>127</th>\n",
       "      <td>10.0</td>\n",
       "      <td>0.4400</td>\n",
       "      <td>3.58360</td>\n",
       "    </tr>\n",
       "    <tr>\n",
       "      <th>11</th>\n",
       "      <td>6.0</td>\n",
       "      <td>0.0760</td>\n",
       "      <td>3.68400</td>\n",
       "    </tr>\n",
       "    <tr>\n",
       "      <th>110</th>\n",
       "      <td>10.0</td>\n",
       "      <td>0.3565</td>\n",
       "      <td>0.77252</td>\n",
       "    </tr>\n",
       "    <tr>\n",
       "      <th>124</th>\n",
       "      <td>10.0</td>\n",
       "      <td>0.3975</td>\n",
       "      <td>2.64350</td>\n",
       "    </tr>\n",
       "    <tr>\n",
       "      <th>18</th>\n",
       "      <td>6.0</td>\n",
       "      <td>0.1025</td>\n",
       "      <td>4.59330</td>\n",
       "    </tr>\n",
       "    <tr>\n",
       "      <th>165</th>\n",
       "      <td>12.0</td>\n",
       "      <td>0.5545</td>\n",
       "      <td>1.57410</td>\n",
       "    </tr>\n",
       "    <tr>\n",
       "      <th>44</th>\n",
       "      <td>6.0</td>\n",
       "      <td>0.0600</td>\n",
       "      <td>3.10272</td>\n",
       "    </tr>\n",
       "    <tr>\n",
       "      <th>28</th>\n",
       "      <td>6.0</td>\n",
       "      <td>0.1200</td>\n",
       "      <td>6.79200</td>\n",
       "    </tr>\n",
       "    <tr>\n",
       "      <th>171</th>\n",
       "      <td>12.0</td>\n",
       "      <td>0.5805</td>\n",
       "      <td>2.08560</td>\n",
       "    </tr>\n",
       "    <tr>\n",
       "      <th>136</th>\n",
       "      <td>10.0</td>\n",
       "      <td>0.2870</td>\n",
       "      <td>9.42760</td>\n",
       "    </tr>\n",
       "    <tr>\n",
       "      <th>51</th>\n",
       "      <td>7.0</td>\n",
       "      <td>0.1250</td>\n",
       "      <td>2.60520</td>\n",
       "    </tr>\n",
       "    <tr>\n",
       "      <th>29</th>\n",
       "      <td>6.0</td>\n",
       "      <td>0.1525</td>\n",
       "      <td>7.20600</td>\n",
       "    </tr>\n",
       "    <tr>\n",
       "      <th>105</th>\n",
       "      <td>10.5</td>\n",
       "      <td>0.3940</td>\n",
       "      <td>0.61950</td>\n",
       "    </tr>\n",
       "    <tr>\n",
       "      <th>56</th>\n",
       "      <td>8.0</td>\n",
       "      <td>0.2115</td>\n",
       "      <td>1.31360</td>\n",
       "    </tr>\n",
       "    <tr>\n",
       "      <th>53</th>\n",
       "      <td>8.0</td>\n",
       "      <td>0.2085</td>\n",
       "      <td>1.22944</td>\n",
       "    </tr>\n",
       "    <tr>\n",
       "      <th>174</th>\n",
       "      <td>12.0</td>\n",
       "      <td>0.6150</td>\n",
       "      <td>2.88240</td>\n",
       "    </tr>\n",
       "    <tr>\n",
       "      <th>16</th>\n",
       "      <td>6.0</td>\n",
       "      <td>0.1000</td>\n",
       "      <td>4.39620</td>\n",
       "    </tr>\n",
       "    <tr>\n",
       "      <th>164</th>\n",
       "      <td>12.0</td>\n",
       "      <td>0.5380</td>\n",
       "      <td>1.51140</td>\n",
       "    </tr>\n",
       "    <tr>\n",
       "      <th>143</th>\n",
       "      <td>10.0</td>\n",
       "      <td>0.2370</td>\n",
       "      <td>18.60000</td>\n",
       "    </tr>\n",
       "    <tr>\n",
       "      <th>99</th>\n",
       "      <td>9.0</td>\n",
       "      <td>0.3010</td>\n",
       "      <td>0.88568</td>\n",
       "    </tr>\n",
       "    <tr>\n",
       "      <th>27</th>\n",
       "      <td>6.0</td>\n",
       "      <td>0.1290</td>\n",
       "      <td>6.38600</td>\n",
       "    </tr>\n",
       "    <tr>\n",
       "      <th>130</th>\n",
       "      <td>10.0</td>\n",
       "      <td>0.4020</td>\n",
       "      <td>4.28080</td>\n",
       "    </tr>\n",
       "    <tr>\n",
       "      <th>78</th>\n",
       "      <td>8.0</td>\n",
       "      <td>0.2600</td>\n",
       "      <td>5.95000</td>\n",
       "    </tr>\n",
       "    <tr>\n",
       "      <th>168</th>\n",
       "      <td>12.0</td>\n",
       "      <td>0.5935</td>\n",
       "      <td>1.85780</td>\n",
       "    </tr>\n",
       "    <tr>\n",
       "      <th>108</th>\n",
       "      <td>10.0</td>\n",
       "      <td>0.3650</td>\n",
       "      <td>0.75224</td>\n",
       "    </tr>\n",
       "    <tr>\n",
       "      <th>191</th>\n",
       "      <td>12.0</td>\n",
       "      <td>0.3530</td>\n",
       "      <td>18.44400</td>\n",
       "    </tr>\n",
       "    <tr>\n",
       "      <th>31</th>\n",
       "      <td>6.0</td>\n",
       "      <td>0.1170</td>\n",
       "      <td>8.77360</td>\n",
       "    </tr>\n",
       "    <tr>\n",
       "      <th>35</th>\n",
       "      <td>6.0</td>\n",
       "      <td>0.1035</td>\n",
       "      <td>12.82000</td>\n",
       "    </tr>\n",
       "    <tr>\n",
       "      <th>173</th>\n",
       "      <td>12.0</td>\n",
       "      <td>0.5850</td>\n",
       "      <td>2.75480</td>\n",
       "    </tr>\n",
       "    <tr>\n",
       "      <th>4</th>\n",
       "      <td>6.0</td>\n",
       "      <td>0.0625</td>\n",
       "      <td>2.82160</td>\n",
       "    </tr>\n",
       "    <tr>\n",
       "      <th>113</th>\n",
       "      <td>10.0</td>\n",
       "      <td>0.3685</td>\n",
       "      <td>1.65840</td>\n",
       "    </tr>\n",
       "    <tr>\n",
       "      <th>112</th>\n",
       "      <td>10.0</td>\n",
       "      <td>0.3530</td>\n",
       "      <td>1.45730</td>\n",
       "    </tr>\n",
       "    <tr>\n",
       "      <th>116</th>\n",
       "      <td>10.0</td>\n",
       "      <td>0.3790</td>\n",
       "      <td>1.97220</td>\n",
       "    </tr>\n",
       "    <tr>\n",
       "      <th>82</th>\n",
       "      <td>8.0</td>\n",
       "      <td>0.1530</td>\n",
       "      <td>8.21680</td>\n",
       "    </tr>\n",
       "    <tr>\n",
       "      <th>186</th>\n",
       "      <td>12.0</td>\n",
       "      <td>0.2140</td>\n",
       "      <td>14.18880</td>\n",
       "    </tr>\n",
       "    <tr>\n",
       "      <th>69</th>\n",
       "      <td>8.0</td>\n",
       "      <td>0.2295</td>\n",
       "      <td>3.25140</td>\n",
       "    </tr>\n",
       "    <tr>\n",
       "      <th>169</th>\n",
       "      <td>12.0</td>\n",
       "      <td>0.5635</td>\n",
       "      <td>1.96060</td>\n",
       "    </tr>\n",
       "    <tr>\n",
       "      <th>40</th>\n",
       "      <td>6.0</td>\n",
       "      <td>0.0470</td>\n",
       "      <td>2.91832</td>\n",
       "    </tr>\n",
       "    <tr>\n",
       "      <th>102</th>\n",
       "      <td>10.0</td>\n",
       "      <td>0.3465</td>\n",
       "      <td>0.67056</td>\n",
       "    </tr>\n",
       "    <tr>\n",
       "      <th>182</th>\n",
       "      <td>12.0</td>\n",
       "      <td>0.4930</td>\n",
       "      <td>7.31360</td>\n",
       "    </tr>\n",
       "  </tbody>\n",
       "</table>\n",
       "</div>"
      ],
      "text/plain": [
       "     Relay Height  Amplitude  Time Period\n",
       "127          10.0     0.4400      3.58360\n",
       "11            6.0     0.0760      3.68400\n",
       "110          10.0     0.3565      0.77252\n",
       "124          10.0     0.3975      2.64350\n",
       "18            6.0     0.1025      4.59330\n",
       "165          12.0     0.5545      1.57410\n",
       "44            6.0     0.0600      3.10272\n",
       "28            6.0     0.1200      6.79200\n",
       "171          12.0     0.5805      2.08560\n",
       "136          10.0     0.2870      9.42760\n",
       "51            7.0     0.1250      2.60520\n",
       "29            6.0     0.1525      7.20600\n",
       "105          10.5     0.3940      0.61950\n",
       "56            8.0     0.2115      1.31360\n",
       "53            8.0     0.2085      1.22944\n",
       "174          12.0     0.6150      2.88240\n",
       "16            6.0     0.1000      4.39620\n",
       "164          12.0     0.5380      1.51140\n",
       "143          10.0     0.2370     18.60000\n",
       "99            9.0     0.3010      0.88568\n",
       "27            6.0     0.1290      6.38600\n",
       "130          10.0     0.4020      4.28080\n",
       "78            8.0     0.2600      5.95000\n",
       "168          12.0     0.5935      1.85780\n",
       "108          10.0     0.3650      0.75224\n",
       "191          12.0     0.3530     18.44400\n",
       "31            6.0     0.1170      8.77360\n",
       "35            6.0     0.1035     12.82000\n",
       "173          12.0     0.5850      2.75480\n",
       "4             6.0     0.0625      2.82160\n",
       "113          10.0     0.3685      1.65840\n",
       "112          10.0     0.3530      1.45730\n",
       "116          10.0     0.3790      1.97220\n",
       "82            8.0     0.1530      8.21680\n",
       "186          12.0     0.2140     14.18880\n",
       "69            8.0     0.2295      3.25140\n",
       "169          12.0     0.5635      1.96060\n",
       "40            6.0     0.0470      2.91832\n",
       "102          10.0     0.3465      0.67056\n",
       "182          12.0     0.4930      7.31360"
      ]
     },
     "execution_count": 12,
     "metadata": {},
     "output_type": "execute_result"
    }
   ],
   "source": [
    "X_test"
   ]
  },
  {
   "cell_type": "code",
   "execution_count": 13,
   "id": "8db37ad8",
   "metadata": {},
   "outputs": [
    {
     "data": {
      "text/plain": [
       "127     2.746762\n",
       "11      2.780418\n",
       "110     0.589702\n",
       "124     2.021978\n",
       "18      3.474300\n",
       "165     1.207822\n",
       "44      2.338607\n",
       "28      5.144792\n",
       "171     1.601997\n",
       "136     7.171965\n",
       "51      1.971288\n",
       "29      5.473027\n",
       "105     0.473330\n",
       "56      0.998195\n",
       "53      0.934069\n",
       "174     2.217147\n",
       "16      3.324530\n",
       "164     1.158932\n",
       "143    14.114906\n",
       "99      0.675350\n",
       "27      4.840848\n",
       "130     3.275049\n",
       "78      4.534892\n",
       "168     1.427774\n",
       "108     0.574461\n",
       "191    14.036070\n",
       "31      6.644165\n",
       "35      9.697648\n",
       "173     2.116413\n",
       "4       2.127160\n",
       "113     1.266684\n",
       "112     1.112236\n",
       "116     1.507140\n",
       "82      6.221350\n",
       "186    10.736177\n",
       "69      2.473459\n",
       "169     1.504939\n",
       "40      2.197248\n",
       "102     0.511619\n",
       "182     5.597733\n",
       "Name: Delay, dtype: float64"
      ]
     },
     "execution_count": 13,
     "metadata": {},
     "output_type": "execute_result"
    }
   ],
   "source": [
    "y_test"
   ]
  },
  {
   "cell_type": "code",
   "execution_count": 14,
   "id": "f6f3db51",
   "metadata": {},
   "outputs": [],
   "source": [
    "\n",
    "# Initialize an empty dictionary to store R2 scores\n",
    "r2_scores = {}\n",
    "mse_scores = {}\n",
    "r2_scores_train = {}\n",
    "mse_scores_train = {}"
   ]
  },
  {
   "cell_type": "code",
   "execution_count": null,
   "id": "21322ab2",
   "metadata": {},
   "outputs": [],
   "source": []
  },
  {
   "cell_type": "code",
   "execution_count": 15,
   "id": "8cda355c",
   "metadata": {
    "scrolled": true
   },
   "outputs": [],
   "source": [
    "# import matplotlib.pyplot as plt\n",
    "# import seaborn as sns\n",
    "# from sklearn.linear_model import LinearRegression\n",
    "# from sklearn.model_selection import cross_val_score, train_test_split\n",
    "# from sklearn.metrics import r2_score, mean_squared_error\n",
    "\n",
    "# # Assuming X and y are already defined\n",
    "# X_train, X_test, y_train, y_test = train_test_split(X, y, test_size=0.2, random_state=2)\n",
    "\n",
    "# # Initialize dictionaries to store R2 scores and MSEs\n",
    "# r2_scores = {}\n",
    "# mse_scores = {}\n",
    "\n",
    "# # Linear Regression with cross-validation\n",
    "# linear_reg = LinearRegression()\n",
    "# cv_scores_lr = cross_val_score(linear_reg, X_train, y_train, cv=5, scoring='r2')\n",
    "# linear_reg.fit(X_train, y_train)\n",
    "# y_pred_train_lr = linear_reg.predict(X_train)\n",
    "# y_pred_test_lr = linear_reg.predict(X_test)\n",
    "\n",
    "# # Calculate R2 and MSE for training data\n",
    "# r2_train_lr = r2_score(y_train, y_pred_train_lr)\n",
    "# mse_train_lr = mean_squared_error(y_train, y_pred_train_lr)\n",
    "\n",
    "# # Calculate R2 and MSE for testing data\n",
    "# r2_test_lr = r2_score(y_test, y_pred_test_lr)\n",
    "# mse_test_lr = mean_squared_error(y_test, y_pred_test_lr)\n",
    "\n",
    "# r2_scores['Linear Regression'] = r2_test_lr\n",
    "# mse_scores['Linear Regression'] = mse_test_lr\n",
    "\n",
    "# print(f\"Cross-validated R2 scores for Linear Regression: {cv_scores_lr}\")\n",
    "# print(f\"Training R2 score for Linear Regression: {r2_train_lr}\")\n",
    "# print(f\"Testing R2 score for Linear Regression: {r2_test_lr}\")\n",
    "# print(f\"Training MSE for Linear Regression: {mse_train_lr}\")\n",
    "# print(f\"Testing MSE for Linear Regression: {mse_test_lr}\")\n",
    "\n",
    "# # Plotting Actual vs Predicted for Testing Data\n",
    "# plt.figure(figsize=(10, 6))\n",
    "# sns.scatterplot(x=y_test, y=y_pred_test_lr, color='blue', label='Predicted vs Actual')\n",
    "# plt.plot([y_test.min(), y_test.max()], [y_test.min(), y_test.max()], 'k--', lw=2)\n",
    "# plt.xlabel('Actual Values')\n",
    "# plt.ylabel('Predicted Values')\n",
    "# plt.title('Linear Regression: Actual vs Predicted')\n",
    "# plt.legend()\n",
    "# plt.show()\n"
   ]
  },
  {
   "cell_type": "code",
   "execution_count": 16,
   "id": "b99cc78a",
   "metadata": {},
   "outputs": [],
   "source": [
    "# linear_reg.predict([[7,2.223,8.8380]])"
   ]
  },
  {
   "cell_type": "code",
   "execution_count": 17,
   "id": "22b158a1",
   "metadata": {},
   "outputs": [],
   "source": [
    "# linear_reg.predict([[1,0.1814,3.667]])"
   ]
  },
  {
   "cell_type": "code",
   "execution_count": 18,
   "id": "db137c87",
   "metadata": {},
   "outputs": [],
   "source": [
    "# linear_reg.predict([[12,1.867,11.038]])"
   ]
  },
  {
   "cell_type": "code",
   "execution_count": 19,
   "id": "ea2e7f52",
   "metadata": {},
   "outputs": [],
   "source": [
    "# linear_reg.predict([[1,0.1601,7.332]])"
   ]
  },
  {
   "cell_type": "code",
   "execution_count": null,
   "id": "a3712cdf",
   "metadata": {},
   "outputs": [],
   "source": []
  },
  {
   "cell_type": "code",
   "execution_count": null,
   "id": "c29d927f",
   "metadata": {},
   "outputs": [],
   "source": []
  },
  {
   "cell_type": "code",
   "execution_count": null,
   "id": "526c9a57",
   "metadata": {},
   "outputs": [],
   "source": []
  },
  {
   "cell_type": "code",
   "execution_count": 20,
   "id": "a1f8c3e1",
   "metadata": {},
   "outputs": [],
   "source": [
    "# from sklearn.preprocessing import PolynomialFeatures\n",
    "# from sklearn.pipeline import make_pipeline\n",
    "# from sklearn.model_selection import GridSearchCV\n",
    "\n",
    "# param_grid_poly = {'polynomialfeatures__degree': [1, 2, 3, 4, 5]}\n",
    "# grid_search_poly = GridSearchCV(make_pipeline(PolynomialFeatures(), LinearRegression()), param_grid_poly, cv=5, scoring='r2')\n",
    "# grid_search_poly.fit(X_train, y_train)\n",
    "# cv_scores_poly = cross_val_score(grid_search_poly, X_train, y_train, cv=5, scoring='r2')\n",
    "# y_pred_train_poly = grid_search_poly.predict(X_train)\n",
    "# y_pred_test_poly = grid_search_poly.predict(X_test)\n",
    "\n",
    "# # Calculate R2 and MSE for training data\n",
    "# r2_train_poly = r2_score(y_train, y_pred_train_poly)\n",
    "# mse_train_poly = mean_squared_error(y_train, y_pred_train_poly)\n",
    "\n",
    "# # Calculate R2 and MSE for testing data\n",
    "# r2_test_poly = r2_score(y_test, y_pred_test_poly)\n",
    "# mse_test_poly = mean_squared_error(y_test, y_pred_test_poly)\n",
    "\n",
    "# r2_scores['Polynomial Regression'] = r2_test_poly\n",
    "# mse_scores['Polynomial Regression'] = mse_test_poly\n",
    "\n",
    "# print(f\"Cross-validated R2 scores for Polynomial Regression: {cv_scores_poly}\")\n",
    "# print(f\"Training R2 score for Polynomial Regression: {r2_train_poly}\")\n",
    "# print(f\"Testing R2 score for Polynomial Regression: {r2_test_poly}\")\n",
    "# print(f\"Training MSE for Polynomial Regression: {mse_train_poly}\")\n",
    "# print(f\"Testing MSE for Polynomial Regression: {mse_test_poly}\")\n",
    "\n",
    "# # Plotting Actual vs Predicted for Testing Data\n",
    "# plt.figure(figsize=(10, 6))\n",
    "# sns.scatterplot(x=y_test, y=y_pred_test_poly, color='blue', label='Predicted vs Actual')\n",
    "# plt.plot([y_test.min(), y_test.max()], [y_test.min(), y_test.max()], 'k--', lw=2)\n",
    "# plt.xlabel('Actual Values')\n",
    "# plt.ylabel('Predicted Values')\n",
    "# plt.title('Polynomial Regression: Actual vs Predicted')\n",
    "# plt.legend()\n",
    "# plt.show()\n"
   ]
  },
  {
   "cell_type": "code",
   "execution_count": 21,
   "id": "172ee045",
   "metadata": {},
   "outputs": [],
   "source": [
    "# grid_search_poly.predict([[7,2.223,8.8380]])"
   ]
  },
  {
   "cell_type": "code",
   "execution_count": 22,
   "id": "b1f8daa5",
   "metadata": {},
   "outputs": [],
   "source": [
    "# grid_search_poly.predict([[1,0.1814,3.667]])"
   ]
  },
  {
   "cell_type": "code",
   "execution_count": 23,
   "id": "6c082210",
   "metadata": {},
   "outputs": [],
   "source": [
    "# grid_search_poly.predict([[12,1.867,11.038]])"
   ]
  },
  {
   "cell_type": "code",
   "execution_count": 24,
   "id": "b1f872e5",
   "metadata": {},
   "outputs": [],
   "source": [
    "# grid_search_poly.predict([[1,0.1601,7.332]])"
   ]
  },
  {
   "cell_type": "code",
   "execution_count": null,
   "id": "6df58f72",
   "metadata": {},
   "outputs": [],
   "source": []
  },
  {
   "cell_type": "code",
   "execution_count": null,
   "id": "426adc8c",
   "metadata": {},
   "outputs": [],
   "source": []
  },
  {
   "cell_type": "code",
   "execution_count": 25,
   "id": "f7802bd6",
   "metadata": {},
   "outputs": [
    {
     "name": "stdout",
     "output_type": "stream",
     "text": [
      "Cross-validated R2 scores for KNN: [0.99756661 0.99886669 0.9934413  0.99610496 0.99804111]\n",
      "Training R2 score for KNN: 1.0\n",
      "Testing R2 score for KNN: 0.994701081086562\n",
      "Training MSE for KNN: 0.0\n",
      "Testing MSE for KNN: 0.06191099553704217\n",
      "Best parameters for KNN: {'n_neighbors': 5, 'weights': 'distance'}\n"
     ]
    },
    {
     "data": {
      "image/png": "[encoded data removed]",
      "text/plain": [
       "<Figure size 720x432 with 1 Axes>"
      ]
     },
     "metadata": {
      "needs_background": "light"
     },
     "output_type": "display_data"
    },
    {
     "name": "stderr",
     "output_type": "stream",
     "text": [
      "No artists with labels found to put in legend.  Note that artists whose label start with an underscore are ignored when legend() is called with no argument.\n"
     ]
    },
    {
     "data": {
      "text/plain": [
       "<Figure size 720x432 with 0 Axes>"
      ]
     },
     "metadata": {},
     "output_type": "display_data"
    },
    {
     "data": {
      "text/plain": [
       "<Figure size 720x432 with 0 Axes>"
      ]
     },
     "metadata": {},
     "output_type": "display_data"
    },
    {
     "data": {
      "text/plain": [
       "<Figure size 720x432 with 0 Axes>"
      ]
     },
     "metadata": {},
     "output_type": "display_data"
    },
    {
     "data": {
      "text/plain": [
       "<Figure size 720x432 with 0 Axes>"
      ]
     },
     "metadata": {},
     "output_type": "display_data"
    },
    {
     "data": {
      "text/plain": [
       "<Figure size 720x432 with 0 Axes>"
      ]
     },
     "metadata": {},
     "output_type": "display_data"
    },
    {
     "data": {
      "image/png": "[encoded data removed]",
      "text/plain": [
       "<Figure size 720x432 with 1 Axes>"
      ]
     },
     "metadata": {
      "needs_background": "light"
     },
     "output_type": "display_data"
    }
   ],
   "source": [
    "from sklearn.neighbors import KNeighborsRegressor\n",
    "import matplotlib.pyplot as plt\n",
    "import seaborn as sns\n",
    "from sklearn.model_selection import GridSearchCV\n",
    "from sklearn.metrics import r2_score, mean_squared_error\n",
    "\n",
    "# KNN with cross-validation\n",
    "param_grid_knn = {'n_neighbors': [3, 5, 7, 9], 'weights': ['uniform', 'distance']}\n",
    "grid_search_knn = GridSearchCV(KNeighborsRegressor(), param_grid_knn, cv=5, scoring='r2')\n",
    "grid_search_knn.fit(X_train, y_train)\n",
    "cv_scores_knn = cross_val_score(grid_search_knn, X_train, y_train, cv=5, scoring='r2')\n",
    "y_pred_train_knn = grid_search_knn.predict(X_train)\n",
    "y_pred_test_knn = grid_search_knn.predict(X_test)\n",
    "\n",
    "# Best parameters for KNN\n",
    "best_params_knn = grid_search_knn.best_params_\n",
    "\n",
    "# Calculate R2 and MSE for training data\n",
    "r2_train_knn = r2_score(y_train, y_pred_train_knn)\n",
    "mse_train_knn = mean_squared_error(y_train, y_pred_train_knn)\n",
    "\n",
    "# Calculate R2 and MSE for testing data\n",
    "r2_test_knn = r2_score(y_test, y_pred_test_knn)\n",
    "mse_test_knn = mean_squared_error(y_test, y_pred_test_knn)\n",
    "\n",
    "r2_scores['KNN'] = r2_test_knn\n",
    "mse_scores['KNN'] = mse_test_knn\n",
    "\n",
    "r2_scores_train['KNN'] = r2_train_knn\n",
    "mse_scores_train['KNN'] = mse_train_knn\n",
    "\n",
    "print(f\"Cross-validated R2 scores for KNN: {cv_scores_knn}\")\n",
    "print(f\"Training R2 score for KNN: {r2_train_knn}\")\n",
    "print(f\"Testing R2 score for KNN: {r2_test_knn}\")\n",
    "print(f\"Training MSE for KNN: {mse_train_knn}\")\n",
    "print(f\"Testing MSE for KNN: {mse_test_knn}\")\n",
    "print(f\"Best parameters for KNN: {best_params_knn}\")\n",
    "\n",
    "\n",
    "# Plotting Actual vs Predicted for Testing Data\n",
    "y_test = np.array(y_test)\n",
    "fig = plt.figure(figsize = (10,6))\n",
    "t = np.arange(len(y_test))\n",
    "plt.plot(t, y_test, label = 'Actual Values', marker = 'o', color='blue')\n",
    "plt.plot(t, y_pred_test_knn, label = 'Predicted Values', marker = '*', color='orange')\n",
    "plt.title('KNN: Predicted values Vs Actual values' ,fontsize = 20)\n",
    "plt.xlabel('index',fontsize = 20)\n",
    "plt.ylabel('Values', fontsize = 20)\n",
    "plt.legend()\n",
    "\n",
    "plt.show()\n",
    "\n",
    "error = []\n",
    "er=0\n",
    "ind = 0\n",
    "for i in range(len(y_test)):\n",
    "    error.append(abs(y_test[i] - y_pred_test_knn[i]))\n",
    "    if(abs(y_test[i] - y_pred_test_knn[i]) > er):\n",
    "        er = abs(y_test[i] - y_pred_test_knn[i])\n",
    "        ind = i\n",
    "        \n",
    "        fig = plt.figure(figsize = (10,6))\n",
    "t = np.arange(len(y_test))\n",
    "plt.plot(t, error, marker = '+')\n",
    "# plt.plot(t, y_pred_test_knn, label = 'Predicted Values')\n",
    "plt.title('KNN: Error between Predicted and Actual values' ,fontsize = 20)\n",
    "plt.xlabel('index',fontsize = 20)\n",
    "plt.ylabel('Values', fontsize = 20)\n",
    "plt.legend()\n",
    "\n",
    "plt.show()\n",
    "\n",
    "\n",
    "\n"
   ]
  },
  {
   "cell_type": "code",
   "execution_count": null,
   "id": "8483c073",
   "metadata": {},
   "outputs": [],
   "source": []
  },
  {
   "cell_type": "code",
   "execution_count": null,
   "id": "d4c23b44",
   "metadata": {},
   "outputs": [],
   "source": []
  },
  {
   "cell_type": "code",
   "execution_count": null,
   "id": "8a199492",
   "metadata": {},
   "outputs": [],
   "source": []
  },
  {
   "cell_type": "code",
   "execution_count": null,
   "id": "aca4f112",
   "metadata": {},
   "outputs": [],
   "source": []
  },
  {
   "cell_type": "code",
   "execution_count": null,
   "id": "56cf7d5f",
   "metadata": {},
   "outputs": [],
   "source": []
  },
  {
   "cell_type": "code",
   "execution_count": null,
   "id": "f72eea40",
   "metadata": {},
   "outputs": [],
   "source": []
  },
  {
   "cell_type": "code",
   "execution_count": 26,
   "id": "62623f72",
   "metadata": {},
   "outputs": [],
   "source": [
    "# grid_search_knn.predict([[12,0.1814,3.667]])"
   ]
  },
  {
   "cell_type": "code",
   "execution_count": 27,
   "id": "3bfb873d",
   "metadata": {},
   "outputs": [],
   "source": [
    "# grid_search_knn.predict([[1,0.1601,7.332]])"
   ]
  },
  {
   "cell_type": "code",
   "execution_count": 28,
   "id": "ec1f06c6",
   "metadata": {},
   "outputs": [
    {
     "name": "stdout",
     "output_type": "stream",
     "text": [
      "Cross-validated R2 scores for SVR: [0.99998862 0.99999154 0.99998638 0.99998708 0.99999203]\n",
      "Training R2 score for SVR: 0.9999905622982476\n",
      "Testing R2 score for SVR: 0.999985310691379\n",
      "Training MSE for SVR: 0.00021994944732985108\n",
      "Testing MSE for SVR: 0.00017162552123124123\n",
      "Best parameters for SVR: {'C': 10, 'epsilon': 0.01, 'kernel': 'linear'}\n"
     ]
    },
    {
     "data": {
      "image/png": "[encoded data removed]",
      "text/plain": [
       "<Figure size 720x432 with 1 Axes>"
      ]
     },
     "metadata": {
      "needs_background": "light"
     },
     "output_type": "display_data"
    },
    {
     "name": "stderr",
     "output_type": "stream",
     "text": [
      "No artists with labels found to put in legend.  Note that artists whose label start with an underscore are ignored when legend() is called with no argument.\n"
     ]
    },
    {
     "data": {
      "text/plain": [
       "<Figure size 720x432 with 0 Axes>"
      ]
     },
     "metadata": {},
     "output_type": "display_data"
    },
    {
     "data": {
      "text/plain": [
       "<Figure size 720x432 with 0 Axes>"
      ]
     },
     "metadata": {},
     "output_type": "display_data"
    },
    {
     "data": {
      "text/plain": [
       "<Figure size 720x432 with 0 Axes>"
      ]
     },
     "metadata": {},
     "output_type": "display_data"
    },
    {
     "data": {
      "image/png": "[encoded data removed]",
      "text/plain": [
       "<Figure size 720x432 with 1 Axes>"
      ]
     },
     "metadata": {
      "needs_background": "light"
     },
     "output_type": "display_data"
    }
   ],
   "source": [
    "from sklearn.svm import SVR\n",
    "import matplotlib.pyplot as plt\n",
    "import seaborn as sns\n",
    "from sklearn.model_selection import GridSearchCV\n",
    "from sklearn.metrics import r2_score, mean_squared_error\n",
    "\n",
    "# SVR with cross-validation\n",
    "param_grid_svr = {'C': [0.1, 1, 10], 'epsilon': [0.01, 0.1, 0.2], 'kernel': ['linear', 'rbf']}\n",
    "grid_search_svr = GridSearchCV(SVR(), param_grid_svr, cv=5, scoring='r2')\n",
    "grid_search_svr.fit(X_train, y_train)\n",
    "cv_scores_svr = cross_val_score(grid_search_svr, X_train, y_train, cv=5, scoring='r2')\n",
    "y_pred_train_svr = grid_search_svr.predict(X_train)\n",
    "y_pred_test_svr = grid_search_svr.predict(X_test)\n",
    "\n",
    "# Best parameters for SVR\n",
    "best_params_svr = grid_search_svr.best_params_\n",
    "\n",
    "# Calculate R2 and MSE for training data\n",
    "r2_train_svr = r2_score(y_train, y_pred_train_svr)\n",
    "mse_train_svr = mean_squared_error(y_train, y_pred_train_svr)\n",
    "\n",
    "# Calculate R2 and MSE for testing data\n",
    "r2_test_svr = r2_score(y_test, y_pred_test_svr)\n",
    "mse_test_svr = mean_squared_error(y_test, y_pred_test_svr)\n",
    "\n",
    "r2_scores['SVR'] = r2_test_svr\n",
    "mse_scores['SVR'] = mse_test_svr\n",
    "\n",
    "r2_scores_train['SVR'] = r2_train_svr\n",
    "mse_scores_train['SVR'] = mse_train_svr\n",
    "\n",
    "print(f\"Cross-validated R2 scores for SVR: {cv_scores_svr}\")\n",
    "print(f\"Training R2 score for SVR: {r2_train_svr}\")\n",
    "print(f\"Testing R2 score for SVR: {r2_test_svr}\")\n",
    "print(f\"Training MSE for SVR: {mse_train_svr}\")\n",
    "print(f\"Testing MSE for SVR: {mse_test_svr}\")\n",
    "print(f\"Best parameters for SVR: {best_params_svr}\")\n",
    "\n",
    "# Plotting Actual vs Predicted for Testing Data\n",
    "y_test = np.array(y_test)\n",
    "fig = plt.figure(figsize = (10,6))\n",
    "t = np.arange(len(y_test))\n",
    "plt.plot(t, y_test, label = 'Actual Values', marker = 'o', color='blue')\n",
    "plt.plot(t, y_pred_test_svr, label = 'Predicted Values', marker = '*', color='red')\n",
    "plt.title('SVR: Predicted values Vs Actual values' ,fontsize = 20)\n",
    "plt.xlabel('index',fontsize = 20)\n",
    "plt.ylabel('Values', fontsize = 20)\n",
    "plt.legend()\n",
    "\n",
    "plt.show()\n",
    "\n",
    "error = []\n",
    "er=0\n",
    "ind = 0\n",
    "for i in range(len(y_test)):\n",
    "    error.append(abs(y_test[i] - y_pred_test_svr[i]))\n",
    "    if(abs(y_test[i] - y_pred_test_svr[i]) > er):\n",
    "        er = abs(y_test[i] - y_pred_test_svr[i])\n",
    "        ind = i\n",
    "        \n",
    "        fig = plt.figure(figsize = (10,6))\n",
    "t = np.arange(len(y_test))\n",
    "plt.plot(t, error, marker = '+')\n",
    "# plt.plot(t, y_pred_test_knn, label = 'Predicted Values')\n",
    "plt.title('SVR: Error between Predicted and Actual values' ,fontsize = 20)\n",
    "plt.xlabel('index',fontsize = 20)\n",
    "plt.ylabel('Values', fontsize = 20)\n",
    "plt.legend()\n",
    "\n",
    "plt.show()\n"
   ]
  },
  {
   "cell_type": "code",
   "execution_count": 29,
   "id": "be23f702",
   "metadata": {},
   "outputs": [],
   "source": [
    "# grid_search_svr.predict([[7,2.223,8.8380]])"
   ]
  },
  {
   "cell_type": "code",
   "execution_count": 30,
   "id": "eeca2385",
   "metadata": {},
   "outputs": [],
   "source": [
    "# grid_search_svr.predict([[1,0.1814,3.667]])"
   ]
  },
  {
   "cell_type": "code",
   "execution_count": 31,
   "id": "bf89fda6",
   "metadata": {},
   "outputs": [
    {
     "name": "stderr",
     "output_type": "stream",
     "text": [
      "C:\\Users\\asus\\anaconda3\\lib\\site-packages\\sklearn\\base.py:450: UserWarning: X does not have valid feature names, but SVR was fitted with feature names\n",
      "  warnings.warn(\n"
     ]
    },
    {
     "data": {
      "text/plain": [
       "array([8.36066831])"
      ]
     },
     "execution_count": 31,
     "metadata": {},
     "output_type": "execute_result"
    }
   ],
   "source": [
    "grid_search_svr.predict([[12,2.7465,10.633]])"
   ]
  },
  {
   "cell_type": "code",
   "execution_count": 32,
   "id": "18de8a92",
   "metadata": {},
   "outputs": [
    {
     "name": "stderr",
     "output_type": "stream",
     "text": [
      "C:\\Users\\asus\\anaconda3\\lib\\site-packages\\sklearn\\base.py:450: UserWarning: X does not have valid feature names, but SVR was fitted with feature names\n",
      "  warnings.warn(\n"
     ]
    },
    {
     "data": {
      "text/plain": [
       "array([5.56937763])"
      ]
     },
     "execution_count": 32,
     "metadata": {},
     "output_type": "execute_result"
    }
   ],
   "source": [
    "grid_search_svr.predict([[1,0.1601,7.332]])"
   ]
  },
  {
   "cell_type": "code",
   "execution_count": 33,
   "id": "8978aff9",
   "metadata": {},
   "outputs": [
    {
     "name": "stderr",
     "output_type": "stream",
     "text": [
      "C:\\Users\\asus\\anaconda3\\lib\\site-packages\\sklearn\\base.py:450: UserWarning: X does not have valid feature names, but SVR was fitted with feature names\n",
      "  warnings.warn(\n"
     ]
    },
    {
     "data": {
      "text/plain": [
       "array([8.56735534])"
      ]
     },
     "execution_count": 33,
     "metadata": {},
     "output_type": "execute_result"
    }
   ],
   "source": [
    "grid_search_svr.predict([[8,1.843,11.038]])"
   ]
  },
  {
   "cell_type": "code",
   "execution_count": 34,
   "id": "0f815c65",
   "metadata": {},
   "outputs": [
    {
     "name": "stderr",
     "output_type": "stream",
     "text": [
      "C:\\Users\\asus\\anaconda3\\lib\\site-packages\\sklearn\\base.py:450: UserWarning: X does not have valid feature names, but SVR was fitted with feature names\n",
      "  warnings.warn(\n"
     ]
    },
    {
     "data": {
      "text/plain": [
       "array([0.27999299])"
      ]
     },
     "execution_count": 34,
     "metadata": {},
     "output_type": "execute_result"
    }
   ],
   "source": [
    "grid_search_svr.predict([[6,0.086,0.3864]])"
   ]
  },
  {
   "cell_type": "code",
   "execution_count": 35,
   "id": "d2ae18f2",
   "metadata": {},
   "outputs": [
    {
     "name": "stderr",
     "output_type": "stream",
     "text": [
      "C:\\Users\\asus\\anaconda3\\lib\\site-packages\\sklearn\\base.py:450: UserWarning: X does not have valid feature names, but SVR was fitted with feature names\n",
      "  warnings.warn(\n"
     ]
    },
    {
     "data": {
      "text/plain": [
       "array([2.22442768])"
      ]
     },
     "execution_count": 35,
     "metadata": {},
     "output_type": "execute_result"
    }
   ],
   "source": [
    "grid_search_svr.predict([[11,0.5135,2.9002]])"
   ]
  },
  {
   "cell_type": "code",
   "execution_count": null,
   "id": "62923ab2",
   "metadata": {},
   "outputs": [],
   "source": []
  },
  {
   "cell_type": "code",
   "execution_count": null,
   "id": "7eb652ce",
   "metadata": {},
   "outputs": [],
   "source": []
  },
  {
   "cell_type": "code",
   "execution_count": null,
   "id": "2e66c97a",
   "metadata": {},
   "outputs": [],
   "source": []
  },
  {
   "cell_type": "code",
   "execution_count": 36,
   "id": "06b8fed9",
   "metadata": {},
   "outputs": [
    {
     "name": "stdout",
     "output_type": "stream",
     "text": [
      "Cross-validated R2 scores for Decision Tree: [0.99842665 0.99746741 0.99866923 0.99858312 0.99897902]\n",
      "Training R2 score for Decision Tree: 0.9999999224268875\n",
      "Testing R2 score for Decision Tree: 0.9975720945299711\n",
      "Training MSE for Decision Tree: 1.8078726865209629e-06\n",
      "Testing MSE for Decision Tree: 0.028366926758989386\n",
      "Best parameters for Decision Tree: {'max_depth': 10, 'min_samples_leaf': 1, 'min_samples_split': 2}\n"
     ]
    },
    {
     "data": {
      "image/png": "[encoded data removed]",
      "text/plain": [
       "<Figure size 720x432 with 1 Axes>"
      ]
     },
     "metadata": {
      "needs_background": "light"
     },
     "output_type": "display_data"
    },
    {
     "name": "stderr",
     "output_type": "stream",
     "text": [
      "No artists with labels found to put in legend.  Note that artists whose label start with an underscore are ignored when legend() is called with no argument.\n"
     ]
    },
    {
     "data": {
      "text/plain": [
       "<Figure size 720x432 with 0 Axes>"
      ]
     },
     "metadata": {},
     "output_type": "display_data"
    },
    {
     "data": {
      "text/plain": [
       "<Figure size 720x432 with 0 Axes>"
      ]
     },
     "metadata": {},
     "output_type": "display_data"
    },
    {
     "data": {
      "text/plain": [
       "<Figure size 720x432 with 0 Axes>"
      ]
     },
     "metadata": {},
     "output_type": "display_data"
    },
    {
     "data": {
      "text/plain": [
       "<Figure size 720x432 with 0 Axes>"
      ]
     },
     "metadata": {},
     "output_type": "display_data"
    },
    {
     "data": {
      "text/plain": [
       "<Figure size 720x432 with 0 Axes>"
      ]
     },
     "metadata": {},
     "output_type": "display_data"
    },
    {
     "data": {
      "text/plain": [
       "<Figure size 720x432 with 0 Axes>"
      ]
     },
     "metadata": {},
     "output_type": "display_data"
    },
    {
     "data": {
      "text/plain": [
       "<Figure size 720x432 with 0 Axes>"
      ]
     },
     "metadata": {},
     "output_type": "display_data"
    },
    {
     "data": {
      "image/png": "[encoded data removed]",
      "text/plain": [
       "<Figure size 720x432 with 1 Axes>"
      ]
     },
     "metadata": {
      "needs_background": "light"
     },
     "output_type": "display_data"
    }
   ],
   "source": [
    "from sklearn.tree import DecisionTreeRegressor\n",
    "from sklearn.model_selection import GridSearchCV\n",
    "from sklearn.metrics import r2_score, mean_squared_error\n",
    "import matplotlib.pyplot as plt\n",
    "import seaborn as sns\n",
    "\n",
    "# Decision Tree with cross-validation\n",
    "param_grid_dt = {'max_depth': [None, 10, 20, 30], 'min_samples_split': [2, 5, 10], 'min_samples_leaf': [1, 2, 4]}\n",
    "grid_search_dt = GridSearchCV(DecisionTreeRegressor(random_state=1), param_grid_dt, cv=5, scoring='r2')\n",
    "grid_search_dt.fit(X_train, y_train)\n",
    "cv_scores_dt = cross_val_score(grid_search_dt, X_train, y_train, cv=5, scoring='r2')\n",
    "y_pred_train_dt = grid_search_dt.predict(X_train)\n",
    "y_pred_test_dt = grid_search_dt.predict(X_test)\n",
    "\n",
    "# Best parameters for Decision Tree\n",
    "best_params_dt = grid_search_dt.best_params_\n",
    "\n",
    "# Calculate R2 and MSE for training data\n",
    "r2_train_dt = r2_score(y_train, y_pred_train_dt)\n",
    "mse_train_dt = mean_squared_error(y_train, y_pred_train_dt)\n",
    "\n",
    "# Calculate R2 and MSE for testing data\n",
    "r2_test_dt = r2_score(y_test, y_pred_test_dt)\n",
    "mse_test_dt = mean_squared_error(y_test, y_pred_test_dt)\n",
    "\n",
    "r2_scores['Decision Tree'] = r2_test_dt\n",
    "mse_scores['Decision Tree'] = mse_test_dt\n",
    "\n",
    "r2_scores_train['Decision Tree'] = r2_train_dt\n",
    "mse_scores_train['Decision Tree'] = mse_train_dt\n",
    "\n",
    "print(f\"Cross-validated R2 scores for Decision Tree: {cv_scores_dt}\")\n",
    "print(f\"Training R2 score for Decision Tree: {r2_train_dt}\")\n",
    "print(f\"Testing R2 score for Decision Tree: {r2_test_dt}\")\n",
    "print(f\"Training MSE for Decision Tree: {mse_train_dt}\")\n",
    "print(f\"Testing MSE for Decision Tree: {mse_test_dt}\")\n",
    "print(f\"Best parameters for Decision Tree: {best_params_dt}\")\n",
    "\n",
    "# Plotting Actual vs Predicted for Testing Data\n",
    "y_test = np.array(y_test)\n",
    "fig = plt.figure(figsize = (10,6))\n",
    "t = np.arange(len(y_test))\n",
    "plt.plot(t, y_test, label = 'Actual Values', marker = 'o', color='blue')\n",
    "plt.plot(t, y_pred_test_dt, label = 'Predicted Values', marker = '*', color='red')\n",
    "plt.title('DTR: Predicted values Vs Actual values' ,fontsize = 20)\n",
    "plt.xlabel('index',fontsize = 20)\n",
    "plt.ylabel('Values', fontsize = 20)\n",
    "plt.legend()\n",
    "\n",
    "plt.show()\n",
    "\n",
    "error = []\n",
    "er=0\n",
    "ind = 0\n",
    "for i in range(len(y_test)):\n",
    "    error.append(abs(y_test[i] - y_pred_test_dt[i]))\n",
    "    if(abs(y_test[i] - y_pred_test_dt[i]) > er):\n",
    "        er = abs(y_test[i] - y_pred_test_dt[i])\n",
    "        ind = i\n",
    "        \n",
    "        fig = plt.figure(figsize = (10,6))\n",
    "t = np.arange(len(y_test))\n",
    "plt.plot(t, error, marker = '+')\n",
    "# plt.plot(t, y_pred_test_dt, label = 'Predicted Values')\n",
    "plt.title('DTR: Error between Predicted and Actual values' ,fontsize = 20)\n",
    "plt.xlabel('index',fontsize = 20)\n",
    "plt.ylabel('Values', fontsize = 20)\n",
    "plt.legend()\n",
    "\n",
    "plt.show()\n"
   ]
  },
  {
   "cell_type": "code",
   "execution_count": 37,
   "id": "21714dad",
   "metadata": {},
   "outputs": [
    {
     "name": "stderr",
     "output_type": "stream",
     "text": [
      "C:\\Users\\asus\\anaconda3\\lib\\site-packages\\sklearn\\base.py:450: UserWarning: X does not have valid feature names, but DecisionTreeRegressor was fitted with feature names\n",
      "  warnings.warn(\n"
     ]
    },
    {
     "data": {
      "text/plain": [
       "array([6.96623116])"
      ]
     },
     "execution_count": 37,
     "metadata": {},
     "output_type": "execute_result"
    }
   ],
   "source": [
    "grid_search_dt.predict([[7,2.223,8.8380]])"
   ]
  },
  {
   "cell_type": "code",
   "execution_count": 38,
   "id": "c881ab30",
   "metadata": {},
   "outputs": [
    {
     "name": "stderr",
     "output_type": "stream",
     "text": [
      "C:\\Users\\asus\\anaconda3\\lib\\site-packages\\sklearn\\base.py:450: UserWarning: X does not have valid feature names, but DecisionTreeRegressor was fitted with feature names\n",
      "  warnings.warn(\n"
     ]
    },
    {
     "data": {
      "text/plain": [
       "array([2.78480057])"
      ]
     },
     "execution_count": 38,
     "metadata": {},
     "output_type": "execute_result"
    }
   ],
   "source": [
    "grid_search_dt.predict([[1,0.1814,3.667]])"
   ]
  },
  {
   "cell_type": "code",
   "execution_count": 39,
   "id": "28b0f905",
   "metadata": {},
   "outputs": [
    {
     "name": "stderr",
     "output_type": "stream",
     "text": [
      "C:\\Users\\asus\\anaconda3\\lib\\site-packages\\sklearn\\base.py:450: UserWarning: X does not have valid feature names, but DecisionTreeRegressor was fitted with feature names\n",
      "  warnings.warn(\n"
     ]
    },
    {
     "data": {
      "text/plain": [
       "array([7.8864186])"
      ]
     },
     "execution_count": 39,
     "metadata": {},
     "output_type": "execute_result"
    }
   ],
   "source": [
    "grid_search_dt.predict([[12,2.7465,10.633]])"
   ]
  },
  {
   "cell_type": "code",
   "execution_count": 40,
   "id": "c698a28c",
   "metadata": {},
   "outputs": [
    {
     "name": "stderr",
     "output_type": "stream",
     "text": [
      "C:\\Users\\asus\\anaconda3\\lib\\site-packages\\sklearn\\base.py:450: UserWarning: X does not have valid feature names, but DecisionTreeRegressor was fitted with feature names\n",
      "  warnings.warn(\n"
     ]
    },
    {
     "data": {
      "text/plain": [
       "array([5.62594569])"
      ]
     },
     "execution_count": 40,
     "metadata": {},
     "output_type": "execute_result"
    }
   ],
   "source": [
    "grid_search_dt.predict([[1,0.1601,7.332]])"
   ]
  },
  {
   "cell_type": "code",
   "execution_count": 41,
   "id": "5337261c",
   "metadata": {},
   "outputs": [
    {
     "name": "stderr",
     "output_type": "stream",
     "text": [
      "C:\\Users\\asus\\anaconda3\\lib\\site-packages\\sklearn\\base.py:450: UserWarning: X does not have valid feature names, but DecisionTreeRegressor was fitted with feature names\n",
      "  warnings.warn(\n"
     ]
    },
    {
     "data": {
      "text/plain": [
       "array([8.38113181])"
      ]
     },
     "execution_count": 41,
     "metadata": {},
     "output_type": "execute_result"
    }
   ],
   "source": [
    "grid_search_dt.predict([[8,1.843,11.038]])"
   ]
  },
  {
   "cell_type": "code",
   "execution_count": 42,
   "id": "9b1043c4",
   "metadata": {},
   "outputs": [
    {
     "name": "stderr",
     "output_type": "stream",
     "text": [
      "C:\\Users\\asus\\anaconda3\\lib\\site-packages\\sklearn\\base.py:450: UserWarning: X does not have valid feature names, but DecisionTreeRegressor was fitted with feature names\n",
      "  warnings.warn(\n"
     ]
    },
    {
     "data": {
      "text/plain": [
       "array([0.35138955])"
      ]
     },
     "execution_count": 42,
     "metadata": {},
     "output_type": "execute_result"
    }
   ],
   "source": [
    "grid_search_dt.predict([[6,0.086,0.3864]])"
   ]
  },
  {
   "cell_type": "code",
   "execution_count": 43,
   "id": "4cc210f8",
   "metadata": {},
   "outputs": [
    {
     "name": "stderr",
     "output_type": "stream",
     "text": [
      "C:\\Users\\asus\\anaconda3\\lib\\site-packages\\sklearn\\base.py:450: UserWarning: X does not have valid feature names, but DecisionTreeRegressor was fitted with feature names\n",
      "  warnings.warn(\n"
     ]
    },
    {
     "data": {
      "text/plain": [
       "array([2.20634317])"
      ]
     },
     "execution_count": 43,
     "metadata": {},
     "output_type": "execute_result"
    }
   ],
   "source": [
    "grid_search_dt.predict([[11,0.5135,2.9002]])"
   ]
  },
  {
   "cell_type": "code",
   "execution_count": null,
   "id": "5cbf77d2",
   "metadata": {},
   "outputs": [],
   "source": []
  },
  {
   "cell_type": "code",
   "execution_count": null,
   "id": "710887f2",
   "metadata": {},
   "outputs": [],
   "source": []
  },
  {
   "cell_type": "code",
   "execution_count": null,
   "id": "f633f913",
   "metadata": {},
   "outputs": [],
   "source": []
  },
  {
   "cell_type": "code",
   "execution_count": null,
   "id": "55fa4a17",
   "metadata": {},
   "outputs": [],
   "source": []
  },
  {
   "cell_type": "code",
   "execution_count": 44,
   "id": "7bdaf1ea",
   "metadata": {},
   "outputs": [
    {
     "name": "stdout",
     "output_type": "stream",
     "text": [
      "Cross-validated R2 scores for Random Forest: [0.99923574 0.99904684 0.99912033 0.99898815 0.99694152]\n",
      "Training R2 score for Random Forest: 0.999897653083293\n",
      "Testing R2 score for Random Forest: 0.9977045398088688\n",
      "Training MSE for Random Forest: 0.002385236189502843\n",
      "Testing MSE for Random Forest: 0.02681947543831729\n",
      "Best parameters for Random Forest: {'max_depth': 10, 'min_samples_split': 2, 'n_estimators': 200}\n"
     ]
    },
    {
     "data": {
      "image/png": "[encoded data removed]",
      "text/plain": [
       "<Figure size 720x432 with 1 Axes>"
      ]
     },
     "metadata": {
      "needs_background": "light"
     },
     "output_type": "display_data"
    },
    {
     "name": "stderr",
     "output_type": "stream",
     "text": [
      "No artists with labels found to put in legend.  Note that artists whose label start with an underscore are ignored when legend() is called with no argument.\n"
     ]
    },
    {
     "data": {
      "text/plain": [
       "<Figure size 720x432 with 0 Axes>"
      ]
     },
     "metadata": {},
     "output_type": "display_data"
    },
    {
     "data": {
      "text/plain": [
       "<Figure size 720x432 with 0 Axes>"
      ]
     },
     "metadata": {},
     "output_type": "display_data"
    },
    {
     "data": {
      "text/plain": [
       "<Figure size 720x432 with 0 Axes>"
      ]
     },
     "metadata": {},
     "output_type": "display_data"
    },
    {
     "data": {
      "text/plain": [
       "<Figure size 720x432 with 0 Axes>"
      ]
     },
     "metadata": {},
     "output_type": "display_data"
    },
    {
     "data": {
      "text/plain": [
       "<Figure size 720x432 with 0 Axes>"
      ]
     },
     "metadata": {},
     "output_type": "display_data"
    },
    {
     "data": {
      "text/plain": [
       "<Figure size 720x432 with 0 Axes>"
      ]
     },
     "metadata": {},
     "output_type": "display_data"
    },
    {
     "data": {
      "image/png": "[encoded data removed]",
      "text/plain": [
       "<Figure size 720x432 with 1 Axes>"
      ]
     },
     "metadata": {
      "needs_background": "light"
     },
     "output_type": "display_data"
    }
   ],
   "source": [
    "from sklearn.ensemble import RandomForestRegressor\n",
    "import matplotlib.pyplot as plt\n",
    "import seaborn as sns\n",
    "from sklearn.model_selection import GridSearchCV\n",
    "from sklearn.metrics import r2_score, mean_squared_error\n",
    "\n",
    "# Random Forest with cross-validation\n",
    "param_grid_rf = {'n_estimators': [100, 200], 'max_depth': [None, 10, 20], 'min_samples_split': [2, 5]}\n",
    "grid_search_rf = GridSearchCV(RandomForestRegressor(random_state=1), param_grid_rf, cv=5, scoring='r2')\n",
    "grid_search_rf.fit(X_train, y_train)\n",
    "cv_scores_rf = cross_val_score(grid_search_rf, X_train, y_train, cv=5, scoring='r2')\n",
    "y_pred_train_rf = grid_search_rf.predict(X_train)\n",
    "y_pred_test_rf = grid_search_rf.predict(X_test)\n",
    "\n",
    "# Best parameters for Random Forest\n",
    "best_params_rf = grid_search_rf.best_params_\n",
    "\n",
    "# Calculate R2 and MSE for training data\n",
    "r2_train_rf = r2_score(y_train, y_pred_train_rf)\n",
    "mse_train_rf = mean_squared_error(y_train, y_pred_train_rf)\n",
    "\n",
    "# Calculate R2 and MSE for testing data\n",
    "r2_test_rf = r2_score(y_test, y_pred_test_rf)\n",
    "mse_test_rf = mean_squared_error(y_test, y_pred_test_rf)\n",
    "\n",
    "r2_scores['Random Forest'] = r2_test_rf\n",
    "mse_scores['Random Forest'] = mse_test_rf\n",
    "\n",
    "r2_scores_train['Random Forest'] = r2_train_rf\n",
    "mse_scores_train['Random Forest'] = mse_train_rf\n",
    "\n",
    "print(f\"Cross-validated R2 scores for Random Forest: {cv_scores_rf}\")\n",
    "print(f\"Training R2 score for Random Forest: {r2_train_rf}\")\n",
    "print(f\"Testing R2 score for Random Forest: {r2_test_rf}\")\n",
    "print(f\"Training MSE for Random Forest: {mse_train_rf}\")\n",
    "print(f\"Testing MSE for Random Forest: {mse_test_rf}\")\n",
    "print(f\"Best parameters for Random Forest: {best_params_rf}\")\n",
    "\n",
    "# Plotting Actual vs Predicted for Testing Data\n",
    "y_test = np.array(y_test)\n",
    "fig = plt.figure(figsize = (10,6))\n",
    "t = np.arange(len(y_test))\n",
    "plt.plot(t, y_test, label = 'Actual Values', marker = 'o', color='blue')\n",
    "plt.plot(t, y_pred_test_rf, label = 'Predicted Values', marker = '*', color='red')\n",
    "plt.title('RF: Predicted values Vs Actual values' ,fontsize = 20)\n",
    "plt.xlabel('index',fontsize = 20)\n",
    "plt.ylabel('Values', fontsize = 20)\n",
    "plt.legend()\n",
    "\n",
    "plt.show()\n",
    "\n",
    "error = []\n",
    "er=0\n",
    "ind = 0\n",
    "for i in range(len(y_test)):\n",
    "    error.append(abs(y_test[i] - y_pred_test_rf[i]))\n",
    "    if(abs(y_test[i] - y_pred_test_rf[i]) > er):\n",
    "        er = abs(y_test[i] - y_pred_test_rf[i])\n",
    "        ind = i\n",
    "        \n",
    "        fig = plt.figure(figsize = (10,6))\n",
    "t = np.arange(len(y_test))\n",
    "plt.plot(t, error, marker = '+')\n",
    "# plt.plot(t, y_pred_test_knn, label = 'Predicted Values')\n",
    "plt.title('RF: Error between Predicted and Actual values' ,fontsize = 20)\n",
    "plt.xlabel('index',fontsize = 20)\n",
    "plt.ylabel('Values', fontsize = 20)\n",
    "plt.legend()\n",
    "\n",
    "plt.show()\n"
   ]
  },
  {
   "cell_type": "code",
   "execution_count": 45,
   "id": "823f2eed",
   "metadata": {},
   "outputs": [
    {
     "name": "stderr",
     "output_type": "stream",
     "text": [
      "C:\\Users\\asus\\anaconda3\\lib\\site-packages\\sklearn\\base.py:450: UserWarning: X does not have valid feature names, but RandomForestRegressor was fitted with feature names\n",
      "  warnings.warn(\n"
     ]
    },
    {
     "data": {
      "text/plain": [
       "array([6.90742132])"
      ]
     },
     "execution_count": 45,
     "metadata": {},
     "output_type": "execute_result"
    }
   ],
   "source": [
    "grid_search_rf.predict([[7,2.223,8.8380]])"
   ]
  },
  {
   "cell_type": "code",
   "execution_count": 46,
   "id": "6b553d67",
   "metadata": {},
   "outputs": [
    {
     "name": "stderr",
     "output_type": "stream",
     "text": [
      "C:\\Users\\asus\\anaconda3\\lib\\site-packages\\sklearn\\base.py:450: UserWarning: X does not have valid feature names, but RandomForestRegressor was fitted with feature names\n",
      "  warnings.warn(\n"
     ]
    },
    {
     "data": {
      "text/plain": [
       "array([2.78320234])"
      ]
     },
     "execution_count": 46,
     "metadata": {},
     "output_type": "execute_result"
    }
   ],
   "source": [
    "grid_search_rf.predict([[1,0.1814,3.667]])"
   ]
  },
  {
   "cell_type": "code",
   "execution_count": 47,
   "id": "f6de77e7",
   "metadata": {},
   "outputs": [
    {
     "name": "stderr",
     "output_type": "stream",
     "text": [
      "C:\\Users\\asus\\anaconda3\\lib\\site-packages\\sklearn\\base.py:450: UserWarning: X does not have valid feature names, but RandomForestRegressor was fitted with feature names\n",
      "  warnings.warn(\n"
     ]
    },
    {
     "data": {
      "text/plain": [
       "array([8.23669146])"
      ]
     },
     "execution_count": 47,
     "metadata": {},
     "output_type": "execute_result"
    }
   ],
   "source": [
    "grid_search_rf.predict([[12,2.7465,10.633]])"
   ]
  },
  {
   "cell_type": "code",
   "execution_count": 48,
   "id": "fe7f4f18",
   "metadata": {},
   "outputs": [
    {
     "name": "stderr",
     "output_type": "stream",
     "text": [
      "C:\\Users\\asus\\anaconda3\\lib\\site-packages\\sklearn\\base.py:450: UserWarning: X does not have valid feature names, but RandomForestRegressor was fitted with feature names\n",
      "  warnings.warn(\n"
     ]
    },
    {
     "data": {
      "text/plain": [
       "array([5.61868023])"
      ]
     },
     "execution_count": 48,
     "metadata": {},
     "output_type": "execute_result"
    }
   ],
   "source": [
    "grid_search_rf.predict([[1,0.1601,7.332]])"
   ]
  },
  {
   "cell_type": "code",
   "execution_count": 49,
   "id": "4068152d",
   "metadata": {},
   "outputs": [
    {
     "name": "stderr",
     "output_type": "stream",
     "text": [
      "C:\\Users\\asus\\anaconda3\\lib\\site-packages\\sklearn\\base.py:450: UserWarning: X does not have valid feature names, but RandomForestRegressor was fitted with feature names\n",
      "  warnings.warn(\n"
     ]
    },
    {
     "data": {
      "text/plain": [
       "array([8.40971026])"
      ]
     },
     "execution_count": 49,
     "metadata": {},
     "output_type": "execute_result"
    }
   ],
   "source": [
    "grid_search_rf.predict([[8,1.843,11.038]])"
   ]
  },
  {
   "cell_type": "code",
   "execution_count": 50,
   "id": "bf5c1cf0",
   "metadata": {},
   "outputs": [
    {
     "name": "stderr",
     "output_type": "stream",
     "text": [
      "C:\\Users\\asus\\anaconda3\\lib\\site-packages\\sklearn\\base.py:450: UserWarning: X does not have valid feature names, but RandomForestRegressor was fitted with feature names\n",
      "  warnings.warn(\n"
     ]
    },
    {
     "data": {
      "text/plain": [
       "array([0.43586942])"
      ]
     },
     "execution_count": 50,
     "metadata": {},
     "output_type": "execute_result"
    }
   ],
   "source": [
    "grid_search_rf.predict([[6,0.086,0.3864]])"
   ]
  },
  {
   "cell_type": "code",
   "execution_count": 51,
   "id": "5b8d2ab2",
   "metadata": {},
   "outputs": [
    {
     "name": "stderr",
     "output_type": "stream",
     "text": [
      "C:\\Users\\asus\\anaconda3\\lib\\site-packages\\sklearn\\base.py:450: UserWarning: X does not have valid feature names, but RandomForestRegressor was fitted with feature names\n",
      "  warnings.warn(\n"
     ]
    },
    {
     "data": {
      "text/plain": [
       "array([2.22528071])"
      ]
     },
     "execution_count": 51,
     "metadata": {},
     "output_type": "execute_result"
    }
   ],
   "source": [
    "grid_search_rf.predict([[11,0.5135,2.9002]])"
   ]
  },
  {
   "cell_type": "code",
   "execution_count": null,
   "id": "40878bd3",
   "metadata": {},
   "outputs": [],
   "source": []
  },
  {
   "cell_type": "code",
   "execution_count": null,
   "id": "704d9558",
   "metadata": {},
   "outputs": [],
   "source": []
  },
  {
   "cell_type": "code",
   "execution_count": null,
   "id": "3b1ec666",
   "metadata": {},
   "outputs": [],
   "source": []
  },
  {
   "cell_type": "code",
   "execution_count": 52,
   "id": "17e4a93e",
   "metadata": {},
   "outputs": [
    {
     "name": "stdout",
     "output_type": "stream",
     "text": [
      "Cross-validated R2 scores for GBM: [0.99947416 0.99931691 0.99975697 0.99955198 0.99746529]\n",
      "Training R2 score for GBM: 0.9999995140709484\n",
      "Testing R2 score for GBM: 0.9978162345460659\n",
      "Training MSE for GBM: 1.132477261323836e-05\n",
      "Testing MSE for GBM: 0.025514467286826232\n",
      "Best parameters for GBM: {'learning_rate': 0.2, 'max_depth': 3, 'n_estimators': 200}\n"
     ]
    },
    {
     "data": {
      "image/png": "[encoded data removed]",
      "text/plain": [
       "<Figure size 720x432 with 1 Axes>"
      ]
     },
     "metadata": {
      "needs_background": "light"
     },
     "output_type": "display_data"
    },
    {
     "name": "stderr",
     "output_type": "stream",
     "text": [
      "No artists with labels found to put in legend.  Note that artists whose label start with an underscore are ignored when legend() is called with no argument.\n"
     ]
    },
    {
     "data": {
      "text/plain": [
       "<Figure size 720x432 with 0 Axes>"
      ]
     },
     "metadata": {},
     "output_type": "display_data"
    },
    {
     "data": {
      "text/plain": [
       "<Figure size 720x432 with 0 Axes>"
      ]
     },
     "metadata": {},
     "output_type": "display_data"
    },
    {
     "data": {
      "text/plain": [
       "<Figure size 720x432 with 0 Axes>"
      ]
     },
     "metadata": {},
     "output_type": "display_data"
    },
    {
     "data": {
      "text/plain": [
       "<Figure size 720x432 with 0 Axes>"
      ]
     },
     "metadata": {},
     "output_type": "display_data"
    },
    {
     "data": {
      "text/plain": [
       "<Figure size 720x432 with 0 Axes>"
      ]
     },
     "metadata": {},
     "output_type": "display_data"
    },
    {
     "data": {
      "text/plain": [
       "<Figure size 720x432 with 0 Axes>"
      ]
     },
     "metadata": {},
     "output_type": "display_data"
    },
    {
     "data": {
      "text/plain": [
       "<Figure size 720x432 with 0 Axes>"
      ]
     },
     "metadata": {},
     "output_type": "display_data"
    },
    {
     "data": {
      "text/plain": [
       "<Figure size 720x432 with 0 Axes>"
      ]
     },
     "metadata": {},
     "output_type": "display_data"
    },
    {
     "data": {
      "text/plain": [
       "<Figure size 720x432 with 0 Axes>"
      ]
     },
     "metadata": {},
     "output_type": "display_data"
    },
    {
     "data": {
      "image/png": "[encoded data removed]",
      "text/plain": [
       "<Figure size 720x432 with 1 Axes>"
      ]
     },
     "metadata": {
      "needs_background": "light"
     },
     "output_type": "display_data"
    }
   ],
   "source": [
    "from sklearn.ensemble import GradientBoostingRegressor\n",
    "import matplotlib.pyplot as plt\n",
    "import seaborn as sns\n",
    "from sklearn.model_selection import GridSearchCV\n",
    "from sklearn.metrics import r2_score, mean_squared_error\n",
    "\n",
    "# GBM with cross-validation\n",
    "param_grid_gbm = {'n_estimators': [100, 200], 'learning_rate': [0.01, 0.1, 0.2], 'max_depth': [3, 5, 7]}\n",
    "grid_search_gbm = GridSearchCV(GradientBoostingRegressor(random_state=1), param_grid_gbm, cv=5, scoring='r2')\n",
    "grid_search_gbm.fit(X_train, y_train)\n",
    "cv_scores_gbm = cross_val_score(grid_search_gbm, X_train, y_train, cv=5, scoring='r2')\n",
    "y_pred_train_gbm = grid_search_gbm.predict(X_train)\n",
    "y_pred_test_gbm = grid_search_gbm.predict(X_test)\n",
    "\n",
    "# Best parameters for GBM\n",
    "best_params_gbm = grid_search_gbm.best_params_\n",
    "\n",
    "# Calculate R2 and MSE for training data\n",
    "r2_train_gbm = r2_score(y_train, y_pred_train_gbm)\n",
    "mse_train_gbm = mean_squared_error(y_train, y_pred_train_gbm)\n",
    "\n",
    "# Calculate R2 and MSE for testing data\n",
    "r2_test_gbm = r2_score(y_test, y_pred_test_gbm)\n",
    "mse_test_gbm = mean_squared_error(y_test, y_pred_test_gbm)\n",
    "\n",
    "r2_scores['GBM'] = r2_test_gbm\n",
    "mse_scores['GBM'] = mse_test_gbm\n",
    "\n",
    "r2_scores_train['GBM'] = r2_train_gbm\n",
    "mse_scores_train['GBM'] = mse_train_gbm\n",
    "\n",
    "print(f\"Cross-validated R2 scores for GBM: {cv_scores_gbm}\")\n",
    "print(f\"Training R2 score for GBM: {r2_train_gbm}\")\n",
    "print(f\"Testing R2 score for GBM: {r2_test_gbm}\")\n",
    "print(f\"Training MSE for GBM: {mse_train_gbm}\")\n",
    "print(f\"Testing MSE for GBM: {mse_test_gbm}\")\n",
    "print(f\"Best parameters for GBM: {best_params_gbm}\")\n",
    "\n",
    "# Plotting Actual vs Predicted for Testing Data\n",
    "y_test = np.array(y_test)\n",
    "fig = plt.figure(figsize = (10,6))\n",
    "t = np.arange(len(y_test))\n",
    "plt.plot(t, y_test, label = 'Actual Values', marker = 'o', color='blue')\n",
    "plt.plot(t, y_pred_test_gbm, label = 'Predicted Values', marker = '*', color='red')\n",
    "plt.title('GBM: Predicted values Vs Actual values' ,fontsize = 20)\n",
    "plt.xlabel('index',fontsize = 20)\n",
    "plt.ylabel('Values', fontsize = 20)\n",
    "plt.legend()\n",
    "\n",
    "plt.show()\n",
    "\n",
    "error = []\n",
    "er=0\n",
    "ind = 0\n",
    "for i in range(len(y_test)):\n",
    "    error.append(abs(y_test[i] - y_pred_test_gbm[i]))\n",
    "    if(abs(y_test[i] - y_pred_test_gbm[i]) > er):\n",
    "        er = abs(y_test[i] - y_pred_test_gbm[i])\n",
    "        ind = i\n",
    "        \n",
    "        fig = plt.figure(figsize = (10,6))\n",
    "t = np.arange(len(y_test))\n",
    "plt.plot(t, error, marker = '+')\n",
    "# plt.plot(t, y_pred_test_knn, label = 'Predicted Values')\n",
    "plt.title('GBM: Error between Predicted and Actual values' ,fontsize = 20)\n",
    "plt.xlabel('index',fontsize = 20)\n",
    "plt.ylabel('Values', fontsize = 20)\n",
    "plt.legend()\n",
    "\n",
    "plt.show()\n"
   ]
  },
  {
   "cell_type": "code",
   "execution_count": null,
   "id": "e248f40a",
   "metadata": {},
   "outputs": [],
   "source": []
  },
  {
   "cell_type": "code",
   "execution_count": null,
   "id": "1b819212",
   "metadata": {},
   "outputs": [],
   "source": []
  },
  {
   "cell_type": "code",
   "execution_count": 53,
   "id": "e2d09879",
   "metadata": {},
   "outputs": [
    {
     "name": "stderr",
     "output_type": "stream",
     "text": [
      "C:\\Users\\asus\\anaconda3\\lib\\site-packages\\sklearn\\base.py:450: UserWarning: X does not have valid feature names, but GradientBoostingRegressor was fitted with feature names\n",
      "  warnings.warn(\n"
     ]
    },
    {
     "data": {
      "text/plain": [
       "array([6.94102688])"
      ]
     },
     "execution_count": 53,
     "metadata": {},
     "output_type": "execute_result"
    }
   ],
   "source": [
    "grid_search_gbm.predict([[7,2.223,8.8380]])"
   ]
  },
  {
   "cell_type": "code",
   "execution_count": 54,
   "id": "d2d9a2fb",
   "metadata": {},
   "outputs": [
    {
     "name": "stderr",
     "output_type": "stream",
     "text": [
      "C:\\Users\\asus\\anaconda3\\lib\\site-packages\\sklearn\\base.py:450: UserWarning: X does not have valid feature names, but GradientBoostingRegressor was fitted with feature names\n",
      "  warnings.warn(\n"
     ]
    },
    {
     "data": {
      "text/plain": [
       "array([2.80732968])"
      ]
     },
     "execution_count": 54,
     "metadata": {},
     "output_type": "execute_result"
    }
   ],
   "source": [
    "grid_search_gbm.predict([[1,0.1814,3.667]])"
   ]
  },
  {
   "cell_type": "code",
   "execution_count": 55,
   "id": "c4665860",
   "metadata": {},
   "outputs": [
    {
     "name": "stderr",
     "output_type": "stream",
     "text": [
      "C:\\Users\\asus\\anaconda3\\lib\\site-packages\\sklearn\\base.py:450: UserWarning: X does not have valid feature names, but GradientBoostingRegressor was fitted with feature names\n",
      "  warnings.warn(\n"
     ]
    },
    {
     "data": {
      "text/plain": [
       "array([7.9687214])"
      ]
     },
     "execution_count": 55,
     "metadata": {},
     "output_type": "execute_result"
    }
   ],
   "source": [
    "grid_search_gbm.predict([[12,2.7465,10.633]])"
   ]
  },
  {
   "cell_type": "code",
   "execution_count": 56,
   "id": "c588d8b8",
   "metadata": {},
   "outputs": [],
   "source": [
    "# grid_search_gbm.predict([[7,2.223,8.8380, 5.461627]])"
   ]
  },
  {
   "cell_type": "code",
   "execution_count": 57,
   "id": "5ef2a363",
   "metadata": {},
   "outputs": [
    {
     "name": "stderr",
     "output_type": "stream",
     "text": [
      "C:\\Users\\asus\\anaconda3\\lib\\site-packages\\sklearn\\base.py:450: UserWarning: X does not have valid feature names, but GradientBoostingRegressor was fitted with feature names\n",
      "  warnings.warn(\n"
     ]
    },
    {
     "data": {
      "text/plain": [
       "array([5.64023049])"
      ]
     },
     "execution_count": 57,
     "metadata": {},
     "output_type": "execute_result"
    }
   ],
   "source": [
    "grid_search_gbm.predict([[1,0.1601,7.332]])"
   ]
  },
  {
   "cell_type": "code",
   "execution_count": 58,
   "id": "68e4c212",
   "metadata": {},
   "outputs": [
    {
     "name": "stderr",
     "output_type": "stream",
     "text": [
      "C:\\Users\\asus\\anaconda3\\lib\\site-packages\\sklearn\\base.py:450: UserWarning: X does not have valid feature names, but GradientBoostingRegressor was fitted with feature names\n",
      "  warnings.warn(\n"
     ]
    },
    {
     "data": {
      "text/plain": [
       "array([8.38689727])"
      ]
     },
     "execution_count": 58,
     "metadata": {},
     "output_type": "execute_result"
    }
   ],
   "source": [
    "grid_search_gbm.predict([[8,1.843,11.038]])"
   ]
  },
  {
   "cell_type": "code",
   "execution_count": 59,
   "id": "62e10d9f",
   "metadata": {},
   "outputs": [
    {
     "name": "stderr",
     "output_type": "stream",
     "text": [
      "C:\\Users\\asus\\anaconda3\\lib\\site-packages\\sklearn\\base.py:450: UserWarning: X does not have valid feature names, but GradientBoostingRegressor was fitted with feature names\n",
      "  warnings.warn(\n"
     ]
    },
    {
     "data": {
      "text/plain": [
       "array([0.43920139])"
      ]
     },
     "execution_count": 59,
     "metadata": {},
     "output_type": "execute_result"
    }
   ],
   "source": [
    "grid_search_gbm.predict([[6,0.086,0.3864]])"
   ]
  },
  {
   "cell_type": "code",
   "execution_count": 60,
   "id": "212e5ead",
   "metadata": {},
   "outputs": [
    {
     "name": "stderr",
     "output_type": "stream",
     "text": [
      "C:\\Users\\asus\\anaconda3\\lib\\site-packages\\sklearn\\base.py:450: UserWarning: X does not have valid feature names, but GradientBoostingRegressor was fitted with feature names\n",
      "  warnings.warn(\n"
     ]
    },
    {
     "data": {
      "text/plain": [
       "array([2.19721813])"
      ]
     },
     "execution_count": 60,
     "metadata": {},
     "output_type": "execute_result"
    }
   ],
   "source": [
    "grid_search_gbm.predict([[11,0.5135,2.9002]])"
   ]
  },
  {
   "cell_type": "code",
   "execution_count": null,
   "id": "9ed24759",
   "metadata": {},
   "outputs": [],
   "source": []
  },
  {
   "cell_type": "code",
   "execution_count": null,
   "id": "0514e716",
   "metadata": {},
   "outputs": [],
   "source": []
  },
  {
   "cell_type": "code",
   "execution_count": 61,
   "id": "8847e8b4",
   "metadata": {},
   "outputs": [
    {
     "name": "stdout",
     "output_type": "stream",
     "text": [
      "Cross-validated R2 scores for XGBoost: [0.99736857 0.9976939  0.99886817 0.9983409  0.99225199]\n",
      "Training R2 score for XGBoost: 0.9999997981467103\n",
      "Testing R2 score for XGBoost: 0.9924202199942797\n",
      "Training MSE for XGBoost: 4.704272363990876e-06\n",
      "Testing MSE for XGBoost: 0.08855989943832501\n",
      "Best parameters for XGBoost: {'learning_rate': 0.2, 'max_depth': 5, 'n_estimators': 200}\n"
     ]
    },
    {
     "data": {
      "image/png": "[encoded data removed]",
      "text/plain": [
       "<Figure size 720x432 with 1 Axes>"
      ]
     },
     "metadata": {
      "needs_background": "light"
     },
     "output_type": "display_data"
    },
    {
     "name": "stderr",
     "output_type": "stream",
     "text": [
      "No artists with labels found to put in legend.  Note that artists whose label start with an underscore are ignored when legend() is called with no argument.\n"
     ]
    },
    {
     "data": {
      "text/plain": [
       "<Figure size 720x432 with 0 Axes>"
      ]
     },
     "metadata": {},
     "output_type": "display_data"
    },
    {
     "data": {
      "text/plain": [
       "<Figure size 720x432 with 0 Axes>"
      ]
     },
     "metadata": {},
     "output_type": "display_data"
    },
    {
     "data": {
      "text/plain": [
       "<Figure size 720x432 with 0 Axes>"
      ]
     },
     "metadata": {},
     "output_type": "display_data"
    },
    {
     "data": {
      "text/plain": [
       "<Figure size 720x432 with 0 Axes>"
      ]
     },
     "metadata": {},
     "output_type": "display_data"
    },
    {
     "data": {
      "text/plain": [
       "<Figure size 720x432 with 0 Axes>"
      ]
     },
     "metadata": {},
     "output_type": "display_data"
    },
    {
     "data": {
      "image/png": "[encoded data removed]",
      "text/plain": [
       "<Figure size 720x432 with 1 Axes>"
      ]
     },
     "metadata": {
      "needs_background": "light"
     },
     "output_type": "display_data"
    }
   ],
   "source": [
    "import xgboost as xgb\n",
    "import matplotlib.pyplot as plt\n",
    "import seaborn as sns\n",
    "from sklearn.model_selection import GridSearchCV\n",
    "from sklearn.metrics import r2_score, mean_squared_error\n",
    "\n",
    "# XGBoost with cross-validation\n",
    "param_grid_xgb = {'max_depth': [3, 5, 7], 'learning_rate': [0.01, 0.1, 0.2], 'n_estimators': [100, 200]}\n",
    "grid_search_xgb = GridSearchCV(xgb.XGBRegressor(random_state=1), param_grid_xgb, cv=5, scoring='r2')\n",
    "grid_search_xgb.fit(X_train, y_train)\n",
    "cv_scores_xgb = cross_val_score(grid_search_xgb, X_train, y_train, cv=5, scoring='r2')\n",
    "y_pred_train_xgb = grid_search_xgb.predict(X_train)\n",
    "y_pred_test_xgb = grid_search_xgb.predict(X_test)\n",
    "\n",
    "# Best parameters for XGBoost\n",
    "best_params_xgb = grid_search_xgb.best_params_\n",
    "\n",
    "# Calculate R2 and MSE for training data\n",
    "r2_train_xgb = r2_score(y_train, y_pred_train_xgb)\n",
    "mse_train_xgb = mean_squared_error(y_train, y_pred_train_xgb)\n",
    "\n",
    "# Calculate R2 and MSE for testing data\n",
    "r2_test_xgb = r2_score(y_test, y_pred_test_xgb)\n",
    "mse_test_xgb = mean_squared_error(y_test, y_pred_test_xgb)\n",
    "\n",
    "r2_scores['XGBoost'] = r2_test_xgb\n",
    "mse_scores['XGBoost'] = mse_test_xgb\n",
    "\n",
    "r2_scores_train['XGBoost'] = r2_train_xgb\n",
    "mse_scores_train['XGBoost'] = mse_train_xgb\n",
    "\n",
    "print(f\"Cross-validated R2 scores for XGBoost: {cv_scores_xgb}\")\n",
    "print(f\"Training R2 score for XGBoost: {r2_train_xgb}\")\n",
    "print(f\"Testing R2 score for XGBoost: {r2_test_xgb}\")\n",
    "print(f\"Training MSE for XGBoost: {mse_train_xgb}\")\n",
    "print(f\"Testing MSE for XGBoost: {mse_test_xgb}\")\n",
    "print(f\"Best parameters for XGBoost: {best_params_xgb}\")\n",
    "\n",
    "# Plotting Actual vs Predicted for Testing Data\n",
    "y_test = np.array(y_test)\n",
    "fig = plt.figure(figsize = (10,6))\n",
    "t = np.arange(len(y_test))\n",
    "plt.plot(t, y_test, label = 'Actual Values', marker = 'o', color='blue')\n",
    "plt.plot(t, y_pred_test_xgb, label = 'Predicted Values', marker = '*', color='red')\n",
    "plt.title('Xgb: Predicted values Vs Actual values' ,fontsize = 20)\n",
    "plt.xlabel('index',fontsize = 20)\n",
    "plt.ylabel('Values', fontsize = 20)\n",
    "plt.legend()\n",
    "\n",
    "plt.show()\n",
    "\n",
    "error = []\n",
    "er=0\n",
    "ind = 0\n",
    "for i in range(len(y_test)):\n",
    "    error.append(abs(y_test[i] - y_pred_test_xgb[i]))\n",
    "    if(abs(y_test[i] - y_pred_test_xgb[i]) > er):\n",
    "        er = abs(y_test[i] - y_pred_test_xgb[i])\n",
    "        ind = i\n",
    "        \n",
    "        fig = plt.figure(figsize = (10,6))\n",
    "t = np.arange(len(y_test))\n",
    "plt.plot(t, error, marker = '+',  color='red')\n",
    "# plt.plot(t, y_pred_test_knn, label = 'Predicted Values')\n",
    "plt.title('Xgb: Error between Predicted and Actual values' ,fontsize = 20)\n",
    "plt.xlabel('index',fontsize = 20)\n",
    "plt.ylabel('Values', fontsize = 20)\n",
    "plt.legend()\n",
    "\n",
    "plt.show()\n"
   ]
  },
  {
   "cell_type": "code",
   "execution_count": 62,
   "id": "c4ef9e63",
   "metadata": {},
   "outputs": [
    {
     "data": {
      "text/plain": [
       "array([6.413296], dtype=float32)"
      ]
     },
     "execution_count": 62,
     "metadata": {},
     "output_type": "execute_result"
    }
   ],
   "source": [
    "grid_search_xgb.predict([[7,2.223,8.8380]])"
   ]
  },
  {
   "cell_type": "code",
   "execution_count": 63,
   "id": "815434a3",
   "metadata": {},
   "outputs": [
    {
     "data": {
      "text/plain": [
       "array([2.683207], dtype=float32)"
      ]
     },
     "execution_count": 63,
     "metadata": {},
     "output_type": "execute_result"
    }
   ],
   "source": [
    "grid_search_xgb.predict([[1,0.1814,3.667]])"
   ]
  },
  {
   "cell_type": "code",
   "execution_count": 64,
   "id": "bbd5c9c4",
   "metadata": {},
   "outputs": [
    {
     "data": {
      "text/plain": [
       "array([8.328995], dtype=float32)"
      ]
     },
     "execution_count": 64,
     "metadata": {},
     "output_type": "execute_result"
    }
   ],
   "source": [
    "grid_search_xgb.predict([[12,1.867,11.038]])"
   ]
  },
  {
   "cell_type": "code",
   "execution_count": 65,
   "id": "a4214b78",
   "metadata": {},
   "outputs": [
    {
     "data": {
      "text/plain": [
       "array([5.477797], dtype=float32)"
      ]
     },
     "execution_count": 65,
     "metadata": {},
     "output_type": "execute_result"
    }
   ],
   "source": [
    "grid_search_xgb.predict([[1,0.1601,7.332]])"
   ]
  },
  {
   "cell_type": "code",
   "execution_count": 66,
   "id": "194845b6",
   "metadata": {},
   "outputs": [
    {
     "data": {
      "text/plain": [
       "array([8.339022], dtype=float32)"
      ]
     },
     "execution_count": 66,
     "metadata": {},
     "output_type": "execute_result"
    }
   ],
   "source": [
    "grid_search_xgb.predict([[8,1.843,11.038]])"
   ]
  },
  {
   "cell_type": "code",
   "execution_count": 67,
   "id": "03f7d1cf",
   "metadata": {},
   "outputs": [
    {
     "data": {
      "text/plain": [
       "array([0.3850365], dtype=float32)"
      ]
     },
     "execution_count": 67,
     "metadata": {},
     "output_type": "execute_result"
    }
   ],
   "source": [
    "grid_search_xgb.predict([[6,0.086,0.3864]])"
   ]
  },
  {
   "cell_type": "code",
   "execution_count": 68,
   "id": "dc114b50",
   "metadata": {},
   "outputs": [
    {
     "data": {
      "text/plain": [
       "array([2.214713], dtype=float32)"
      ]
     },
     "execution_count": 68,
     "metadata": {},
     "output_type": "execute_result"
    }
   ],
   "source": [
    "grid_search_xgb.predict([[11,0.5135,2.9002]])"
   ]
  },
  {
   "cell_type": "code",
   "execution_count": null,
   "id": "845c5631",
   "metadata": {},
   "outputs": [],
   "source": []
  },
  {
   "cell_type": "code",
   "execution_count": null,
   "id": "62efcab9",
   "metadata": {},
   "outputs": [],
   "source": []
  },
  {
   "cell_type": "code",
   "execution_count": null,
   "id": "01a54747",
   "metadata": {},
   "outputs": [],
   "source": []
  },
  {
   "cell_type": "code",
   "execution_count": 69,
   "id": "582ae770",
   "metadata": {},
   "outputs": [
    {
     "data": {
      "text/plain": [
       "{'KNN': 1.0,\n",
       " 'SVR': 0.9999905622982476,\n",
       " 'Decision Tree': 0.9999999224268875,\n",
       " 'Random Forest': 0.999897653083293,\n",
       " 'GBM': 0.9999995140709484,\n",
       " 'XGBoost': 0.9999997981467103}"
      ]
     },
     "execution_count": 69,
     "metadata": {},
     "output_type": "execute_result"
    }
   ],
   "source": [
    "r2_scores_train"
   ]
  },
  {
   "cell_type": "code",
   "execution_count": 70,
   "id": "d5df5701",
   "metadata": {},
   "outputs": [
    {
     "data": {
      "text/plain": [
       "{'KNN': 0.0,\n",
       " 'SVR': 0.00021994944732985108,\n",
       " 'Decision Tree': 1.8078726865209629e-06,\n",
       " 'Random Forest': 0.002385236189502843,\n",
       " 'GBM': 1.132477261323836e-05,\n",
       " 'XGBoost': 4.704272363990876e-06}"
      ]
     },
     "execution_count": 70,
     "metadata": {},
     "output_type": "execute_result"
    }
   ],
   "source": [
    "mse_scores_train"
   ]
  },
  {
   "cell_type": "code",
   "execution_count": 71,
   "id": "bd04fb4b",
   "metadata": {},
   "outputs": [
    {
     "data": {
      "text/plain": [
       "{'KNN': 0.994701081086562,\n",
       " 'SVR': 0.999985310691379,\n",
       " 'Decision Tree': 0.9975720945299711,\n",
       " 'Random Forest': 0.9977045398088688,\n",
       " 'GBM': 0.9978162345460659,\n",
       " 'XGBoost': 0.9924202199942797}"
      ]
     },
     "execution_count": 71,
     "metadata": {},
     "output_type": "execute_result"
    }
   ],
   "source": [
    "r2_scores"
   ]
  },
  {
   "cell_type": "code",
   "execution_count": 72,
   "id": "5596f594",
   "metadata": {},
   "outputs": [
    {
     "data": {
      "text/plain": [
       "{'KNN': 0.06191099553704217,\n",
       " 'SVR': 0.00017162552123124123,\n",
       " 'Decision Tree': 0.028366926758989386,\n",
       " 'Random Forest': 0.02681947543831729,\n",
       " 'GBM': 0.025514467286826232,\n",
       " 'XGBoost': 0.08855989943832501}"
      ]
     },
     "execution_count": 72,
     "metadata": {},
     "output_type": "execute_result"
    }
   ],
   "source": [
    "mse_scores"
   ]
  },
  {
   "cell_type": "code",
   "execution_count": 73,
   "id": "c2796fa0",
   "metadata": {},
   "outputs": [
    {
     "data": {
      "text/plain": [
       "{'KNN': 0.994701081086562,\n",
       " 'SVR': 0.999985310691379,\n",
       " 'Decision Tree': 0.9975720945299711,\n",
       " 'Random Forest': 0.9977045398088688,\n",
       " 'GBM': 0.9978162345460659,\n",
       " 'XGBoost': 0.9924202199942797}"
      ]
     },
     "execution_count": 73,
     "metadata": {},
     "output_type": "execute_result"
    }
   ],
   "source": [
    "r2_scores_test = r2_scores\n",
    "r2_scores_test"
   ]
  },
  {
   "cell_type": "code",
   "execution_count": 74,
   "id": "76a473a1",
   "metadata": {},
   "outputs": [
    {
     "data": {
      "text/plain": [
       "{'KNN': 0.06191099553704217,\n",
       " 'SVR': 0.00017162552123124123,\n",
       " 'Decision Tree': 0.028366926758989386,\n",
       " 'Random Forest': 0.02681947543831729,\n",
       " 'GBM': 0.025514467286826232,\n",
       " 'XGBoost': 0.08855989943832501}"
      ]
     },
     "execution_count": 74,
     "metadata": {},
     "output_type": "execute_result"
    }
   ],
   "source": [
    "mse_scores_test = mse_scores\n",
    "mse_scores_test"
   ]
  },
  {
   "cell_type": "code",
   "execution_count": 75,
   "id": "49176bc6",
   "metadata": {},
   "outputs": [
    {
     "data": {
      "image/png": "[encoded data removed]",
      "text/plain": [
       "<Figure size 1008x576 with 1 Axes>"
      ]
     },
     "metadata": {
      "needs_background": "light"
     },
     "output_type": "display_data"
    }
   ],
   "source": [
    "import pandas as pd\n",
    "import seaborn as sns\n",
    "import matplotlib.pyplot as plt\n",
    "\n",
    "# Assuming r2_scores_train and r2_scores_test are defined\n",
    "# Creating a DataFrame from the dictionaries\n",
    "r2_df = pd.DataFrame({\n",
    "    'Model': list(r2_scores_train.keys()),\n",
    "    'Training R2 Score': [val * 100 for val in r2_scores_train.values()],\n",
    "    'Testing R2 Score': [val * 100 for val in r2_scores_test.values()]\n",
    "})\n",
    "\n",
    "# Melt the DataFrame to have a suitable format for seaborn's barplot\n",
    "r2_df_melted = r2_df.melt(id_vars='Model', value_vars=['Training R2 Score', 'Testing R2 Score'], \n",
    "                          var_name='Dataset', value_name='R2 Score (%)')\n",
    "\n",
    "# Plotting the R2 scores side by side\n",
    "plt.figure(figsize=(14, 8))\n",
    "barplot = sns.barplot(x='Model', y='R2 Score (%)', hue='Dataset', data=r2_df_melted, palette=['tomato', 'dodgerblue'])\n",
    "\n",
    "# Adding exact R2 scores in percentage format on bars\n",
    "for p in barplot.patches:\n",
    "    barplot.annotate(f'{p.get_height():.3f}%', \n",
    "                     (p.get_x() + p.get_width() / 2., p.get_height()), \n",
    "                     ha='center', va='center', \n",
    "                     xytext=(0, 10), \n",
    "                     textcoords='offset points', \n",
    "                     fontsize=10, color='black', fontweight='bold')\n",
    "\n",
    "# Setting bold font for axis labels and title\n",
    "plt.ylabel('R2 Score (%)', fontsize=14, fontweight='bold')\n",
    "plt.xlabel('Model', fontsize=14, fontweight='bold')\n",
    "plt.title('Training and Testing R2 Score Comparison of Different Regression Models', fontsize=16, fontweight='bold')\n",
    "\n",
    "# Rotating x-axis labels and making them bold\n",
    "plt.xticks(rotation=45, fontsize=12, fontweight='bold')\n",
    "plt.yticks(fontsize=12, fontweight='bold')\n",
    "\n",
    "# Set y-axis limit from 0 to 130 for percentage representation\n",
    "plt.ylim(0, 130)\n",
    "\n",
    "plt.show()\n"
   ]
  },
  {
   "cell_type": "code",
   "execution_count": 76,
   "id": "456ed5d9",
   "metadata": {},
   "outputs": [
    {
     "data": {
      "image/png": "[encoded data removed]",
      "text/plain": [
       "<Figure size 1008x576 with 1 Axes>"
      ]
     },
     "metadata": {
      "needs_background": "light"
     },
     "output_type": "display_data"
    }
   ],
   "source": [
    "import pandas as pd\n",
    "import seaborn as sns\n",
    "import matplotlib.pyplot as plt\n",
    "\n",
    "# Assuming mse_scores_train and mse_scores_test are defined\n",
    "# Creating a DataFrame from the dictionaries\n",
    "mse_df = pd.DataFrame({\n",
    "    'Model': list(mse_scores_train.keys()),\n",
    "    'Training MSE': list(mse_scores_train.values()),\n",
    "    'Testing MSE': list(mse_scores_test.values())\n",
    "})\n",
    "\n",
    "# Melt the DataFrame to have a suitable format for seaborn's barplot\n",
    "mse_df_melted = mse_df.melt(id_vars='Model', value_vars=['Training MSE', 'Testing MSE'], \n",
    "                            var_name='Dataset', value_name='MSE')\n",
    "\n",
    "# Plotting the MSE scores side by side\n",
    "plt.figure(figsize=(14, 8))\n",
    "barplot = sns.barplot(x='Model', y='MSE', hue='Dataset', data=mse_df_melted, palette=['tomato', 'dodgerblue'])\n",
    "\n",
    "# Adding exact MSE scores on bars\n",
    "for p in barplot.patches:\n",
    "    barplot.annotate(f'{p.get_height():.6f}', \n",
    "                     (p.get_x() + p.get_width() / 2., p.get_height()), \n",
    "                     ha='center', va='center', \n",
    "                     xytext=(0, 10), \n",
    "                     textcoords='offset points', \n",
    "                     fontsize=10, color='black', fontweight='bold')\n",
    "\n",
    "# Setting bold font for axis labels and title\n",
    "plt.ylabel('MSE', fontsize=14, fontweight='bold')\n",
    "plt.xlabel('Model', fontsize=14, fontweight='bold')\n",
    "plt.title('Training and Testing MSE Comparison of Different Regression Models', fontsize=16, fontweight='bold')\n",
    "\n",
    "# Rotating x-axis labels and making them bold\n",
    "plt.xticks(rotation=45, fontsize=12, fontweight='bold')\n",
    "plt.yticks(fontsize=12, fontweight='bold')\n",
    "\n",
    "# Set y-axis limit for better visualization\n",
    "plt.ylim(0, max(max(mse_scores_train.values()), max(mse_scores_test.values())) * 1.1)\n",
    "\n",
    "plt.show()\n"
   ]
  },
  {
   "cell_type": "code",
   "execution_count": 77,
   "id": "f0c53932",
   "metadata": {},
   "outputs": [],
   "source": [
    "# # Plotting R2 Score Comparison with bars in percentage format\n",
    "# plt.figure(figsize=(12, 8))\n",
    "# barplot = sns.barplot(x=list(r2_scores.keys()), y=[val * 100 for val in r2_scores.values()], palette='viridis')\n",
    "# plt.ylabel('R2 Score (%)')\n",
    "# plt.title('R2 Score Comparison of Different Regression Models')\n",
    "\n",
    "# # Adding exact R2 scores in percentage format on bars\n",
    "# for idx, val in enumerate(r2_scores.values()):\n",
    "#     barplot.text(idx, val * 100 + 1, f'{val * 100:.3f}%', ha='center', color='black', fontsize=10)\n",
    "\n",
    "# plt.xticks(rotation=45)\n",
    "# plt.ylim(0, 110)  # Set y-axis limit from 0 to 110 for percentage representation\n",
    "# plt.show()\n"
   ]
  },
  {
   "cell_type": "code",
   "execution_count": 78,
   "id": "08c0adfb",
   "metadata": {},
   "outputs": [],
   "source": [
    "# # Plotting MSE Score Comparison with bars in absolute format\n",
    "# plt.figure(figsize=(12, 8))\n",
    "# barplot_mse = sns.barplot(x=list(mse_scores.keys()), y=list(mse_scores.values()), palette='viridis')\n",
    "# plt.ylabel('MSE Score')\n",
    "# plt.title('MSE Score Comparison of Different Regression Models')\n",
    "\n",
    "# # Adding exact MSE scores on top of bars\n",
    "# for idx, val in enumerate(mse_scores.values()):\n",
    "#     barplot_mse.text(idx, val + 0.001, f'{val:.5f}', ha='center', color='black', fontsize=10)\n",
    "\n",
    "# plt.xticks(rotation=45)\n",
    "# plt.ylim(0, 0.025)  # Set y-axis limit from 0 to 0.025 for MSE scores\n",
    "# plt.show()\n"
   ]
  },
  {
   "cell_type": "code",
   "execution_count": 79,
   "id": "54f4d968",
   "metadata": {},
   "outputs": [
    {
     "data": {
      "text/html": [
       "<div>\n",
       "<style scoped>\n",
       "    .dataframe tbody tr th:only-of-type {\n",
       "        vertical-align: middle;\n",
       "    }\n",
       "\n",
       "    .dataframe tbody tr th {\n",
       "        vertical-align: top;\n",
       "    }\n",
       "\n",
       "    .dataframe thead th {\n",
       "        text-align: right;\n",
       "    }\n",
       "</style>\n",
       "<table border=\"1\" class=\"dataframe\">\n",
       "  <thead>\n",
       "    <tr style=\"text-align: right;\">\n",
       "      <th></th>\n",
       "      <th>Relay Height</th>\n",
       "      <th>Amplitude</th>\n",
       "      <th>Time Period</th>\n",
       "      <th>Time Constant</th>\n",
       "      <th>Delay</th>\n",
       "    </tr>\n",
       "  </thead>\n",
       "  <tbody>\n",
       "    <tr>\n",
       "      <th>0</th>\n",
       "      <td>6.0</td>\n",
       "      <td>0.0655</td>\n",
       "      <td>2.5988</td>\n",
       "      <td>48.241712</td>\n",
       "      <td>1.959681</td>\n",
       "    </tr>\n",
       "    <tr>\n",
       "      <th>1</th>\n",
       "      <td>6.0</td>\n",
       "      <td>0.0830</td>\n",
       "      <td>2.7200</td>\n",
       "      <td>39.844859</td>\n",
       "      <td>2.054050</td>\n",
       "    </tr>\n",
       "    <tr>\n",
       "      <th>2</th>\n",
       "      <td>6.0</td>\n",
       "      <td>0.0960</td>\n",
       "      <td>2.8004</td>\n",
       "      <td>35.466772</td>\n",
       "      <td>2.117041</td>\n",
       "    </tr>\n",
       "    <tr>\n",
       "      <th>3</th>\n",
       "      <td>6.0</td>\n",
       "      <td>0.0840</td>\n",
       "      <td>2.8240</td>\n",
       "      <td>40.875800</td>\n",
       "      <td>2.132764</td>\n",
       "    </tr>\n",
       "    <tr>\n",
       "      <th>4</th>\n",
       "      <td>6.0</td>\n",
       "      <td>0.0625</td>\n",
       "      <td>2.8216</td>\n",
       "      <td>54.891868</td>\n",
       "      <td>2.127160</td>\n",
       "    </tr>\n",
       "    <tr>\n",
       "      <th>...</th>\n",
       "      <td>...</td>\n",
       "      <td>...</td>\n",
       "      <td>...</td>\n",
       "      <td>...</td>\n",
       "      <td>...</td>\n",
       "    </tr>\n",
       "    <tr>\n",
       "      <th>191</th>\n",
       "      <td>12.0</td>\n",
       "      <td>0.3530</td>\n",
       "      <td>18.4440</td>\n",
       "      <td>127.028622</td>\n",
       "      <td>14.036070</td>\n",
       "    </tr>\n",
       "    <tr>\n",
       "      <th>192</th>\n",
       "      <td>12.0</td>\n",
       "      <td>0.2600</td>\n",
       "      <td>20.3600</td>\n",
       "      <td>190.405133</td>\n",
       "      <td>15.434983</td>\n",
       "    </tr>\n",
       "    <tr>\n",
       "      <th>193</th>\n",
       "      <td>12.0</td>\n",
       "      <td>0.2770</td>\n",
       "      <td>21.5952</td>\n",
       "      <td>189.558470</td>\n",
       "      <td>16.382866</td>\n",
       "    </tr>\n",
       "    <tr>\n",
       "      <th>194</th>\n",
       "      <td>12.0</td>\n",
       "      <td>0.3115</td>\n",
       "      <td>22.1608</td>\n",
       "      <td>172.971370</td>\n",
       "      <td>16.835846</td>\n",
       "    </tr>\n",
       "    <tr>\n",
       "      <th>195</th>\n",
       "      <td>12.0</td>\n",
       "      <td>0.2635</td>\n",
       "      <td>23.1928</td>\n",
       "      <td>214.015430</td>\n",
       "      <td>17.585075</td>\n",
       "    </tr>\n",
       "  </tbody>\n",
       "</table>\n",
       "<p>196 rows × 5 columns</p>\n",
       "</div>"
      ],
      "text/plain": [
       "     Relay Height  Amplitude  Time Period  Time Constant      Delay\n",
       "0             6.0     0.0655       2.5988      48.241712   1.959681\n",
       "1             6.0     0.0830       2.7200      39.844859   2.054050\n",
       "2             6.0     0.0960       2.8004      35.466772   2.117041\n",
       "3             6.0     0.0840       2.8240      40.875800   2.132764\n",
       "4             6.0     0.0625       2.8216      54.891868   2.127160\n",
       "..            ...        ...          ...            ...        ...\n",
       "191          12.0     0.3530      18.4440     127.028622  14.036070\n",
       "192          12.0     0.2600      20.3600     190.405133  15.434983\n",
       "193          12.0     0.2770      21.5952     189.558470  16.382866\n",
       "194          12.0     0.3115      22.1608     172.971370  16.835846\n",
       "195          12.0     0.2635      23.1928     214.015430  17.585075\n",
       "\n",
       "[196 rows x 5 columns]"
      ]
     },
     "execution_count": 79,
     "metadata": {},
     "output_type": "execute_result"
    }
   ],
   "source": [
    "data"
   ]
  },
  {
   "cell_type": "code",
   "execution_count": null,
   "id": "44de9460",
   "metadata": {},
   "outputs": [],
   "source": []
  },
  {
   "cell_type": "code",
   "execution_count": null,
   "id": "b469bf4f",
   "metadata": {},
   "outputs": [],
   "source": []
  },
  {
   "cell_type": "code",
   "execution_count": null,
   "id": "1993821a",
   "metadata": {},
   "outputs": [],
   "source": []
  }
 ],
 "metadata": {
  "kernelspec": {
   "display_name": "Python 3 (ipykernel)",
   "language": "python",
   "name": "python3"
  },
  "language_info": {
   "codemirror_mode": {
    "name": "ipython",
    "version": 3
   },
   "file_extension": ".py",
   "mimetype": "text/x-python",
   "name": "python",
   "nbconvert_exporter": "python",
   "pygments_lexer": "ipython3",
   "version": "3.9.12"
  }
 },
 "nbformat": 4,
 "nbformat_minor": 5
}
